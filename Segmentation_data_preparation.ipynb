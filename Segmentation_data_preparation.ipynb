{
 "cells": [
  {
   "cell_type": "code",
   "id": "initial_id",
   "metadata": {
    "collapsed": true,
    "ExecuteTime": {
     "end_time": "2025-01-04T16:54:41.306981Z",
     "start_time": "2025-01-04T16:54:41.302974Z"
    }
   },
   "source": [
    "config_blob = \"\"\"{\n",
    "    \"name\": \"czii_cryoet_mlchallenge_2024\",\n",
    "    \"description\": \"2024 CZII CryoET ML Challenge training data.\",\n",
    "    \"version\": \"1.0.0\",\n",
    "\n",
    "    \"pickable_objects\": [\n",
    "        {\n",
    "            \"name\": \"apo-ferritin\",\n",
    "            \"is_particle\": true,\n",
    "            \"pdb_id\": \"4V1W\",\n",
    "            \"label\": 1,\n",
    "            \"color\": [  0, 117, 220, 128],\n",
    "            \"radius\": 60,\n",
    "            \"map_threshold\": 0.0418\n",
    "        },\n",
    "        {\n",
    "            \"name\": \"beta-amylase\",\n",
    "            \"is_particle\": true,\n",
    "            \"pdb_id\": \"1FA2\",\n",
    "            \"label\": 2,\n",
    "            \"color\": [153,  63,   0, 128],\n",
    "            \"radius\": 65,\n",
    "            \"map_threshold\": 0.035\n",
    "        },\n",
    "        {\n",
    "            \"name\": \"beta-galactosidase\",\n",
    "            \"is_particle\": true,\n",
    "            \"pdb_id\": \"6X1Q\",\n",
    "            \"label\": 3,\n",
    "            \"color\": [ 76,   0,  92, 128],\n",
    "            \"radius\": 90,\n",
    "            \"map_threshold\": 0.0578\n",
    "        },\n",
    "        {\n",
    "            \"name\": \"ribosome\",\n",
    "            \"is_particle\": true,\n",
    "            \"pdb_id\": \"6EK0\",\n",
    "            \"label\": 4,\n",
    "            \"color\": [  0,  92,  49, 128],\n",
    "            \"radius\": 150,\n",
    "            \"map_threshold\": 0.0374\n",
    "        },\n",
    "        {\n",
    "            \"name\": \"thyroglobulin\",\n",
    "            \"is_particle\": true,\n",
    "            \"pdb_id\": \"6SCJ\",\n",
    "            \"label\": 5,\n",
    "            \"color\": [ 43, 206,  72, 128],\n",
    "            \"radius\": 130,\n",
    "            \"map_threshold\": 0.0278\n",
    "        },\n",
    "        {\n",
    "            \"name\": \"virus-like-particle\",\n",
    "            \"is_particle\": true,\n",
    "            \"label\": 6,\n",
    "            \"color\": [255, 204, 153, 128],\n",
    "            \"radius\": 135,\n",
    "            \"map_threshold\": 0.201\n",
    "        },\n",
    "        {\n",
    "            \"name\": \"membrane\",\n",
    "            \"is_particle\": false,\n",
    "            \"label\": 7,\n",
    "            \"color\": [100, 100, 100, 128]\n",
    "        }\n",
    "\n",
    "    ],\n",
    "\n",
    "    \"overlay_root\": \"working/overlay\",\n",
    "\n",
    "    \"overlay_fs_args\": {\n",
    "        \"auto_mkdir\": true\n",
    "    },\n",
    "\n",
    "    \"static_root\": \"Extracted_Data/train/static\"\n",
    "}\"\"\"\n",
    "\n",
    "copick_config_path = \"working/copick.json\"\n",
    "output_overlay = \"working/overlay\"\n",
    "\n",
    "with open(copick_config_path, \"w\") as f:\n",
    "    f.write(config_blob)\n"
   ],
   "outputs": [],
   "execution_count": 21
  },
  {
   "metadata": {
    "ExecuteTime": {
     "end_time": "2025-01-04T16:54:41.764500Z",
     "start_time": "2025-01-04T16:54:41.756840Z"
    }
   },
   "cell_type": "code",
   "source": [
    "import os\n",
    "import shutil\n",
    "\n",
    "# Define source and destination directories\n",
    "source_dir = 'Extracted_Data/train/overlay'\n",
    "destination_dir = 'working/overlay'\n",
    "\n",
    "# Walk through the source directory\n",
    "for root, dirs, files in os.walk(source_dir):\n",
    "    # Create corresponding subdirectories in the destination\n",
    "    relative_path = os.path.relpath(root, source_dir)\n",
    "    target_dir = os.path.join(destination_dir, relative_path)\n",
    "    os.makedirs(target_dir, exist_ok=True)\n",
    "\n",
    "    # Copy and rename each file\n",
    "    for file in files:\n",
    "        if file.startswith(\"curation_0_\"):\n",
    "            new_filename = file\n",
    "        else:\n",
    "            new_filename = f\"curation_0_{file}\"\n",
    "\n",
    "\n",
    "        # Define full paths for the source and destination files\n",
    "        source_file = os.path.join(root, file)\n",
    "        destination_file = os.path.join(target_dir, new_filename)\n",
    "\n",
    "        # Copy the file with the new name\n",
    "        shutil.copy2(source_file, destination_file)\n",
    "        print(f\"Copied {source_file} to {destination_file}\")\n"
   ],
   "id": "325528b332518b48",
   "outputs": [
    {
     "name": "stdout",
     "output_type": "stream",
     "text": [
      "Copied Extracted_Data/train/overlay/ExperimentRuns/TS_73_6/Picks/ribosome.json to working/overlay/ExperimentRuns/TS_73_6/Picks/curation_0_ribosome.json\n",
      "Copied Extracted_Data/train/overlay/ExperimentRuns/TS_73_6/Picks/thyroglobulin.json to working/overlay/ExperimentRuns/TS_73_6/Picks/curation_0_thyroglobulin.json\n",
      "Copied Extracted_Data/train/overlay/ExperimentRuns/TS_73_6/Picks/virus-like-particle.json to working/overlay/ExperimentRuns/TS_73_6/Picks/curation_0_virus-like-particle.json\n",
      "Copied Extracted_Data/train/overlay/ExperimentRuns/TS_73_6/Picks/beta-galactosidase.json to working/overlay/ExperimentRuns/TS_73_6/Picks/curation_0_beta-galactosidase.json\n",
      "Copied Extracted_Data/train/overlay/ExperimentRuns/TS_73_6/Picks/apo-ferritin.json to working/overlay/ExperimentRuns/TS_73_6/Picks/curation_0_apo-ferritin.json\n",
      "Copied Extracted_Data/train/overlay/ExperimentRuns/TS_73_6/Picks/beta-amylase.json to working/overlay/ExperimentRuns/TS_73_6/Picks/curation_0_beta-amylase.json\n",
      "Copied Extracted_Data/train/overlay/ExperimentRuns/TS_5_4/Picks/ribosome.json to working/overlay/ExperimentRuns/TS_5_4/Picks/curation_0_ribosome.json\n",
      "Copied Extracted_Data/train/overlay/ExperimentRuns/TS_5_4/Picks/thyroglobulin.json to working/overlay/ExperimentRuns/TS_5_4/Picks/curation_0_thyroglobulin.json\n",
      "Copied Extracted_Data/train/overlay/ExperimentRuns/TS_5_4/Picks/virus-like-particle.json to working/overlay/ExperimentRuns/TS_5_4/Picks/curation_0_virus-like-particle.json\n",
      "Copied Extracted_Data/train/overlay/ExperimentRuns/TS_5_4/Picks/beta-galactosidase.json to working/overlay/ExperimentRuns/TS_5_4/Picks/curation_0_beta-galactosidase.json\n",
      "Copied Extracted_Data/train/overlay/ExperimentRuns/TS_5_4/Picks/apo-ferritin.json to working/overlay/ExperimentRuns/TS_5_4/Picks/curation_0_apo-ferritin.json\n",
      "Copied Extracted_Data/train/overlay/ExperimentRuns/TS_5_4/Picks/beta-amylase.json to working/overlay/ExperimentRuns/TS_5_4/Picks/curation_0_beta-amylase.json\n",
      "Copied Extracted_Data/train/overlay/ExperimentRuns/TS_6_6/Picks/ribosome.json to working/overlay/ExperimentRuns/TS_6_6/Picks/curation_0_ribosome.json\n",
      "Copied Extracted_Data/train/overlay/ExperimentRuns/TS_6_6/Picks/thyroglobulin.json to working/overlay/ExperimentRuns/TS_6_6/Picks/curation_0_thyroglobulin.json\n",
      "Copied Extracted_Data/train/overlay/ExperimentRuns/TS_6_6/Picks/virus-like-particle.json to working/overlay/ExperimentRuns/TS_6_6/Picks/curation_0_virus-like-particle.json\n",
      "Copied Extracted_Data/train/overlay/ExperimentRuns/TS_6_6/Picks/beta-galactosidase.json to working/overlay/ExperimentRuns/TS_6_6/Picks/curation_0_beta-galactosidase.json\n",
      "Copied Extracted_Data/train/overlay/ExperimentRuns/TS_6_6/Picks/apo-ferritin.json to working/overlay/ExperimentRuns/TS_6_6/Picks/curation_0_apo-ferritin.json\n",
      "Copied Extracted_Data/train/overlay/ExperimentRuns/TS_6_6/Picks/beta-amylase.json to working/overlay/ExperimentRuns/TS_6_6/Picks/curation_0_beta-amylase.json\n",
      "Copied Extracted_Data/train/overlay/ExperimentRuns/TS_6_4/Picks/ribosome.json to working/overlay/ExperimentRuns/TS_6_4/Picks/curation_0_ribosome.json\n",
      "Copied Extracted_Data/train/overlay/ExperimentRuns/TS_6_4/Picks/thyroglobulin.json to working/overlay/ExperimentRuns/TS_6_4/Picks/curation_0_thyroglobulin.json\n",
      "Copied Extracted_Data/train/overlay/ExperimentRuns/TS_6_4/Picks/virus-like-particle.json to working/overlay/ExperimentRuns/TS_6_4/Picks/curation_0_virus-like-particle.json\n",
      "Copied Extracted_Data/train/overlay/ExperimentRuns/TS_6_4/Picks/beta-galactosidase.json to working/overlay/ExperimentRuns/TS_6_4/Picks/curation_0_beta-galactosidase.json\n",
      "Copied Extracted_Data/train/overlay/ExperimentRuns/TS_6_4/Picks/apo-ferritin.json to working/overlay/ExperimentRuns/TS_6_4/Picks/curation_0_apo-ferritin.json\n",
      "Copied Extracted_Data/train/overlay/ExperimentRuns/TS_6_4/Picks/beta-amylase.json to working/overlay/ExperimentRuns/TS_6_4/Picks/curation_0_beta-amylase.json\n",
      "Copied Extracted_Data/train/overlay/ExperimentRuns/TS_69_2/Picks/ribosome.json to working/overlay/ExperimentRuns/TS_69_2/Picks/curation_0_ribosome.json\n",
      "Copied Extracted_Data/train/overlay/ExperimentRuns/TS_69_2/Picks/thyroglobulin.json to working/overlay/ExperimentRuns/TS_69_2/Picks/curation_0_thyroglobulin.json\n",
      "Copied Extracted_Data/train/overlay/ExperimentRuns/TS_69_2/Picks/virus-like-particle.json to working/overlay/ExperimentRuns/TS_69_2/Picks/curation_0_virus-like-particle.json\n",
      "Copied Extracted_Data/train/overlay/ExperimentRuns/TS_69_2/Picks/beta-galactosidase.json to working/overlay/ExperimentRuns/TS_69_2/Picks/curation_0_beta-galactosidase.json\n",
      "Copied Extracted_Data/train/overlay/ExperimentRuns/TS_69_2/Picks/apo-ferritin.json to working/overlay/ExperimentRuns/TS_69_2/Picks/curation_0_apo-ferritin.json\n",
      "Copied Extracted_Data/train/overlay/ExperimentRuns/TS_69_2/Picks/beta-amylase.json to working/overlay/ExperimentRuns/TS_69_2/Picks/curation_0_beta-amylase.json\n",
      "Copied Extracted_Data/train/overlay/ExperimentRuns/TS_99_9/Picks/ribosome.json to working/overlay/ExperimentRuns/TS_99_9/Picks/curation_0_ribosome.json\n",
      "Copied Extracted_Data/train/overlay/ExperimentRuns/TS_99_9/Picks/thyroglobulin.json to working/overlay/ExperimentRuns/TS_99_9/Picks/curation_0_thyroglobulin.json\n",
      "Copied Extracted_Data/train/overlay/ExperimentRuns/TS_99_9/Picks/virus-like-particle.json to working/overlay/ExperimentRuns/TS_99_9/Picks/curation_0_virus-like-particle.json\n",
      "Copied Extracted_Data/train/overlay/ExperimentRuns/TS_99_9/Picks/beta-galactosidase.json to working/overlay/ExperimentRuns/TS_99_9/Picks/curation_0_beta-galactosidase.json\n",
      "Copied Extracted_Data/train/overlay/ExperimentRuns/TS_99_9/Picks/apo-ferritin.json to working/overlay/ExperimentRuns/TS_99_9/Picks/curation_0_apo-ferritin.json\n",
      "Copied Extracted_Data/train/overlay/ExperimentRuns/TS_99_9/Picks/beta-amylase.json to working/overlay/ExperimentRuns/TS_99_9/Picks/curation_0_beta-amylase.json\n",
      "Copied Extracted_Data/train/overlay/ExperimentRuns/TS_86_3/Picks/ribosome.json to working/overlay/ExperimentRuns/TS_86_3/Picks/curation_0_ribosome.json\n",
      "Copied Extracted_Data/train/overlay/ExperimentRuns/TS_86_3/Picks/thyroglobulin.json to working/overlay/ExperimentRuns/TS_86_3/Picks/curation_0_thyroglobulin.json\n",
      "Copied Extracted_Data/train/overlay/ExperimentRuns/TS_86_3/Picks/virus-like-particle.json to working/overlay/ExperimentRuns/TS_86_3/Picks/curation_0_virus-like-particle.json\n",
      "Copied Extracted_Data/train/overlay/ExperimentRuns/TS_86_3/Picks/beta-galactosidase.json to working/overlay/ExperimentRuns/TS_86_3/Picks/curation_0_beta-galactosidase.json\n",
      "Copied Extracted_Data/train/overlay/ExperimentRuns/TS_86_3/Picks/apo-ferritin.json to working/overlay/ExperimentRuns/TS_86_3/Picks/curation_0_apo-ferritin.json\n",
      "Copied Extracted_Data/train/overlay/ExperimentRuns/TS_86_3/Picks/beta-amylase.json to working/overlay/ExperimentRuns/TS_86_3/Picks/curation_0_beta-amylase.json\n"
     ]
    }
   ],
   "execution_count": 22
  },
  {
   "metadata": {
    "ExecuteTime": {
     "end_time": "2025-01-04T16:54:42.135048Z",
     "start_time": "2025-01-04T16:54:42.131479Z"
    }
   },
   "cell_type": "code",
   "source": [
    "from deepfindET.entry_points import step1\n",
    "import copick\n",
    "copick_root = copick.from_file(copick_config_path)\n"
   ],
   "id": "5d4d1653f5e784c0",
   "outputs": [],
   "execution_count": 23
  },
  {
   "metadata": {
    "ExecuteTime": {
     "end_time": "2025-01-04T16:54:43.392104Z",
     "start_time": "2025-01-04T16:54:43.386009Z"
    }
   },
   "cell_type": "code",
   "source": [
    "import os\n",
    "runs = os.listdir('Extracted_Data/train/static/ExperimentRuns')\n",
    "voxel_size = 10\n",
    "tomogram_algo = 'denoised'\n",
    "\n",
    "out_name = 'remotetargets'\n",
    "out_user_id = 'deepfindET'\n",
    "out_session_id = '0'\n",
    "\n",
    "train_targets = {}\n",
    "\n",
    "targets = [(obj.name, None, None, (obj.radius / voxel_size)) for obj in copick_root.pickable_objects if obj.is_particle]\n",
    "targets"
   ],
   "id": "43c81bb019bb2b37",
   "outputs": [
    {
     "data": {
      "text/plain": [
       "[('apo-ferritin', None, None, 6.0),\n",
       " ('beta-amylase', None, None, 6.5),\n",
       " ('beta-galactosidase', None, None, 9.0),\n",
       " ('ribosome', None, None, 15.0),\n",
       " ('thyroglobulin', None, None, 13.0),\n",
       " ('virus-like-particle', None, None, 13.5)]"
      ]
     },
     "execution_count": 24,
     "metadata": {},
     "output_type": "execute_result"
    }
   ],
   "execution_count": 24
  },
  {
   "metadata": {
    "ExecuteTime": {
     "end_time": "2025-01-04T16:54:49.086850Z",
     "start_time": "2025-01-04T16:54:44.016638Z"
    }
   },
   "cell_type": "code",
   "source": [
    "for t in targets:\n",
    "    obj_name, user_id, session_id, radius = t\n",
    "    info = {\n",
    "        \"label\": copick_root.get_object(obj_name).label,\n",
    "        \"user_id\": user_id,\n",
    "        \"session_id\": session_id,\n",
    "        \"radius\": radius,\n",
    "        \"is_particle_target\": True,\n",
    "    }\n",
    "    train_targets[obj_name] = info\n",
    "\n",
    "\n",
    "# seg_targets = [('membrane', None, None)]\n",
    "# for s in seg_targets:\n",
    "#     obj_name, user_id, session_id = s\n",
    "#     info = {\n",
    "#         \"label\": copick_root.get_object(obj_name).label,\n",
    "#         \"user_id\": user_id,\n",
    "#         \"session_id\": session_id,\n",
    "#         \"radius\": None,\n",
    "#         \"is_particle_target\": False,\n",
    "#     }\n",
    "#     train_targets[obj_name] = info\n",
    "\n",
    "runId = None\n",
    "\n",
    "step1.create_train_targets(\n",
    "    copick_config_path,\n",
    "    train_targets,\n",
    "    runId,\n",
    "    voxel_size,\n",
    "    tomogram_algo,\n",
    "    out_name,\n",
    "    out_user_id,\n",
    "    out_session_id\n",
    ")\n"
   ],
   "id": "4d2d41880ba02891",
   "outputs": [
    {
     "name": "stdout",
     "output_type": "stream",
     "text": [
      "Processing Run: TS_5_4\n",
      "Annotating 140 objects ...\n",
      "\n",
      "Processing Run: TS_69_2\n",
      "Annotating 143 objects ...\n",
      "\n",
      "Processing Run: TS_6_4\n",
      "Annotating 193 objects ...\n",
      "\n",
      "Processing Run: TS_6_6\n",
      "Annotating 143 objects ...\n",
      "\n",
      "Processing Run: TS_73_6\n",
      "Annotating 217 objects ...\n",
      "\n",
      "Processing Run: TS_86_3\n",
      "Annotating 225 objects ...\n",
      "\n",
      "Processing Run: TS_99_9\n",
      "Annotating 208 objects ...\n",
      "\n"
     ]
    }
   ],
   "execution_count": 25
  },
  {
   "metadata": {},
   "cell_type": "code",
   "outputs": [],
   "execution_count": null,
   "source": "",
   "id": "a3cb1fa3b7bb0b80"
  }
 ],
 "metadata": {
  "kernelspec": {
   "display_name": "Python 3",
   "language": "python",
   "name": "python3"
  },
  "language_info": {
   "codemirror_mode": {
    "name": "ipython",
    "version": 2
   },
   "file_extension": ".py",
   "mimetype": "text/x-python",
   "name": "python",
   "nbconvert_exporter": "python",
   "pygments_lexer": "ipython2",
   "version": "2.7.6"
  }
 },
 "nbformat": 4,
 "nbformat_minor": 5
}
