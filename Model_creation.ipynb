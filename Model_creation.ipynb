{
 "cells": [
  {
   "cell_type": "code",
   "id": "initial_id",
   "metadata": {
    "collapsed": true,
    "ExecuteTime": {
     "end_time": "2025-01-03T17:45:49.694573Z",
     "start_time": "2025-01-03T17:45:47.727259Z"
    }
   },
   "source": [
    "import keras._tf_keras.keras as keras\n",
    "from keras._tf_keras.keras.models import Model\n",
    "from keras._tf_keras.keras.layers import Input, Conv3D, MaxPooling3D, UpSampling3D, GlobalAveragePooling3D\n",
    "from keras._tf_keras.keras.layers import Dropout, concatenate, multiply, Dense, GroupNormalization\n",
    "from keras._tf_keras.keras.layers import LeakyReLU"
   ],
   "outputs": [
    {
     "name": "stderr",
     "output_type": "stream",
     "text": [
      "2025-01-03 23:15:48.018589: I tensorflow/core/util/port.cc:153] oneDNN custom operations are on. You may see slightly different numerical results due to floating-point round-off errors from different computation orders. To turn them off, set the environment variable `TF_ENABLE_ONEDNN_OPTS=0`.\n",
      "2025-01-03 23:15:48.028820: E external/local_xla/xla/stream_executor/cuda/cuda_fft.cc:477] Unable to register cuFFT factory: Attempting to register factory for plugin cuFFT when one has already been registered\n",
      "WARNING: All log messages before absl::InitializeLog() is called are written to STDERR\n",
      "E0000 00:00:1735926348.039255  217855 cuda_dnn.cc:8310] Unable to register cuDNN factory: Attempting to register factory for plugin cuDNN when one has already been registered\n",
      "E0000 00:00:1735926348.042062  217855 cuda_blas.cc:1418] Unable to register cuBLAS factory: Attempting to register factory for plugin cuBLAS when one has already been registered\n",
      "2025-01-03 23:15:48.052369: I tensorflow/core/platform/cpu_feature_guard.cc:210] This TensorFlow binary is optimized to use available CPU instructions in performance-critical operations.\n",
      "To enable the following instructions: AVX2 AVX_VNNI FMA, in other operations, rebuild TensorFlow with the appropriate compiler flags.\n"
     ]
    }
   ],
   "execution_count": 1
  },
  {
   "metadata": {
    "ExecuteTime": {
     "end_time": "2025-01-03T17:45:49.785278Z",
     "start_time": "2025-01-03T17:45:49.781936Z"
    }
   },
   "cell_type": "code",
   "source": [
    "class InstanceNormalization(keras.layers.Layer):\n",
    "    def __init__(self, **kwargs):\n",
    "        super(InstanceNormalization, self).__init__(**kwargs)\n",
    "        self.norm = GroupNormalization(groups=-1)\n",
    "    def call(self, x):\n",
    "        return self.norm(x)\n",
    "\n",
    "class SE_Layer(keras.layers.Layer):\n",
    "    def __init__(self, ch, ratio = 16, **kwargs):\n",
    "        super(SE_Layer, self).__init__(**kwargs)\n",
    "        self.gl = GlobalAveragePooling3D(keepdims=True)\n",
    "        self.fc1 = Dense(ch//ratio, activation='relu')\n",
    "        self.fc2 = Dense(ch, activation='sigmoid')\n",
    "    def call(self, input_block):\n",
    "        x = self.gl(input_block)\n",
    "        x = self.fc1(x)\n",
    "        x = self.fc2(x)\n",
    "        return multiply([input_block, x])\n"
   ],
   "id": "d0fe51842ae5ad14",
   "outputs": [],
   "execution_count": 2
  },
  {
   "metadata": {
    "ExecuteTime": {
     "end_time": "2025-01-03T17:45:50.469752Z",
     "start_time": "2025-01-03T17:45:50.460572Z"
    }
   },
   "cell_type": "code",
   "source": [
    "def My_LATUP(input_shape: tuple):\n",
    "    inputs = Input(input_shape)\n",
    "\n",
    "    # Encoder Block 1 (Parallel Convolutions Block) (E1)\n",
    "    e1_pc_embed = Conv3D(32, (3, 3, 3), strides=(1, 1, 1), activation=LeakyReLU(negative_slope=0.1), padding='same', name='E1_PC_Embedded_Layer')(inputs)\n",
    "    e1_pc_conv1 = Conv3D(32, (1, 1, 1), strides=(1, 1, 1), activation=LeakyReLU(negative_slope=0.1), padding='same', name='E1_PC_Conv1_Layer')(e1_pc_embed)\n",
    "    e1_pc_conv2 = Conv3D(32, (3, 3, 3), strides=(1, 1, 1), activation=LeakyReLU(negative_slope=0.1), padding='same', name='E1_PC_Conv2_Layer')(e1_pc_embed)\n",
    "    e1_pc_conv3 = Conv3D(32, (5, 5, 5), strides=(1, 1, 1), activation=LeakyReLU(negative_slope=0.1), padding='same', name='E1_PC_Conv3_Layer')(e1_pc_embed)\n",
    "\n",
    "    e1_pc_maxpool1 = MaxPooling3D(pool_size=(2, 2, 2), name='E1_maxpool1_Layer')(e1_pc_conv1)\n",
    "    e1_pc_maxpool2 = MaxPooling3D(pool_size=(2, 2, 2), name='E1_maxpool2_Layer')(e1_pc_conv2)\n",
    "    e1_pc_maxpool3 = MaxPooling3D(pool_size=(2, 2, 2), name='E1_maxpool3_Layer')(e1_pc_conv3)\n",
    "\n",
    "    e1_pc_concat = concatenate([e1_pc_maxpool1, e1_pc_maxpool2, e1_pc_maxpool3], name='E1_concat_Layer')\n",
    "\n",
    "    #Encoder Block 2 (E2)\n",
    "    e2_se1 = SE_Layer(96, ratio=8, name='E2_SE1_Layer')(e1_pc_concat)\n",
    "    e2_conv1 = Conv3D(64, (3, 3, 3), activation=LeakyReLU(negative_slope=0.1), padding='same', name='E2_Conv1_Layer')(e2_se1)\n",
    "    e2_instance = InstanceNormalization(name='E2_instance_Layer')(e2_conv1)\n",
    "    e2_conv2 = Conv3D(64, (3, 3, 3), activation=LeakyReLU(negative_slope=0.1), padding='same', name='E2_Conv2_Layer')(e2_instance)\n",
    "    e2_dropout = Dropout(0.2, name='E2_Drop')(e2_conv2)\n",
    "    e2_maxpool1 = MaxPooling3D(pool_size=(2, 2, 2), name='E2_maxpool1_Layer')(e2_dropout)\n",
    "\n",
    "    #Encoder Block 3 (E3)\n",
    "    e3_se1 = SE_Layer(64, ratio=8, name='E3_SE1_Layer')(e2_maxpool1)\n",
    "    e3_conv1 = Conv3D(128, (3, 3, 3), activation=LeakyReLU(negative_slope=0.1), padding='same', name='E3_Conv1_Layer')(e3_se1)\n",
    "    e3_instance = InstanceNormalization(name='E3_instance_Layer')(e3_conv1)\n",
    "    e3_conv2 = Conv3D(128, (3, 3, 3), activation=LeakyReLU(negative_slope=0.1), padding='same', name='E3_Conv2_Layer')(e3_instance)\n",
    "    e3_dropout = Dropout(0.2, name='E3_drop')(e3_conv2)\n",
    "    e3_maxpool1 = MaxPooling3D(pool_size=(2, 2, 2), name='E3_maxpool1_Layer')(e3_dropout)\n",
    "\n",
    "    bn_se1 = SE_Layer(128, ratio=8, name='BN_SE1_Layer')(e3_maxpool1)\n",
    "\n",
    "    #Decoder Block 3 (D3)\n",
    "    d3_up = UpSampling3D(size=(2, 2, 2), name='D3_up')(bn_se1)\n",
    "    d3_conv1 = Conv3D(128, (3, 3, 3), activation=LeakyReLU(negative_slope=0.1), padding='same', name='D3_Conv1_Layer')(d3_up)\n",
    "    d3_instance = InstanceNormalization(name='D3_instance_Layer')(d3_conv1)\n",
    "    d3_concat = concatenate([d3_instance, e3_dropout], name='D3_concat_Layer')\n",
    "    d3_conv2 = Conv3D(128, (3, 3, 3), activation=LeakyReLU(negative_slope=0.1), padding='same', name='D3_Conv2_Layer')(d3_concat)\n",
    "    d3_se1 = SE_Layer(128, ratio=8, name='D3_SE1_Layer')(d3_conv2)\n",
    "    d3_dropout = Dropout(0.2, name='D3_drop')(d3_se1)\n",
    "    d3_conv3 = Conv3D(128, (3, 3, 3), activation=LeakyReLU(negative_slope=0.1), padding='same', name='D3_Conv3_Layer')(d3_dropout)\n",
    "\n",
    "    #Decoder Block 2(D2)\n",
    "    d2_up = UpSampling3D(size=(2, 2, 2), name='D2_up')(d3_conv3)\n",
    "    d2_conv1 = Conv3D(64, (3, 3, 3), activation=LeakyReLU(negative_slope=0.1), padding='same', name='D2_Conv1_Layer')(d2_up)\n",
    "    d2_instance = InstanceNormalization(name='D2_instance_Layer')(d2_conv1)\n",
    "    d2_concat = concatenate([d2_instance, e2_dropout], name='D2_concat_Layer')\n",
    "    d2_conv2 = Conv3D(64, (3, 3, 3), activation=LeakyReLU(negative_slope=0.1), padding='same', name='D2_Conv2_Layer')(d2_concat)\n",
    "    d2_se1 = SE_Layer(64, ratio=8, name='D2_SE1_Layer')(d2_conv2)\n",
    "    d2_dropout = Dropout(0.2, name='D2_drop')(d2_se1)\n",
    "    d2_conv3 = Conv3D(64, (3, 3, 3), activation=LeakyReLU(negative_slope=0.1), padding='same', name='D2_Conv3_Layer')(d2_dropout)\n",
    "\n",
    "    #Decoder Block 1(D1)\n",
    "    d1_up = UpSampling3D(size=(2, 2, 2), name='D1_up')(d2_conv3)\n",
    "    d1_conv1 = Conv3D(32, (3, 3, 3), activation=LeakyReLU(negative_slope=0.1), padding='same', name='D1_Conv1_Layer')(d1_up)\n",
    "    d1_instance = InstanceNormalization(name='D1_instance_Layer')(d1_conv1)\n",
    "    d1_concat = concatenate([d1_instance, e1_pc_embed], name='D1_concat_Layer')\n",
    "    d1_conv2 = Conv3D(32, (3, 3, 3), activation=LeakyReLU(negative_slope=0.1), padding='same', name='D1_Conv2_Layer')(d1_concat)\n",
    "    d1_se1 = SE_Layer(32, ratio=8, name='D1_SE1_Layer')(d1_conv2)\n",
    "    d1_dropout = Dropout(0.2, name='D1_drop')(d1_se1)\n",
    "    d1_conv3 = Conv3D(32, (3, 3, 3), activation=LeakyReLU(negative_slope=0.1), padding='same', name='D1_Conv3_Layer')(d1_dropout)\n",
    "\n",
    "    #Probablity Filter\n",
    "    prob = Conv3D(4, (1, 1, 1), activation='softmax', name='prob')(d1_conv3)\n",
    "\n",
    "    model = Model(inputs=inputs, outputs=prob, name='MY_LATUP')\n",
    "    return model\n"
   ],
   "id": "b95e519dd85d1831",
   "outputs": [],
   "execution_count": 3
  },
  {
   "metadata": {
    "ExecuteTime": {
     "end_time": "2025-01-03T17:45:53.713862Z",
     "start_time": "2025-01-03T17:45:51.607654Z"
    }
   },
   "cell_type": "code",
   "source": [
    "model = My_LATUP(input_shape = (128, 128, 128, 3))\n",
    "model.summary(line_length=110)"
   ],
   "id": "265431f0b8f06aa2",
   "outputs": [
    {
     "name": "stderr",
     "output_type": "stream",
     "text": [
      "I0000 00:00:1735926352.798262  217855 gpu_device.cc:2022] Created device /job:localhost/replica:0/task:0/device:GPU:0 with 5564 MB memory:  -> device: 0, name: NVIDIA GeForce RTX 3070 Ti Laptop GPU, pci bus id: 0000:01:00.0, compute capability: 8.6\n"
     ]
    },
    {
     "data": {
      "text/plain": [
       "\u001B[1mModel: \"MY_LATUP\"\u001B[0m\n"
      ],
      "text/html": [
       "<pre style=\"white-space:pre;overflow-x:auto;line-height:normal;font-family:Menlo,'DejaVu Sans Mono',consolas,'Courier New',monospace\"><span style=\"font-weight: bold\">Model: \"MY_LATUP\"</span>\n",
       "</pre>\n"
      ]
     },
     "metadata": {},
     "output_type": "display_data"
    },
    {
     "data": {
      "text/plain": [
       "┏━━━━━━━━━━━━━━━━━━━━━━━━━━━━━━━━┳━━━━━━━━━━━━━━━━━━━━━━━━━━━┳━━━━━━━━━━━━━━━━━━┳━━━━━━━━━━━━━━━━━━━━━━━━━━━━┓\n",
       "┃\u001B[1m \u001B[0m\u001B[1mLayer (type)                  \u001B[0m\u001B[1m \u001B[0m┃\u001B[1m \u001B[0m\u001B[1mOutput Shape             \u001B[0m\u001B[1m \u001B[0m┃\u001B[1m \u001B[0m\u001B[1m         Param #\u001B[0m\u001B[1m \u001B[0m┃\u001B[1m \u001B[0m\u001B[1mConnected to              \u001B[0m\u001B[1m \u001B[0m┃\n",
       "┡━━━━━━━━━━━━━━━━━━━━━━━━━━━━━━━━╇━━━━━━━━━━━━━━━━━━━━━━━━━━━╇━━━━━━━━━━━━━━━━━━╇━━━━━━━━━━━━━━━━━━━━━━━━━━━━┩\n",
       "│ input_layer (\u001B[38;5;33mInputLayer\u001B[0m)       │ (\u001B[38;5;45mNone\u001B[0m, \u001B[38;5;34m128\u001B[0m, \u001B[38;5;34m128\u001B[0m, \u001B[38;5;34m128\u001B[0m, \u001B[38;5;34m3\u001B[0m)  │                \u001B[38;5;34m0\u001B[0m │ -                          │\n",
       "├────────────────────────────────┼───────────────────────────┼──────────────────┼────────────────────────────┤\n",
       "│ E1_PC_Embedded_Layer (\u001B[38;5;33mConv3D\u001B[0m)  │ (\u001B[38;5;45mNone\u001B[0m, \u001B[38;5;34m128\u001B[0m, \u001B[38;5;34m128\u001B[0m, \u001B[38;5;34m128\u001B[0m, \u001B[38;5;34m32\u001B[0m) │            \u001B[38;5;34m2,624\u001B[0m │ input_layer[\u001B[38;5;34m0\u001B[0m][\u001B[38;5;34m0\u001B[0m]          │\n",
       "├────────────────────────────────┼───────────────────────────┼──────────────────┼────────────────────────────┤\n",
       "│ E1_PC_Conv1_Layer (\u001B[38;5;33mConv3D\u001B[0m)     │ (\u001B[38;5;45mNone\u001B[0m, \u001B[38;5;34m128\u001B[0m, \u001B[38;5;34m128\u001B[0m, \u001B[38;5;34m128\u001B[0m, \u001B[38;5;34m32\u001B[0m) │            \u001B[38;5;34m1,056\u001B[0m │ E1_PC_Embedded_Layer[\u001B[38;5;34m0\u001B[0m][\u001B[38;5;34m0\u001B[0m] │\n",
       "├────────────────────────────────┼───────────────────────────┼──────────────────┼────────────────────────────┤\n",
       "│ E1_PC_Conv2_Layer (\u001B[38;5;33mConv3D\u001B[0m)     │ (\u001B[38;5;45mNone\u001B[0m, \u001B[38;5;34m128\u001B[0m, \u001B[38;5;34m128\u001B[0m, \u001B[38;5;34m128\u001B[0m, \u001B[38;5;34m32\u001B[0m) │           \u001B[38;5;34m27,680\u001B[0m │ E1_PC_Embedded_Layer[\u001B[38;5;34m0\u001B[0m][\u001B[38;5;34m0\u001B[0m] │\n",
       "├────────────────────────────────┼───────────────────────────┼──────────────────┼────────────────────────────┤\n",
       "│ E1_PC_Conv3_Layer (\u001B[38;5;33mConv3D\u001B[0m)     │ (\u001B[38;5;45mNone\u001B[0m, \u001B[38;5;34m128\u001B[0m, \u001B[38;5;34m128\u001B[0m, \u001B[38;5;34m128\u001B[0m, \u001B[38;5;34m32\u001B[0m) │          \u001B[38;5;34m128,032\u001B[0m │ E1_PC_Embedded_Layer[\u001B[38;5;34m0\u001B[0m][\u001B[38;5;34m0\u001B[0m] │\n",
       "├────────────────────────────────┼───────────────────────────┼──────────────────┼────────────────────────────┤\n",
       "│ E1_maxpool1_Layer              │ (\u001B[38;5;45mNone\u001B[0m, \u001B[38;5;34m64\u001B[0m, \u001B[38;5;34m64\u001B[0m, \u001B[38;5;34m64\u001B[0m, \u001B[38;5;34m32\u001B[0m)    │                \u001B[38;5;34m0\u001B[0m │ E1_PC_Conv1_Layer[\u001B[38;5;34m0\u001B[0m][\u001B[38;5;34m0\u001B[0m]    │\n",
       "│ (\u001B[38;5;33mMaxPooling3D\u001B[0m)                 │                           │                  │                            │\n",
       "├────────────────────────────────┼───────────────────────────┼──────────────────┼────────────────────────────┤\n",
       "│ E1_maxpool2_Layer              │ (\u001B[38;5;45mNone\u001B[0m, \u001B[38;5;34m64\u001B[0m, \u001B[38;5;34m64\u001B[0m, \u001B[38;5;34m64\u001B[0m, \u001B[38;5;34m32\u001B[0m)    │                \u001B[38;5;34m0\u001B[0m │ E1_PC_Conv2_Layer[\u001B[38;5;34m0\u001B[0m][\u001B[38;5;34m0\u001B[0m]    │\n",
       "│ (\u001B[38;5;33mMaxPooling3D\u001B[0m)                 │                           │                  │                            │\n",
       "├────────────────────────────────┼───────────────────────────┼──────────────────┼────────────────────────────┤\n",
       "│ E1_maxpool3_Layer              │ (\u001B[38;5;45mNone\u001B[0m, \u001B[38;5;34m64\u001B[0m, \u001B[38;5;34m64\u001B[0m, \u001B[38;5;34m64\u001B[0m, \u001B[38;5;34m32\u001B[0m)    │                \u001B[38;5;34m0\u001B[0m │ E1_PC_Conv3_Layer[\u001B[38;5;34m0\u001B[0m][\u001B[38;5;34m0\u001B[0m]    │\n",
       "│ (\u001B[38;5;33mMaxPooling3D\u001B[0m)                 │                           │                  │                            │\n",
       "├────────────────────────────────┼───────────────────────────┼──────────────────┼────────────────────────────┤\n",
       "│ E1_concat_Layer (\u001B[38;5;33mConcatenate\u001B[0m)  │ (\u001B[38;5;45mNone\u001B[0m, \u001B[38;5;34m64\u001B[0m, \u001B[38;5;34m64\u001B[0m, \u001B[38;5;34m64\u001B[0m, \u001B[38;5;34m96\u001B[0m)    │                \u001B[38;5;34m0\u001B[0m │ E1_maxpool1_Layer[\u001B[38;5;34m0\u001B[0m][\u001B[38;5;34m0\u001B[0m],   │\n",
       "│                                │                           │                  │ E1_maxpool2_Layer[\u001B[38;5;34m0\u001B[0m][\u001B[38;5;34m0\u001B[0m],   │\n",
       "│                                │                           │                  │ E1_maxpool3_Layer[\u001B[38;5;34m0\u001B[0m][\u001B[38;5;34m0\u001B[0m]    │\n",
       "├────────────────────────────────┼───────────────────────────┼──────────────────┼────────────────────────────┤\n",
       "│ E2_SE1_Layer (\u001B[38;5;33mSE_Layer\u001B[0m)        │ (\u001B[38;5;45mNone\u001B[0m, \u001B[38;5;34m64\u001B[0m, \u001B[38;5;34m64\u001B[0m, \u001B[38;5;34m64\u001B[0m, \u001B[38;5;34m96\u001B[0m)    │            \u001B[38;5;34m2,412\u001B[0m │ E1_concat_Layer[\u001B[38;5;34m0\u001B[0m][\u001B[38;5;34m0\u001B[0m]      │\n",
       "├────────────────────────────────┼───────────────────────────┼──────────────────┼────────────────────────────┤\n",
       "│ E2_Conv1_Layer (\u001B[38;5;33mConv3D\u001B[0m)        │ (\u001B[38;5;45mNone\u001B[0m, \u001B[38;5;34m64\u001B[0m, \u001B[38;5;34m64\u001B[0m, \u001B[38;5;34m64\u001B[0m, \u001B[38;5;34m64\u001B[0m)    │          \u001B[38;5;34m165,952\u001B[0m │ E2_SE1_Layer[\u001B[38;5;34m0\u001B[0m][\u001B[38;5;34m0\u001B[0m]         │\n",
       "├────────────────────────────────┼───────────────────────────┼──────────────────┼────────────────────────────┤\n",
       "│ E2_instance_Layer              │ (\u001B[38;5;45mNone\u001B[0m, \u001B[38;5;34m64\u001B[0m, \u001B[38;5;34m64\u001B[0m, \u001B[38;5;34m64\u001B[0m, \u001B[38;5;34m64\u001B[0m)    │              \u001B[38;5;34m128\u001B[0m │ E2_Conv1_Layer[\u001B[38;5;34m0\u001B[0m][\u001B[38;5;34m0\u001B[0m]       │\n",
       "│ (\u001B[38;5;33mInstanceNormalization\u001B[0m)        │                           │                  │                            │\n",
       "├────────────────────────────────┼───────────────────────────┼──────────────────┼────────────────────────────┤\n",
       "│ E2_Conv2_Layer (\u001B[38;5;33mConv3D\u001B[0m)        │ (\u001B[38;5;45mNone\u001B[0m, \u001B[38;5;34m64\u001B[0m, \u001B[38;5;34m64\u001B[0m, \u001B[38;5;34m64\u001B[0m, \u001B[38;5;34m64\u001B[0m)    │          \u001B[38;5;34m110,656\u001B[0m │ E2_instance_Layer[\u001B[38;5;34m0\u001B[0m][\u001B[38;5;34m0\u001B[0m]    │\n",
       "├────────────────────────────────┼───────────────────────────┼──────────────────┼────────────────────────────┤\n",
       "│ E2_Drop (\u001B[38;5;33mDropout\u001B[0m)              │ (\u001B[38;5;45mNone\u001B[0m, \u001B[38;5;34m64\u001B[0m, \u001B[38;5;34m64\u001B[0m, \u001B[38;5;34m64\u001B[0m, \u001B[38;5;34m64\u001B[0m)    │                \u001B[38;5;34m0\u001B[0m │ E2_Conv2_Layer[\u001B[38;5;34m0\u001B[0m][\u001B[38;5;34m0\u001B[0m]       │\n",
       "├────────────────────────────────┼───────────────────────────┼──────────────────┼────────────────────────────┤\n",
       "│ E2_maxpool1_Layer              │ (\u001B[38;5;45mNone\u001B[0m, \u001B[38;5;34m32\u001B[0m, \u001B[38;5;34m32\u001B[0m, \u001B[38;5;34m32\u001B[0m, \u001B[38;5;34m64\u001B[0m)    │                \u001B[38;5;34m0\u001B[0m │ E2_Drop[\u001B[38;5;34m0\u001B[0m][\u001B[38;5;34m0\u001B[0m]              │\n",
       "│ (\u001B[38;5;33mMaxPooling3D\u001B[0m)                 │                           │                  │                            │\n",
       "├────────────────────────────────┼───────────────────────────┼──────────────────┼────────────────────────────┤\n",
       "│ E3_SE1_Layer (\u001B[38;5;33mSE_Layer\u001B[0m)        │ (\u001B[38;5;45mNone\u001B[0m, \u001B[38;5;34m32\u001B[0m, \u001B[38;5;34m32\u001B[0m, \u001B[38;5;34m32\u001B[0m, \u001B[38;5;34m64\u001B[0m)    │            \u001B[38;5;34m1,096\u001B[0m │ E2_maxpool1_Layer[\u001B[38;5;34m0\u001B[0m][\u001B[38;5;34m0\u001B[0m]    │\n",
       "├────────────────────────────────┼───────────────────────────┼──────────────────┼────────────────────────────┤\n",
       "│ E3_Conv1_Layer (\u001B[38;5;33mConv3D\u001B[0m)        │ (\u001B[38;5;45mNone\u001B[0m, \u001B[38;5;34m32\u001B[0m, \u001B[38;5;34m32\u001B[0m, \u001B[38;5;34m32\u001B[0m, \u001B[38;5;34m128\u001B[0m)   │          \u001B[38;5;34m221,312\u001B[0m │ E3_SE1_Layer[\u001B[38;5;34m0\u001B[0m][\u001B[38;5;34m0\u001B[0m]         │\n",
       "├────────────────────────────────┼───────────────────────────┼──────────────────┼────────────────────────────┤\n",
       "│ E3_instance_Layer              │ (\u001B[38;5;45mNone\u001B[0m, \u001B[38;5;34m32\u001B[0m, \u001B[38;5;34m32\u001B[0m, \u001B[38;5;34m32\u001B[0m, \u001B[38;5;34m128\u001B[0m)   │              \u001B[38;5;34m256\u001B[0m │ E3_Conv1_Layer[\u001B[38;5;34m0\u001B[0m][\u001B[38;5;34m0\u001B[0m]       │\n",
       "│ (\u001B[38;5;33mInstanceNormalization\u001B[0m)        │                           │                  │                            │\n",
       "├────────────────────────────────┼───────────────────────────┼──────────────────┼────────────────────────────┤\n",
       "│ E3_Conv2_Layer (\u001B[38;5;33mConv3D\u001B[0m)        │ (\u001B[38;5;45mNone\u001B[0m, \u001B[38;5;34m32\u001B[0m, \u001B[38;5;34m32\u001B[0m, \u001B[38;5;34m32\u001B[0m, \u001B[38;5;34m128\u001B[0m)   │          \u001B[38;5;34m442,496\u001B[0m │ E3_instance_Layer[\u001B[38;5;34m0\u001B[0m][\u001B[38;5;34m0\u001B[0m]    │\n",
       "├────────────────────────────────┼───────────────────────────┼──────────────────┼────────────────────────────┤\n",
       "│ E3_drop (\u001B[38;5;33mDropout\u001B[0m)              │ (\u001B[38;5;45mNone\u001B[0m, \u001B[38;5;34m32\u001B[0m, \u001B[38;5;34m32\u001B[0m, \u001B[38;5;34m32\u001B[0m, \u001B[38;5;34m128\u001B[0m)   │                \u001B[38;5;34m0\u001B[0m │ E3_Conv2_Layer[\u001B[38;5;34m0\u001B[0m][\u001B[38;5;34m0\u001B[0m]       │\n",
       "├────────────────────────────────┼───────────────────────────┼──────────────────┼────────────────────────────┤\n",
       "│ E3_maxpool1_Layer              │ (\u001B[38;5;45mNone\u001B[0m, \u001B[38;5;34m16\u001B[0m, \u001B[38;5;34m16\u001B[0m, \u001B[38;5;34m16\u001B[0m, \u001B[38;5;34m128\u001B[0m)   │                \u001B[38;5;34m0\u001B[0m │ E3_drop[\u001B[38;5;34m0\u001B[0m][\u001B[38;5;34m0\u001B[0m]              │\n",
       "│ (\u001B[38;5;33mMaxPooling3D\u001B[0m)                 │                           │                  │                            │\n",
       "├────────────────────────────────┼───────────────────────────┼──────────────────┼────────────────────────────┤\n",
       "│ BN_SE1_Layer (\u001B[38;5;33mSE_Layer\u001B[0m)        │ (\u001B[38;5;45mNone\u001B[0m, \u001B[38;5;34m16\u001B[0m, \u001B[38;5;34m16\u001B[0m, \u001B[38;5;34m16\u001B[0m, \u001B[38;5;34m128\u001B[0m)   │            \u001B[38;5;34m4,240\u001B[0m │ E3_maxpool1_Layer[\u001B[38;5;34m0\u001B[0m][\u001B[38;5;34m0\u001B[0m]    │\n",
       "├────────────────────────────────┼───────────────────────────┼──────────────────┼────────────────────────────┤\n",
       "│ D3_up (\u001B[38;5;33mUpSampling3D\u001B[0m)           │ (\u001B[38;5;45mNone\u001B[0m, \u001B[38;5;34m32\u001B[0m, \u001B[38;5;34m32\u001B[0m, \u001B[38;5;34m32\u001B[0m, \u001B[38;5;34m128\u001B[0m)   │                \u001B[38;5;34m0\u001B[0m │ BN_SE1_Layer[\u001B[38;5;34m0\u001B[0m][\u001B[38;5;34m0\u001B[0m]         │\n",
       "├────────────────────────────────┼───────────────────────────┼──────────────────┼────────────────────────────┤\n",
       "│ D3_Conv1_Layer (\u001B[38;5;33mConv3D\u001B[0m)        │ (\u001B[38;5;45mNone\u001B[0m, \u001B[38;5;34m32\u001B[0m, \u001B[38;5;34m32\u001B[0m, \u001B[38;5;34m32\u001B[0m, \u001B[38;5;34m128\u001B[0m)   │          \u001B[38;5;34m442,496\u001B[0m │ D3_up[\u001B[38;5;34m0\u001B[0m][\u001B[38;5;34m0\u001B[0m]                │\n",
       "├────────────────────────────────┼───────────────────────────┼──────────────────┼────────────────────────────┤\n",
       "│ D3_instance_Layer              │ (\u001B[38;5;45mNone\u001B[0m, \u001B[38;5;34m32\u001B[0m, \u001B[38;5;34m32\u001B[0m, \u001B[38;5;34m32\u001B[0m, \u001B[38;5;34m128\u001B[0m)   │              \u001B[38;5;34m256\u001B[0m │ D3_Conv1_Layer[\u001B[38;5;34m0\u001B[0m][\u001B[38;5;34m0\u001B[0m]       │\n",
       "│ (\u001B[38;5;33mInstanceNormalization\u001B[0m)        │                           │                  │                            │\n",
       "├────────────────────────────────┼───────────────────────────┼──────────────────┼────────────────────────────┤\n",
       "│ D3_concat_Layer (\u001B[38;5;33mConcatenate\u001B[0m)  │ (\u001B[38;5;45mNone\u001B[0m, \u001B[38;5;34m32\u001B[0m, \u001B[38;5;34m32\u001B[0m, \u001B[38;5;34m32\u001B[0m, \u001B[38;5;34m256\u001B[0m)   │                \u001B[38;5;34m0\u001B[0m │ D3_instance_Layer[\u001B[38;5;34m0\u001B[0m][\u001B[38;5;34m0\u001B[0m],   │\n",
       "│                                │                           │                  │ E3_drop[\u001B[38;5;34m0\u001B[0m][\u001B[38;5;34m0\u001B[0m]              │\n",
       "├────────────────────────────────┼───────────────────────────┼──────────────────┼────────────────────────────┤\n",
       "│ D3_Conv2_Layer (\u001B[38;5;33mConv3D\u001B[0m)        │ (\u001B[38;5;45mNone\u001B[0m, \u001B[38;5;34m32\u001B[0m, \u001B[38;5;34m32\u001B[0m, \u001B[38;5;34m32\u001B[0m, \u001B[38;5;34m128\u001B[0m)   │          \u001B[38;5;34m884,864\u001B[0m │ D3_concat_Layer[\u001B[38;5;34m0\u001B[0m][\u001B[38;5;34m0\u001B[0m]      │\n",
       "├────────────────────────────────┼───────────────────────────┼──────────────────┼────────────────────────────┤\n",
       "│ D3_SE1_Layer (\u001B[38;5;33mSE_Layer\u001B[0m)        │ (\u001B[38;5;45mNone\u001B[0m, \u001B[38;5;34m32\u001B[0m, \u001B[38;5;34m32\u001B[0m, \u001B[38;5;34m32\u001B[0m, \u001B[38;5;34m128\u001B[0m)   │            \u001B[38;5;34m4,240\u001B[0m │ D3_Conv2_Layer[\u001B[38;5;34m0\u001B[0m][\u001B[38;5;34m0\u001B[0m]       │\n",
       "├────────────────────────────────┼───────────────────────────┼──────────────────┼────────────────────────────┤\n",
       "│ D3_drop (\u001B[38;5;33mDropout\u001B[0m)              │ (\u001B[38;5;45mNone\u001B[0m, \u001B[38;5;34m32\u001B[0m, \u001B[38;5;34m32\u001B[0m, \u001B[38;5;34m32\u001B[0m, \u001B[38;5;34m128\u001B[0m)   │                \u001B[38;5;34m0\u001B[0m │ D3_SE1_Layer[\u001B[38;5;34m0\u001B[0m][\u001B[38;5;34m0\u001B[0m]         │\n",
       "├────────────────────────────────┼───────────────────────────┼──────────────────┼────────────────────────────┤\n",
       "│ D3_Conv3_Layer (\u001B[38;5;33mConv3D\u001B[0m)        │ (\u001B[38;5;45mNone\u001B[0m, \u001B[38;5;34m32\u001B[0m, \u001B[38;5;34m32\u001B[0m, \u001B[38;5;34m32\u001B[0m, \u001B[38;5;34m128\u001B[0m)   │          \u001B[38;5;34m442,496\u001B[0m │ D3_drop[\u001B[38;5;34m0\u001B[0m][\u001B[38;5;34m0\u001B[0m]              │\n",
       "├────────────────────────────────┼───────────────────────────┼──────────────────┼────────────────────────────┤\n",
       "│ D2_up (\u001B[38;5;33mUpSampling3D\u001B[0m)           │ (\u001B[38;5;45mNone\u001B[0m, \u001B[38;5;34m64\u001B[0m, \u001B[38;5;34m64\u001B[0m, \u001B[38;5;34m64\u001B[0m, \u001B[38;5;34m128\u001B[0m)   │                \u001B[38;5;34m0\u001B[0m │ D3_Conv3_Layer[\u001B[38;5;34m0\u001B[0m][\u001B[38;5;34m0\u001B[0m]       │\n",
       "├────────────────────────────────┼───────────────────────────┼──────────────────┼────────────────────────────┤\n",
       "│ D2_Conv1_Layer (\u001B[38;5;33mConv3D\u001B[0m)        │ (\u001B[38;5;45mNone\u001B[0m, \u001B[38;5;34m64\u001B[0m, \u001B[38;5;34m64\u001B[0m, \u001B[38;5;34m64\u001B[0m, \u001B[38;5;34m64\u001B[0m)    │          \u001B[38;5;34m221,248\u001B[0m │ D2_up[\u001B[38;5;34m0\u001B[0m][\u001B[38;5;34m0\u001B[0m]                │\n",
       "├────────────────────────────────┼───────────────────────────┼──────────────────┼────────────────────────────┤\n",
       "│ D2_instance_Layer              │ (\u001B[38;5;45mNone\u001B[0m, \u001B[38;5;34m64\u001B[0m, \u001B[38;5;34m64\u001B[0m, \u001B[38;5;34m64\u001B[0m, \u001B[38;5;34m64\u001B[0m)    │              \u001B[38;5;34m128\u001B[0m │ D2_Conv1_Layer[\u001B[38;5;34m0\u001B[0m][\u001B[38;5;34m0\u001B[0m]       │\n",
       "│ (\u001B[38;5;33mInstanceNormalization\u001B[0m)        │                           │                  │                            │\n",
       "├────────────────────────────────┼───────────────────────────┼──────────────────┼────────────────────────────┤\n",
       "│ D2_concat_Layer (\u001B[38;5;33mConcatenate\u001B[0m)  │ (\u001B[38;5;45mNone\u001B[0m, \u001B[38;5;34m64\u001B[0m, \u001B[38;5;34m64\u001B[0m, \u001B[38;5;34m64\u001B[0m, \u001B[38;5;34m128\u001B[0m)   │                \u001B[38;5;34m0\u001B[0m │ D2_instance_Layer[\u001B[38;5;34m0\u001B[0m][\u001B[38;5;34m0\u001B[0m],   │\n",
       "│                                │                           │                  │ E2_Drop[\u001B[38;5;34m0\u001B[0m][\u001B[38;5;34m0\u001B[0m]              │\n",
       "├────────────────────────────────┼───────────────────────────┼──────────────────┼────────────────────────────┤\n",
       "│ D2_Conv2_Layer (\u001B[38;5;33mConv3D\u001B[0m)        │ (\u001B[38;5;45mNone\u001B[0m, \u001B[38;5;34m64\u001B[0m, \u001B[38;5;34m64\u001B[0m, \u001B[38;5;34m64\u001B[0m, \u001B[38;5;34m64\u001B[0m)    │          \u001B[38;5;34m221,248\u001B[0m │ D2_concat_Layer[\u001B[38;5;34m0\u001B[0m][\u001B[38;5;34m0\u001B[0m]      │\n",
       "├────────────────────────────────┼───────────────────────────┼──────────────────┼────────────────────────────┤\n",
       "│ D2_SE1_Layer (\u001B[38;5;33mSE_Layer\u001B[0m)        │ (\u001B[38;5;45mNone\u001B[0m, \u001B[38;5;34m64\u001B[0m, \u001B[38;5;34m64\u001B[0m, \u001B[38;5;34m64\u001B[0m, \u001B[38;5;34m64\u001B[0m)    │            \u001B[38;5;34m1,096\u001B[0m │ D2_Conv2_Layer[\u001B[38;5;34m0\u001B[0m][\u001B[38;5;34m0\u001B[0m]       │\n",
       "├────────────────────────────────┼───────────────────────────┼──────────────────┼────────────────────────────┤\n",
       "│ D2_drop (\u001B[38;5;33mDropout\u001B[0m)              │ (\u001B[38;5;45mNone\u001B[0m, \u001B[38;5;34m64\u001B[0m, \u001B[38;5;34m64\u001B[0m, \u001B[38;5;34m64\u001B[0m, \u001B[38;5;34m64\u001B[0m)    │                \u001B[38;5;34m0\u001B[0m │ D2_SE1_Layer[\u001B[38;5;34m0\u001B[0m][\u001B[38;5;34m0\u001B[0m]         │\n",
       "├────────────────────────────────┼───────────────────────────┼──────────────────┼────────────────────────────┤\n",
       "│ D2_Conv3_Layer (\u001B[38;5;33mConv3D\u001B[0m)        │ (\u001B[38;5;45mNone\u001B[0m, \u001B[38;5;34m64\u001B[0m, \u001B[38;5;34m64\u001B[0m, \u001B[38;5;34m64\u001B[0m, \u001B[38;5;34m64\u001B[0m)    │          \u001B[38;5;34m110,656\u001B[0m │ D2_drop[\u001B[38;5;34m0\u001B[0m][\u001B[38;5;34m0\u001B[0m]              │\n",
       "├────────────────────────────────┼───────────────────────────┼──────────────────┼────────────────────────────┤\n",
       "│ D1_up (\u001B[38;5;33mUpSampling3D\u001B[0m)           │ (\u001B[38;5;45mNone\u001B[0m, \u001B[38;5;34m128\u001B[0m, \u001B[38;5;34m128\u001B[0m, \u001B[38;5;34m128\u001B[0m, \u001B[38;5;34m64\u001B[0m) │                \u001B[38;5;34m0\u001B[0m │ D2_Conv3_Layer[\u001B[38;5;34m0\u001B[0m][\u001B[38;5;34m0\u001B[0m]       │\n",
       "├────────────────────────────────┼───────────────────────────┼──────────────────┼────────────────────────────┤\n",
       "│ D1_Conv1_Layer (\u001B[38;5;33mConv3D\u001B[0m)        │ (\u001B[38;5;45mNone\u001B[0m, \u001B[38;5;34m128\u001B[0m, \u001B[38;5;34m128\u001B[0m, \u001B[38;5;34m128\u001B[0m, \u001B[38;5;34m32\u001B[0m) │           \u001B[38;5;34m55,328\u001B[0m │ D1_up[\u001B[38;5;34m0\u001B[0m][\u001B[38;5;34m0\u001B[0m]                │\n",
       "├────────────────────────────────┼───────────────────────────┼──────────────────┼────────────────────────────┤\n",
       "│ D1_instance_Layer              │ (\u001B[38;5;45mNone\u001B[0m, \u001B[38;5;34m128\u001B[0m, \u001B[38;5;34m128\u001B[0m, \u001B[38;5;34m128\u001B[0m, \u001B[38;5;34m32\u001B[0m) │               \u001B[38;5;34m64\u001B[0m │ D1_Conv1_Layer[\u001B[38;5;34m0\u001B[0m][\u001B[38;5;34m0\u001B[0m]       │\n",
       "│ (\u001B[38;5;33mInstanceNormalization\u001B[0m)        │                           │                  │                            │\n",
       "├────────────────────────────────┼───────────────────────────┼──────────────────┼────────────────────────────┤\n",
       "│ D1_concat_Layer (\u001B[38;5;33mConcatenate\u001B[0m)  │ (\u001B[38;5;45mNone\u001B[0m, \u001B[38;5;34m128\u001B[0m, \u001B[38;5;34m128\u001B[0m, \u001B[38;5;34m128\u001B[0m, \u001B[38;5;34m64\u001B[0m) │                \u001B[38;5;34m0\u001B[0m │ D1_instance_Layer[\u001B[38;5;34m0\u001B[0m][\u001B[38;5;34m0\u001B[0m],   │\n",
       "│                                │                           │                  │ E1_PC_Embedded_Layer[\u001B[38;5;34m0\u001B[0m][\u001B[38;5;34m0\u001B[0m] │\n",
       "├────────────────────────────────┼───────────────────────────┼──────────────────┼────────────────────────────┤\n",
       "│ D1_Conv2_Layer (\u001B[38;5;33mConv3D\u001B[0m)        │ (\u001B[38;5;45mNone\u001B[0m, \u001B[38;5;34m128\u001B[0m, \u001B[38;5;34m128\u001B[0m, \u001B[38;5;34m128\u001B[0m, \u001B[38;5;34m32\u001B[0m) │           \u001B[38;5;34m55,328\u001B[0m │ D1_concat_Layer[\u001B[38;5;34m0\u001B[0m][\u001B[38;5;34m0\u001B[0m]      │\n",
       "├────────────────────────────────┼───────────────────────────┼──────────────────┼────────────────────────────┤\n",
       "│ D1_SE1_Layer (\u001B[38;5;33mSE_Layer\u001B[0m)        │ (\u001B[38;5;45mNone\u001B[0m, \u001B[38;5;34m128\u001B[0m, \u001B[38;5;34m128\u001B[0m, \u001B[38;5;34m128\u001B[0m, \u001B[38;5;34m32\u001B[0m) │              \u001B[38;5;34m292\u001B[0m │ D1_Conv2_Layer[\u001B[38;5;34m0\u001B[0m][\u001B[38;5;34m0\u001B[0m]       │\n",
       "├────────────────────────────────┼───────────────────────────┼──────────────────┼────────────────────────────┤\n",
       "│ D1_drop (\u001B[38;5;33mDropout\u001B[0m)              │ (\u001B[38;5;45mNone\u001B[0m, \u001B[38;5;34m128\u001B[0m, \u001B[38;5;34m128\u001B[0m, \u001B[38;5;34m128\u001B[0m, \u001B[38;5;34m32\u001B[0m) │                \u001B[38;5;34m0\u001B[0m │ D1_SE1_Layer[\u001B[38;5;34m0\u001B[0m][\u001B[38;5;34m0\u001B[0m]         │\n",
       "├────────────────────────────────┼───────────────────────────┼──────────────────┼────────────────────────────┤\n",
       "│ D1_Conv3_Layer (\u001B[38;5;33mConv3D\u001B[0m)        │ (\u001B[38;5;45mNone\u001B[0m, \u001B[38;5;34m128\u001B[0m, \u001B[38;5;34m128\u001B[0m, \u001B[38;5;34m128\u001B[0m, \u001B[38;5;34m32\u001B[0m) │           \u001B[38;5;34m27,680\u001B[0m │ D1_drop[\u001B[38;5;34m0\u001B[0m][\u001B[38;5;34m0\u001B[0m]              │\n",
       "├────────────────────────────────┼───────────────────────────┼──────────────────┼────────────────────────────┤\n",
       "│ prob (\u001B[38;5;33mConv3D\u001B[0m)                  │ (\u001B[38;5;45mNone\u001B[0m, \u001B[38;5;34m128\u001B[0m, \u001B[38;5;34m128\u001B[0m, \u001B[38;5;34m128\u001B[0m, \u001B[38;5;34m4\u001B[0m)  │              \u001B[38;5;34m132\u001B[0m │ D1_Conv3_Layer[\u001B[38;5;34m0\u001B[0m][\u001B[38;5;34m0\u001B[0m]       │\n",
       "└────────────────────────────────┴───────────────────────────┴──────────────────┴────────────────────────────┘\n"
      ],
      "text/html": [
       "<pre style=\"white-space:pre;overflow-x:auto;line-height:normal;font-family:Menlo,'DejaVu Sans Mono',consolas,'Courier New',monospace\">┏━━━━━━━━━━━━━━━━━━━━━━━━━━━━━━━━┳━━━━━━━━━━━━━━━━━━━━━━━━━━━┳━━━━━━━━━━━━━━━━━━┳━━━━━━━━━━━━━━━━━━━━━━━━━━━━┓\n",
       "┃<span style=\"font-weight: bold\"> Layer (type)                   </span>┃<span style=\"font-weight: bold\"> Output Shape              </span>┃<span style=\"font-weight: bold\">          Param # </span>┃<span style=\"font-weight: bold\"> Connected to               </span>┃\n",
       "┡━━━━━━━━━━━━━━━━━━━━━━━━━━━━━━━━╇━━━━━━━━━━━━━━━━━━━━━━━━━━━╇━━━━━━━━━━━━━━━━━━╇━━━━━━━━━━━━━━━━━━━━━━━━━━━━┩\n",
       "│ input_layer (<span style=\"color: #0087ff; text-decoration-color: #0087ff\">InputLayer</span>)       │ (<span style=\"color: #00d7ff; text-decoration-color: #00d7ff\">None</span>, <span style=\"color: #00af00; text-decoration-color: #00af00\">128</span>, <span style=\"color: #00af00; text-decoration-color: #00af00\">128</span>, <span style=\"color: #00af00; text-decoration-color: #00af00\">128</span>, <span style=\"color: #00af00; text-decoration-color: #00af00\">3</span>)  │                <span style=\"color: #00af00; text-decoration-color: #00af00\">0</span> │ -                          │\n",
       "├────────────────────────────────┼───────────────────────────┼──────────────────┼────────────────────────────┤\n",
       "│ E1_PC_Embedded_Layer (<span style=\"color: #0087ff; text-decoration-color: #0087ff\">Conv3D</span>)  │ (<span style=\"color: #00d7ff; text-decoration-color: #00d7ff\">None</span>, <span style=\"color: #00af00; text-decoration-color: #00af00\">128</span>, <span style=\"color: #00af00; text-decoration-color: #00af00\">128</span>, <span style=\"color: #00af00; text-decoration-color: #00af00\">128</span>, <span style=\"color: #00af00; text-decoration-color: #00af00\">32</span>) │            <span style=\"color: #00af00; text-decoration-color: #00af00\">2,624</span> │ input_layer[<span style=\"color: #00af00; text-decoration-color: #00af00\">0</span>][<span style=\"color: #00af00; text-decoration-color: #00af00\">0</span>]          │\n",
       "├────────────────────────────────┼───────────────────────────┼──────────────────┼────────────────────────────┤\n",
       "│ E1_PC_Conv1_Layer (<span style=\"color: #0087ff; text-decoration-color: #0087ff\">Conv3D</span>)     │ (<span style=\"color: #00d7ff; text-decoration-color: #00d7ff\">None</span>, <span style=\"color: #00af00; text-decoration-color: #00af00\">128</span>, <span style=\"color: #00af00; text-decoration-color: #00af00\">128</span>, <span style=\"color: #00af00; text-decoration-color: #00af00\">128</span>, <span style=\"color: #00af00; text-decoration-color: #00af00\">32</span>) │            <span style=\"color: #00af00; text-decoration-color: #00af00\">1,056</span> │ E1_PC_Embedded_Layer[<span style=\"color: #00af00; text-decoration-color: #00af00\">0</span>][<span style=\"color: #00af00; text-decoration-color: #00af00\">0</span>] │\n",
       "├────────────────────────────────┼───────────────────────────┼──────────────────┼────────────────────────────┤\n",
       "│ E1_PC_Conv2_Layer (<span style=\"color: #0087ff; text-decoration-color: #0087ff\">Conv3D</span>)     │ (<span style=\"color: #00d7ff; text-decoration-color: #00d7ff\">None</span>, <span style=\"color: #00af00; text-decoration-color: #00af00\">128</span>, <span style=\"color: #00af00; text-decoration-color: #00af00\">128</span>, <span style=\"color: #00af00; text-decoration-color: #00af00\">128</span>, <span style=\"color: #00af00; text-decoration-color: #00af00\">32</span>) │           <span style=\"color: #00af00; text-decoration-color: #00af00\">27,680</span> │ E1_PC_Embedded_Layer[<span style=\"color: #00af00; text-decoration-color: #00af00\">0</span>][<span style=\"color: #00af00; text-decoration-color: #00af00\">0</span>] │\n",
       "├────────────────────────────────┼───────────────────────────┼──────────────────┼────────────────────────────┤\n",
       "│ E1_PC_Conv3_Layer (<span style=\"color: #0087ff; text-decoration-color: #0087ff\">Conv3D</span>)     │ (<span style=\"color: #00d7ff; text-decoration-color: #00d7ff\">None</span>, <span style=\"color: #00af00; text-decoration-color: #00af00\">128</span>, <span style=\"color: #00af00; text-decoration-color: #00af00\">128</span>, <span style=\"color: #00af00; text-decoration-color: #00af00\">128</span>, <span style=\"color: #00af00; text-decoration-color: #00af00\">32</span>) │          <span style=\"color: #00af00; text-decoration-color: #00af00\">128,032</span> │ E1_PC_Embedded_Layer[<span style=\"color: #00af00; text-decoration-color: #00af00\">0</span>][<span style=\"color: #00af00; text-decoration-color: #00af00\">0</span>] │\n",
       "├────────────────────────────────┼───────────────────────────┼──────────────────┼────────────────────────────┤\n",
       "│ E1_maxpool1_Layer              │ (<span style=\"color: #00d7ff; text-decoration-color: #00d7ff\">None</span>, <span style=\"color: #00af00; text-decoration-color: #00af00\">64</span>, <span style=\"color: #00af00; text-decoration-color: #00af00\">64</span>, <span style=\"color: #00af00; text-decoration-color: #00af00\">64</span>, <span style=\"color: #00af00; text-decoration-color: #00af00\">32</span>)    │                <span style=\"color: #00af00; text-decoration-color: #00af00\">0</span> │ E1_PC_Conv1_Layer[<span style=\"color: #00af00; text-decoration-color: #00af00\">0</span>][<span style=\"color: #00af00; text-decoration-color: #00af00\">0</span>]    │\n",
       "│ (<span style=\"color: #0087ff; text-decoration-color: #0087ff\">MaxPooling3D</span>)                 │                           │                  │                            │\n",
       "├────────────────────────────────┼───────────────────────────┼──────────────────┼────────────────────────────┤\n",
       "│ E1_maxpool2_Layer              │ (<span style=\"color: #00d7ff; text-decoration-color: #00d7ff\">None</span>, <span style=\"color: #00af00; text-decoration-color: #00af00\">64</span>, <span style=\"color: #00af00; text-decoration-color: #00af00\">64</span>, <span style=\"color: #00af00; text-decoration-color: #00af00\">64</span>, <span style=\"color: #00af00; text-decoration-color: #00af00\">32</span>)    │                <span style=\"color: #00af00; text-decoration-color: #00af00\">0</span> │ E1_PC_Conv2_Layer[<span style=\"color: #00af00; text-decoration-color: #00af00\">0</span>][<span style=\"color: #00af00; text-decoration-color: #00af00\">0</span>]    │\n",
       "│ (<span style=\"color: #0087ff; text-decoration-color: #0087ff\">MaxPooling3D</span>)                 │                           │                  │                            │\n",
       "├────────────────────────────────┼───────────────────────────┼──────────────────┼────────────────────────────┤\n",
       "│ E1_maxpool3_Layer              │ (<span style=\"color: #00d7ff; text-decoration-color: #00d7ff\">None</span>, <span style=\"color: #00af00; text-decoration-color: #00af00\">64</span>, <span style=\"color: #00af00; text-decoration-color: #00af00\">64</span>, <span style=\"color: #00af00; text-decoration-color: #00af00\">64</span>, <span style=\"color: #00af00; text-decoration-color: #00af00\">32</span>)    │                <span style=\"color: #00af00; text-decoration-color: #00af00\">0</span> │ E1_PC_Conv3_Layer[<span style=\"color: #00af00; text-decoration-color: #00af00\">0</span>][<span style=\"color: #00af00; text-decoration-color: #00af00\">0</span>]    │\n",
       "│ (<span style=\"color: #0087ff; text-decoration-color: #0087ff\">MaxPooling3D</span>)                 │                           │                  │                            │\n",
       "├────────────────────────────────┼───────────────────────────┼──────────────────┼────────────────────────────┤\n",
       "│ E1_concat_Layer (<span style=\"color: #0087ff; text-decoration-color: #0087ff\">Concatenate</span>)  │ (<span style=\"color: #00d7ff; text-decoration-color: #00d7ff\">None</span>, <span style=\"color: #00af00; text-decoration-color: #00af00\">64</span>, <span style=\"color: #00af00; text-decoration-color: #00af00\">64</span>, <span style=\"color: #00af00; text-decoration-color: #00af00\">64</span>, <span style=\"color: #00af00; text-decoration-color: #00af00\">96</span>)    │                <span style=\"color: #00af00; text-decoration-color: #00af00\">0</span> │ E1_maxpool1_Layer[<span style=\"color: #00af00; text-decoration-color: #00af00\">0</span>][<span style=\"color: #00af00; text-decoration-color: #00af00\">0</span>],   │\n",
       "│                                │                           │                  │ E1_maxpool2_Layer[<span style=\"color: #00af00; text-decoration-color: #00af00\">0</span>][<span style=\"color: #00af00; text-decoration-color: #00af00\">0</span>],   │\n",
       "│                                │                           │                  │ E1_maxpool3_Layer[<span style=\"color: #00af00; text-decoration-color: #00af00\">0</span>][<span style=\"color: #00af00; text-decoration-color: #00af00\">0</span>]    │\n",
       "├────────────────────────────────┼───────────────────────────┼──────────────────┼────────────────────────────┤\n",
       "│ E2_SE1_Layer (<span style=\"color: #0087ff; text-decoration-color: #0087ff\">SE_Layer</span>)        │ (<span style=\"color: #00d7ff; text-decoration-color: #00d7ff\">None</span>, <span style=\"color: #00af00; text-decoration-color: #00af00\">64</span>, <span style=\"color: #00af00; text-decoration-color: #00af00\">64</span>, <span style=\"color: #00af00; text-decoration-color: #00af00\">64</span>, <span style=\"color: #00af00; text-decoration-color: #00af00\">96</span>)    │            <span style=\"color: #00af00; text-decoration-color: #00af00\">2,412</span> │ E1_concat_Layer[<span style=\"color: #00af00; text-decoration-color: #00af00\">0</span>][<span style=\"color: #00af00; text-decoration-color: #00af00\">0</span>]      │\n",
       "├────────────────────────────────┼───────────────────────────┼──────────────────┼────────────────────────────┤\n",
       "│ E2_Conv1_Layer (<span style=\"color: #0087ff; text-decoration-color: #0087ff\">Conv3D</span>)        │ (<span style=\"color: #00d7ff; text-decoration-color: #00d7ff\">None</span>, <span style=\"color: #00af00; text-decoration-color: #00af00\">64</span>, <span style=\"color: #00af00; text-decoration-color: #00af00\">64</span>, <span style=\"color: #00af00; text-decoration-color: #00af00\">64</span>, <span style=\"color: #00af00; text-decoration-color: #00af00\">64</span>)    │          <span style=\"color: #00af00; text-decoration-color: #00af00\">165,952</span> │ E2_SE1_Layer[<span style=\"color: #00af00; text-decoration-color: #00af00\">0</span>][<span style=\"color: #00af00; text-decoration-color: #00af00\">0</span>]         │\n",
       "├────────────────────────────────┼───────────────────────────┼──────────────────┼────────────────────────────┤\n",
       "│ E2_instance_Layer              │ (<span style=\"color: #00d7ff; text-decoration-color: #00d7ff\">None</span>, <span style=\"color: #00af00; text-decoration-color: #00af00\">64</span>, <span style=\"color: #00af00; text-decoration-color: #00af00\">64</span>, <span style=\"color: #00af00; text-decoration-color: #00af00\">64</span>, <span style=\"color: #00af00; text-decoration-color: #00af00\">64</span>)    │              <span style=\"color: #00af00; text-decoration-color: #00af00\">128</span> │ E2_Conv1_Layer[<span style=\"color: #00af00; text-decoration-color: #00af00\">0</span>][<span style=\"color: #00af00; text-decoration-color: #00af00\">0</span>]       │\n",
       "│ (<span style=\"color: #0087ff; text-decoration-color: #0087ff\">InstanceNormalization</span>)        │                           │                  │                            │\n",
       "├────────────────────────────────┼───────────────────────────┼──────────────────┼────────────────────────────┤\n",
       "│ E2_Conv2_Layer (<span style=\"color: #0087ff; text-decoration-color: #0087ff\">Conv3D</span>)        │ (<span style=\"color: #00d7ff; text-decoration-color: #00d7ff\">None</span>, <span style=\"color: #00af00; text-decoration-color: #00af00\">64</span>, <span style=\"color: #00af00; text-decoration-color: #00af00\">64</span>, <span style=\"color: #00af00; text-decoration-color: #00af00\">64</span>, <span style=\"color: #00af00; text-decoration-color: #00af00\">64</span>)    │          <span style=\"color: #00af00; text-decoration-color: #00af00\">110,656</span> │ E2_instance_Layer[<span style=\"color: #00af00; text-decoration-color: #00af00\">0</span>][<span style=\"color: #00af00; text-decoration-color: #00af00\">0</span>]    │\n",
       "├────────────────────────────────┼───────────────────────────┼──────────────────┼────────────────────────────┤\n",
       "│ E2_Drop (<span style=\"color: #0087ff; text-decoration-color: #0087ff\">Dropout</span>)              │ (<span style=\"color: #00d7ff; text-decoration-color: #00d7ff\">None</span>, <span style=\"color: #00af00; text-decoration-color: #00af00\">64</span>, <span style=\"color: #00af00; text-decoration-color: #00af00\">64</span>, <span style=\"color: #00af00; text-decoration-color: #00af00\">64</span>, <span style=\"color: #00af00; text-decoration-color: #00af00\">64</span>)    │                <span style=\"color: #00af00; text-decoration-color: #00af00\">0</span> │ E2_Conv2_Layer[<span style=\"color: #00af00; text-decoration-color: #00af00\">0</span>][<span style=\"color: #00af00; text-decoration-color: #00af00\">0</span>]       │\n",
       "├────────────────────────────────┼───────────────────────────┼──────────────────┼────────────────────────────┤\n",
       "│ E2_maxpool1_Layer              │ (<span style=\"color: #00d7ff; text-decoration-color: #00d7ff\">None</span>, <span style=\"color: #00af00; text-decoration-color: #00af00\">32</span>, <span style=\"color: #00af00; text-decoration-color: #00af00\">32</span>, <span style=\"color: #00af00; text-decoration-color: #00af00\">32</span>, <span style=\"color: #00af00; text-decoration-color: #00af00\">64</span>)    │                <span style=\"color: #00af00; text-decoration-color: #00af00\">0</span> │ E2_Drop[<span style=\"color: #00af00; text-decoration-color: #00af00\">0</span>][<span style=\"color: #00af00; text-decoration-color: #00af00\">0</span>]              │\n",
       "│ (<span style=\"color: #0087ff; text-decoration-color: #0087ff\">MaxPooling3D</span>)                 │                           │                  │                            │\n",
       "├────────────────────────────────┼───────────────────────────┼──────────────────┼────────────────────────────┤\n",
       "│ E3_SE1_Layer (<span style=\"color: #0087ff; text-decoration-color: #0087ff\">SE_Layer</span>)        │ (<span style=\"color: #00d7ff; text-decoration-color: #00d7ff\">None</span>, <span style=\"color: #00af00; text-decoration-color: #00af00\">32</span>, <span style=\"color: #00af00; text-decoration-color: #00af00\">32</span>, <span style=\"color: #00af00; text-decoration-color: #00af00\">32</span>, <span style=\"color: #00af00; text-decoration-color: #00af00\">64</span>)    │            <span style=\"color: #00af00; text-decoration-color: #00af00\">1,096</span> │ E2_maxpool1_Layer[<span style=\"color: #00af00; text-decoration-color: #00af00\">0</span>][<span style=\"color: #00af00; text-decoration-color: #00af00\">0</span>]    │\n",
       "├────────────────────────────────┼───────────────────────────┼──────────────────┼────────────────────────────┤\n",
       "│ E3_Conv1_Layer (<span style=\"color: #0087ff; text-decoration-color: #0087ff\">Conv3D</span>)        │ (<span style=\"color: #00d7ff; text-decoration-color: #00d7ff\">None</span>, <span style=\"color: #00af00; text-decoration-color: #00af00\">32</span>, <span style=\"color: #00af00; text-decoration-color: #00af00\">32</span>, <span style=\"color: #00af00; text-decoration-color: #00af00\">32</span>, <span style=\"color: #00af00; text-decoration-color: #00af00\">128</span>)   │          <span style=\"color: #00af00; text-decoration-color: #00af00\">221,312</span> │ E3_SE1_Layer[<span style=\"color: #00af00; text-decoration-color: #00af00\">0</span>][<span style=\"color: #00af00; text-decoration-color: #00af00\">0</span>]         │\n",
       "├────────────────────────────────┼───────────────────────────┼──────────────────┼────────────────────────────┤\n",
       "│ E3_instance_Layer              │ (<span style=\"color: #00d7ff; text-decoration-color: #00d7ff\">None</span>, <span style=\"color: #00af00; text-decoration-color: #00af00\">32</span>, <span style=\"color: #00af00; text-decoration-color: #00af00\">32</span>, <span style=\"color: #00af00; text-decoration-color: #00af00\">32</span>, <span style=\"color: #00af00; text-decoration-color: #00af00\">128</span>)   │              <span style=\"color: #00af00; text-decoration-color: #00af00\">256</span> │ E3_Conv1_Layer[<span style=\"color: #00af00; text-decoration-color: #00af00\">0</span>][<span style=\"color: #00af00; text-decoration-color: #00af00\">0</span>]       │\n",
       "│ (<span style=\"color: #0087ff; text-decoration-color: #0087ff\">InstanceNormalization</span>)        │                           │                  │                            │\n",
       "├────────────────────────────────┼───────────────────────────┼──────────────────┼────────────────────────────┤\n",
       "│ E3_Conv2_Layer (<span style=\"color: #0087ff; text-decoration-color: #0087ff\">Conv3D</span>)        │ (<span style=\"color: #00d7ff; text-decoration-color: #00d7ff\">None</span>, <span style=\"color: #00af00; text-decoration-color: #00af00\">32</span>, <span style=\"color: #00af00; text-decoration-color: #00af00\">32</span>, <span style=\"color: #00af00; text-decoration-color: #00af00\">32</span>, <span style=\"color: #00af00; text-decoration-color: #00af00\">128</span>)   │          <span style=\"color: #00af00; text-decoration-color: #00af00\">442,496</span> │ E3_instance_Layer[<span style=\"color: #00af00; text-decoration-color: #00af00\">0</span>][<span style=\"color: #00af00; text-decoration-color: #00af00\">0</span>]    │\n",
       "├────────────────────────────────┼───────────────────────────┼──────────────────┼────────────────────────────┤\n",
       "│ E3_drop (<span style=\"color: #0087ff; text-decoration-color: #0087ff\">Dropout</span>)              │ (<span style=\"color: #00d7ff; text-decoration-color: #00d7ff\">None</span>, <span style=\"color: #00af00; text-decoration-color: #00af00\">32</span>, <span style=\"color: #00af00; text-decoration-color: #00af00\">32</span>, <span style=\"color: #00af00; text-decoration-color: #00af00\">32</span>, <span style=\"color: #00af00; text-decoration-color: #00af00\">128</span>)   │                <span style=\"color: #00af00; text-decoration-color: #00af00\">0</span> │ E3_Conv2_Layer[<span style=\"color: #00af00; text-decoration-color: #00af00\">0</span>][<span style=\"color: #00af00; text-decoration-color: #00af00\">0</span>]       │\n",
       "├────────────────────────────────┼───────────────────────────┼──────────────────┼────────────────────────────┤\n",
       "│ E3_maxpool1_Layer              │ (<span style=\"color: #00d7ff; text-decoration-color: #00d7ff\">None</span>, <span style=\"color: #00af00; text-decoration-color: #00af00\">16</span>, <span style=\"color: #00af00; text-decoration-color: #00af00\">16</span>, <span style=\"color: #00af00; text-decoration-color: #00af00\">16</span>, <span style=\"color: #00af00; text-decoration-color: #00af00\">128</span>)   │                <span style=\"color: #00af00; text-decoration-color: #00af00\">0</span> │ E3_drop[<span style=\"color: #00af00; text-decoration-color: #00af00\">0</span>][<span style=\"color: #00af00; text-decoration-color: #00af00\">0</span>]              │\n",
       "│ (<span style=\"color: #0087ff; text-decoration-color: #0087ff\">MaxPooling3D</span>)                 │                           │                  │                            │\n",
       "├────────────────────────────────┼───────────────────────────┼──────────────────┼────────────────────────────┤\n",
       "│ BN_SE1_Layer (<span style=\"color: #0087ff; text-decoration-color: #0087ff\">SE_Layer</span>)        │ (<span style=\"color: #00d7ff; text-decoration-color: #00d7ff\">None</span>, <span style=\"color: #00af00; text-decoration-color: #00af00\">16</span>, <span style=\"color: #00af00; text-decoration-color: #00af00\">16</span>, <span style=\"color: #00af00; text-decoration-color: #00af00\">16</span>, <span style=\"color: #00af00; text-decoration-color: #00af00\">128</span>)   │            <span style=\"color: #00af00; text-decoration-color: #00af00\">4,240</span> │ E3_maxpool1_Layer[<span style=\"color: #00af00; text-decoration-color: #00af00\">0</span>][<span style=\"color: #00af00; text-decoration-color: #00af00\">0</span>]    │\n",
       "├────────────────────────────────┼───────────────────────────┼──────────────────┼────────────────────────────┤\n",
       "│ D3_up (<span style=\"color: #0087ff; text-decoration-color: #0087ff\">UpSampling3D</span>)           │ (<span style=\"color: #00d7ff; text-decoration-color: #00d7ff\">None</span>, <span style=\"color: #00af00; text-decoration-color: #00af00\">32</span>, <span style=\"color: #00af00; text-decoration-color: #00af00\">32</span>, <span style=\"color: #00af00; text-decoration-color: #00af00\">32</span>, <span style=\"color: #00af00; text-decoration-color: #00af00\">128</span>)   │                <span style=\"color: #00af00; text-decoration-color: #00af00\">0</span> │ BN_SE1_Layer[<span style=\"color: #00af00; text-decoration-color: #00af00\">0</span>][<span style=\"color: #00af00; text-decoration-color: #00af00\">0</span>]         │\n",
       "├────────────────────────────────┼───────────────────────────┼──────────────────┼────────────────────────────┤\n",
       "│ D3_Conv1_Layer (<span style=\"color: #0087ff; text-decoration-color: #0087ff\">Conv3D</span>)        │ (<span style=\"color: #00d7ff; text-decoration-color: #00d7ff\">None</span>, <span style=\"color: #00af00; text-decoration-color: #00af00\">32</span>, <span style=\"color: #00af00; text-decoration-color: #00af00\">32</span>, <span style=\"color: #00af00; text-decoration-color: #00af00\">32</span>, <span style=\"color: #00af00; text-decoration-color: #00af00\">128</span>)   │          <span style=\"color: #00af00; text-decoration-color: #00af00\">442,496</span> │ D3_up[<span style=\"color: #00af00; text-decoration-color: #00af00\">0</span>][<span style=\"color: #00af00; text-decoration-color: #00af00\">0</span>]                │\n",
       "├────────────────────────────────┼───────────────────────────┼──────────────────┼────────────────────────────┤\n",
       "│ D3_instance_Layer              │ (<span style=\"color: #00d7ff; text-decoration-color: #00d7ff\">None</span>, <span style=\"color: #00af00; text-decoration-color: #00af00\">32</span>, <span style=\"color: #00af00; text-decoration-color: #00af00\">32</span>, <span style=\"color: #00af00; text-decoration-color: #00af00\">32</span>, <span style=\"color: #00af00; text-decoration-color: #00af00\">128</span>)   │              <span style=\"color: #00af00; text-decoration-color: #00af00\">256</span> │ D3_Conv1_Layer[<span style=\"color: #00af00; text-decoration-color: #00af00\">0</span>][<span style=\"color: #00af00; text-decoration-color: #00af00\">0</span>]       │\n",
       "│ (<span style=\"color: #0087ff; text-decoration-color: #0087ff\">InstanceNormalization</span>)        │                           │                  │                            │\n",
       "├────────────────────────────────┼───────────────────────────┼──────────────────┼────────────────────────────┤\n",
       "│ D3_concat_Layer (<span style=\"color: #0087ff; text-decoration-color: #0087ff\">Concatenate</span>)  │ (<span style=\"color: #00d7ff; text-decoration-color: #00d7ff\">None</span>, <span style=\"color: #00af00; text-decoration-color: #00af00\">32</span>, <span style=\"color: #00af00; text-decoration-color: #00af00\">32</span>, <span style=\"color: #00af00; text-decoration-color: #00af00\">32</span>, <span style=\"color: #00af00; text-decoration-color: #00af00\">256</span>)   │                <span style=\"color: #00af00; text-decoration-color: #00af00\">0</span> │ D3_instance_Layer[<span style=\"color: #00af00; text-decoration-color: #00af00\">0</span>][<span style=\"color: #00af00; text-decoration-color: #00af00\">0</span>],   │\n",
       "│                                │                           │                  │ E3_drop[<span style=\"color: #00af00; text-decoration-color: #00af00\">0</span>][<span style=\"color: #00af00; text-decoration-color: #00af00\">0</span>]              │\n",
       "├────────────────────────────────┼───────────────────────────┼──────────────────┼────────────────────────────┤\n",
       "│ D3_Conv2_Layer (<span style=\"color: #0087ff; text-decoration-color: #0087ff\">Conv3D</span>)        │ (<span style=\"color: #00d7ff; text-decoration-color: #00d7ff\">None</span>, <span style=\"color: #00af00; text-decoration-color: #00af00\">32</span>, <span style=\"color: #00af00; text-decoration-color: #00af00\">32</span>, <span style=\"color: #00af00; text-decoration-color: #00af00\">32</span>, <span style=\"color: #00af00; text-decoration-color: #00af00\">128</span>)   │          <span style=\"color: #00af00; text-decoration-color: #00af00\">884,864</span> │ D3_concat_Layer[<span style=\"color: #00af00; text-decoration-color: #00af00\">0</span>][<span style=\"color: #00af00; text-decoration-color: #00af00\">0</span>]      │\n",
       "├────────────────────────────────┼───────────────────────────┼──────────────────┼────────────────────────────┤\n",
       "│ D3_SE1_Layer (<span style=\"color: #0087ff; text-decoration-color: #0087ff\">SE_Layer</span>)        │ (<span style=\"color: #00d7ff; text-decoration-color: #00d7ff\">None</span>, <span style=\"color: #00af00; text-decoration-color: #00af00\">32</span>, <span style=\"color: #00af00; text-decoration-color: #00af00\">32</span>, <span style=\"color: #00af00; text-decoration-color: #00af00\">32</span>, <span style=\"color: #00af00; text-decoration-color: #00af00\">128</span>)   │            <span style=\"color: #00af00; text-decoration-color: #00af00\">4,240</span> │ D3_Conv2_Layer[<span style=\"color: #00af00; text-decoration-color: #00af00\">0</span>][<span style=\"color: #00af00; text-decoration-color: #00af00\">0</span>]       │\n",
       "├────────────────────────────────┼───────────────────────────┼──────────────────┼────────────────────────────┤\n",
       "│ D3_drop (<span style=\"color: #0087ff; text-decoration-color: #0087ff\">Dropout</span>)              │ (<span style=\"color: #00d7ff; text-decoration-color: #00d7ff\">None</span>, <span style=\"color: #00af00; text-decoration-color: #00af00\">32</span>, <span style=\"color: #00af00; text-decoration-color: #00af00\">32</span>, <span style=\"color: #00af00; text-decoration-color: #00af00\">32</span>, <span style=\"color: #00af00; text-decoration-color: #00af00\">128</span>)   │                <span style=\"color: #00af00; text-decoration-color: #00af00\">0</span> │ D3_SE1_Layer[<span style=\"color: #00af00; text-decoration-color: #00af00\">0</span>][<span style=\"color: #00af00; text-decoration-color: #00af00\">0</span>]         │\n",
       "├────────────────────────────────┼───────────────────────────┼──────────────────┼────────────────────────────┤\n",
       "│ D3_Conv3_Layer (<span style=\"color: #0087ff; text-decoration-color: #0087ff\">Conv3D</span>)        │ (<span style=\"color: #00d7ff; text-decoration-color: #00d7ff\">None</span>, <span style=\"color: #00af00; text-decoration-color: #00af00\">32</span>, <span style=\"color: #00af00; text-decoration-color: #00af00\">32</span>, <span style=\"color: #00af00; text-decoration-color: #00af00\">32</span>, <span style=\"color: #00af00; text-decoration-color: #00af00\">128</span>)   │          <span style=\"color: #00af00; text-decoration-color: #00af00\">442,496</span> │ D3_drop[<span style=\"color: #00af00; text-decoration-color: #00af00\">0</span>][<span style=\"color: #00af00; text-decoration-color: #00af00\">0</span>]              │\n",
       "├────────────────────────────────┼───────────────────────────┼──────────────────┼────────────────────────────┤\n",
       "│ D2_up (<span style=\"color: #0087ff; text-decoration-color: #0087ff\">UpSampling3D</span>)           │ (<span style=\"color: #00d7ff; text-decoration-color: #00d7ff\">None</span>, <span style=\"color: #00af00; text-decoration-color: #00af00\">64</span>, <span style=\"color: #00af00; text-decoration-color: #00af00\">64</span>, <span style=\"color: #00af00; text-decoration-color: #00af00\">64</span>, <span style=\"color: #00af00; text-decoration-color: #00af00\">128</span>)   │                <span style=\"color: #00af00; text-decoration-color: #00af00\">0</span> │ D3_Conv3_Layer[<span style=\"color: #00af00; text-decoration-color: #00af00\">0</span>][<span style=\"color: #00af00; text-decoration-color: #00af00\">0</span>]       │\n",
       "├────────────────────────────────┼───────────────────────────┼──────────────────┼────────────────────────────┤\n",
       "│ D2_Conv1_Layer (<span style=\"color: #0087ff; text-decoration-color: #0087ff\">Conv3D</span>)        │ (<span style=\"color: #00d7ff; text-decoration-color: #00d7ff\">None</span>, <span style=\"color: #00af00; text-decoration-color: #00af00\">64</span>, <span style=\"color: #00af00; text-decoration-color: #00af00\">64</span>, <span style=\"color: #00af00; text-decoration-color: #00af00\">64</span>, <span style=\"color: #00af00; text-decoration-color: #00af00\">64</span>)    │          <span style=\"color: #00af00; text-decoration-color: #00af00\">221,248</span> │ D2_up[<span style=\"color: #00af00; text-decoration-color: #00af00\">0</span>][<span style=\"color: #00af00; text-decoration-color: #00af00\">0</span>]                │\n",
       "├────────────────────────────────┼───────────────────────────┼──────────────────┼────────────────────────────┤\n",
       "│ D2_instance_Layer              │ (<span style=\"color: #00d7ff; text-decoration-color: #00d7ff\">None</span>, <span style=\"color: #00af00; text-decoration-color: #00af00\">64</span>, <span style=\"color: #00af00; text-decoration-color: #00af00\">64</span>, <span style=\"color: #00af00; text-decoration-color: #00af00\">64</span>, <span style=\"color: #00af00; text-decoration-color: #00af00\">64</span>)    │              <span style=\"color: #00af00; text-decoration-color: #00af00\">128</span> │ D2_Conv1_Layer[<span style=\"color: #00af00; text-decoration-color: #00af00\">0</span>][<span style=\"color: #00af00; text-decoration-color: #00af00\">0</span>]       │\n",
       "│ (<span style=\"color: #0087ff; text-decoration-color: #0087ff\">InstanceNormalization</span>)        │                           │                  │                            │\n",
       "├────────────────────────────────┼───────────────────────────┼──────────────────┼────────────────────────────┤\n",
       "│ D2_concat_Layer (<span style=\"color: #0087ff; text-decoration-color: #0087ff\">Concatenate</span>)  │ (<span style=\"color: #00d7ff; text-decoration-color: #00d7ff\">None</span>, <span style=\"color: #00af00; text-decoration-color: #00af00\">64</span>, <span style=\"color: #00af00; text-decoration-color: #00af00\">64</span>, <span style=\"color: #00af00; text-decoration-color: #00af00\">64</span>, <span style=\"color: #00af00; text-decoration-color: #00af00\">128</span>)   │                <span style=\"color: #00af00; text-decoration-color: #00af00\">0</span> │ D2_instance_Layer[<span style=\"color: #00af00; text-decoration-color: #00af00\">0</span>][<span style=\"color: #00af00; text-decoration-color: #00af00\">0</span>],   │\n",
       "│                                │                           │                  │ E2_Drop[<span style=\"color: #00af00; text-decoration-color: #00af00\">0</span>][<span style=\"color: #00af00; text-decoration-color: #00af00\">0</span>]              │\n",
       "├────────────────────────────────┼───────────────────────────┼──────────────────┼────────────────────────────┤\n",
       "│ D2_Conv2_Layer (<span style=\"color: #0087ff; text-decoration-color: #0087ff\">Conv3D</span>)        │ (<span style=\"color: #00d7ff; text-decoration-color: #00d7ff\">None</span>, <span style=\"color: #00af00; text-decoration-color: #00af00\">64</span>, <span style=\"color: #00af00; text-decoration-color: #00af00\">64</span>, <span style=\"color: #00af00; text-decoration-color: #00af00\">64</span>, <span style=\"color: #00af00; text-decoration-color: #00af00\">64</span>)    │          <span style=\"color: #00af00; text-decoration-color: #00af00\">221,248</span> │ D2_concat_Layer[<span style=\"color: #00af00; text-decoration-color: #00af00\">0</span>][<span style=\"color: #00af00; text-decoration-color: #00af00\">0</span>]      │\n",
       "├────────────────────────────────┼───────────────────────────┼──────────────────┼────────────────────────────┤\n",
       "│ D2_SE1_Layer (<span style=\"color: #0087ff; text-decoration-color: #0087ff\">SE_Layer</span>)        │ (<span style=\"color: #00d7ff; text-decoration-color: #00d7ff\">None</span>, <span style=\"color: #00af00; text-decoration-color: #00af00\">64</span>, <span style=\"color: #00af00; text-decoration-color: #00af00\">64</span>, <span style=\"color: #00af00; text-decoration-color: #00af00\">64</span>, <span style=\"color: #00af00; text-decoration-color: #00af00\">64</span>)    │            <span style=\"color: #00af00; text-decoration-color: #00af00\">1,096</span> │ D2_Conv2_Layer[<span style=\"color: #00af00; text-decoration-color: #00af00\">0</span>][<span style=\"color: #00af00; text-decoration-color: #00af00\">0</span>]       │\n",
       "├────────────────────────────────┼───────────────────────────┼──────────────────┼────────────────────────────┤\n",
       "│ D2_drop (<span style=\"color: #0087ff; text-decoration-color: #0087ff\">Dropout</span>)              │ (<span style=\"color: #00d7ff; text-decoration-color: #00d7ff\">None</span>, <span style=\"color: #00af00; text-decoration-color: #00af00\">64</span>, <span style=\"color: #00af00; text-decoration-color: #00af00\">64</span>, <span style=\"color: #00af00; text-decoration-color: #00af00\">64</span>, <span style=\"color: #00af00; text-decoration-color: #00af00\">64</span>)    │                <span style=\"color: #00af00; text-decoration-color: #00af00\">0</span> │ D2_SE1_Layer[<span style=\"color: #00af00; text-decoration-color: #00af00\">0</span>][<span style=\"color: #00af00; text-decoration-color: #00af00\">0</span>]         │\n",
       "├────────────────────────────────┼───────────────────────────┼──────────────────┼────────────────────────────┤\n",
       "│ D2_Conv3_Layer (<span style=\"color: #0087ff; text-decoration-color: #0087ff\">Conv3D</span>)        │ (<span style=\"color: #00d7ff; text-decoration-color: #00d7ff\">None</span>, <span style=\"color: #00af00; text-decoration-color: #00af00\">64</span>, <span style=\"color: #00af00; text-decoration-color: #00af00\">64</span>, <span style=\"color: #00af00; text-decoration-color: #00af00\">64</span>, <span style=\"color: #00af00; text-decoration-color: #00af00\">64</span>)    │          <span style=\"color: #00af00; text-decoration-color: #00af00\">110,656</span> │ D2_drop[<span style=\"color: #00af00; text-decoration-color: #00af00\">0</span>][<span style=\"color: #00af00; text-decoration-color: #00af00\">0</span>]              │\n",
       "├────────────────────────────────┼───────────────────────────┼──────────────────┼────────────────────────────┤\n",
       "│ D1_up (<span style=\"color: #0087ff; text-decoration-color: #0087ff\">UpSampling3D</span>)           │ (<span style=\"color: #00d7ff; text-decoration-color: #00d7ff\">None</span>, <span style=\"color: #00af00; text-decoration-color: #00af00\">128</span>, <span style=\"color: #00af00; text-decoration-color: #00af00\">128</span>, <span style=\"color: #00af00; text-decoration-color: #00af00\">128</span>, <span style=\"color: #00af00; text-decoration-color: #00af00\">64</span>) │                <span style=\"color: #00af00; text-decoration-color: #00af00\">0</span> │ D2_Conv3_Layer[<span style=\"color: #00af00; text-decoration-color: #00af00\">0</span>][<span style=\"color: #00af00; text-decoration-color: #00af00\">0</span>]       │\n",
       "├────────────────────────────────┼───────────────────────────┼──────────────────┼────────────────────────────┤\n",
       "│ D1_Conv1_Layer (<span style=\"color: #0087ff; text-decoration-color: #0087ff\">Conv3D</span>)        │ (<span style=\"color: #00d7ff; text-decoration-color: #00d7ff\">None</span>, <span style=\"color: #00af00; text-decoration-color: #00af00\">128</span>, <span style=\"color: #00af00; text-decoration-color: #00af00\">128</span>, <span style=\"color: #00af00; text-decoration-color: #00af00\">128</span>, <span style=\"color: #00af00; text-decoration-color: #00af00\">32</span>) │           <span style=\"color: #00af00; text-decoration-color: #00af00\">55,328</span> │ D1_up[<span style=\"color: #00af00; text-decoration-color: #00af00\">0</span>][<span style=\"color: #00af00; text-decoration-color: #00af00\">0</span>]                │\n",
       "├────────────────────────────────┼───────────────────────────┼──────────────────┼────────────────────────────┤\n",
       "│ D1_instance_Layer              │ (<span style=\"color: #00d7ff; text-decoration-color: #00d7ff\">None</span>, <span style=\"color: #00af00; text-decoration-color: #00af00\">128</span>, <span style=\"color: #00af00; text-decoration-color: #00af00\">128</span>, <span style=\"color: #00af00; text-decoration-color: #00af00\">128</span>, <span style=\"color: #00af00; text-decoration-color: #00af00\">32</span>) │               <span style=\"color: #00af00; text-decoration-color: #00af00\">64</span> │ D1_Conv1_Layer[<span style=\"color: #00af00; text-decoration-color: #00af00\">0</span>][<span style=\"color: #00af00; text-decoration-color: #00af00\">0</span>]       │\n",
       "│ (<span style=\"color: #0087ff; text-decoration-color: #0087ff\">InstanceNormalization</span>)        │                           │                  │                            │\n",
       "├────────────────────────────────┼───────────────────────────┼──────────────────┼────────────────────────────┤\n",
       "│ D1_concat_Layer (<span style=\"color: #0087ff; text-decoration-color: #0087ff\">Concatenate</span>)  │ (<span style=\"color: #00d7ff; text-decoration-color: #00d7ff\">None</span>, <span style=\"color: #00af00; text-decoration-color: #00af00\">128</span>, <span style=\"color: #00af00; text-decoration-color: #00af00\">128</span>, <span style=\"color: #00af00; text-decoration-color: #00af00\">128</span>, <span style=\"color: #00af00; text-decoration-color: #00af00\">64</span>) │                <span style=\"color: #00af00; text-decoration-color: #00af00\">0</span> │ D1_instance_Layer[<span style=\"color: #00af00; text-decoration-color: #00af00\">0</span>][<span style=\"color: #00af00; text-decoration-color: #00af00\">0</span>],   │\n",
       "│                                │                           │                  │ E1_PC_Embedded_Layer[<span style=\"color: #00af00; text-decoration-color: #00af00\">0</span>][<span style=\"color: #00af00; text-decoration-color: #00af00\">0</span>] │\n",
       "├────────────────────────────────┼───────────────────────────┼──────────────────┼────────────────────────────┤\n",
       "│ D1_Conv2_Layer (<span style=\"color: #0087ff; text-decoration-color: #0087ff\">Conv3D</span>)        │ (<span style=\"color: #00d7ff; text-decoration-color: #00d7ff\">None</span>, <span style=\"color: #00af00; text-decoration-color: #00af00\">128</span>, <span style=\"color: #00af00; text-decoration-color: #00af00\">128</span>, <span style=\"color: #00af00; text-decoration-color: #00af00\">128</span>, <span style=\"color: #00af00; text-decoration-color: #00af00\">32</span>) │           <span style=\"color: #00af00; text-decoration-color: #00af00\">55,328</span> │ D1_concat_Layer[<span style=\"color: #00af00; text-decoration-color: #00af00\">0</span>][<span style=\"color: #00af00; text-decoration-color: #00af00\">0</span>]      │\n",
       "├────────────────────────────────┼───────────────────────────┼──────────────────┼────────────────────────────┤\n",
       "│ D1_SE1_Layer (<span style=\"color: #0087ff; text-decoration-color: #0087ff\">SE_Layer</span>)        │ (<span style=\"color: #00d7ff; text-decoration-color: #00d7ff\">None</span>, <span style=\"color: #00af00; text-decoration-color: #00af00\">128</span>, <span style=\"color: #00af00; text-decoration-color: #00af00\">128</span>, <span style=\"color: #00af00; text-decoration-color: #00af00\">128</span>, <span style=\"color: #00af00; text-decoration-color: #00af00\">32</span>) │              <span style=\"color: #00af00; text-decoration-color: #00af00\">292</span> │ D1_Conv2_Layer[<span style=\"color: #00af00; text-decoration-color: #00af00\">0</span>][<span style=\"color: #00af00; text-decoration-color: #00af00\">0</span>]       │\n",
       "├────────────────────────────────┼───────────────────────────┼──────────────────┼────────────────────────────┤\n",
       "│ D1_drop (<span style=\"color: #0087ff; text-decoration-color: #0087ff\">Dropout</span>)              │ (<span style=\"color: #00d7ff; text-decoration-color: #00d7ff\">None</span>, <span style=\"color: #00af00; text-decoration-color: #00af00\">128</span>, <span style=\"color: #00af00; text-decoration-color: #00af00\">128</span>, <span style=\"color: #00af00; text-decoration-color: #00af00\">128</span>, <span style=\"color: #00af00; text-decoration-color: #00af00\">32</span>) │                <span style=\"color: #00af00; text-decoration-color: #00af00\">0</span> │ D1_SE1_Layer[<span style=\"color: #00af00; text-decoration-color: #00af00\">0</span>][<span style=\"color: #00af00; text-decoration-color: #00af00\">0</span>]         │\n",
       "├────────────────────────────────┼───────────────────────────┼──────────────────┼────────────────────────────┤\n",
       "│ D1_Conv3_Layer (<span style=\"color: #0087ff; text-decoration-color: #0087ff\">Conv3D</span>)        │ (<span style=\"color: #00d7ff; text-decoration-color: #00d7ff\">None</span>, <span style=\"color: #00af00; text-decoration-color: #00af00\">128</span>, <span style=\"color: #00af00; text-decoration-color: #00af00\">128</span>, <span style=\"color: #00af00; text-decoration-color: #00af00\">128</span>, <span style=\"color: #00af00; text-decoration-color: #00af00\">32</span>) │           <span style=\"color: #00af00; text-decoration-color: #00af00\">27,680</span> │ D1_drop[<span style=\"color: #00af00; text-decoration-color: #00af00\">0</span>][<span style=\"color: #00af00; text-decoration-color: #00af00\">0</span>]              │\n",
       "├────────────────────────────────┼───────────────────────────┼──────────────────┼────────────────────────────┤\n",
       "│ prob (<span style=\"color: #0087ff; text-decoration-color: #0087ff\">Conv3D</span>)                  │ (<span style=\"color: #00d7ff; text-decoration-color: #00d7ff\">None</span>, <span style=\"color: #00af00; text-decoration-color: #00af00\">128</span>, <span style=\"color: #00af00; text-decoration-color: #00af00\">128</span>, <span style=\"color: #00af00; text-decoration-color: #00af00\">128</span>, <span style=\"color: #00af00; text-decoration-color: #00af00\">4</span>)  │              <span style=\"color: #00af00; text-decoration-color: #00af00\">132</span> │ D1_Conv3_Layer[<span style=\"color: #00af00; text-decoration-color: #00af00\">0</span>][<span style=\"color: #00af00; text-decoration-color: #00af00\">0</span>]       │\n",
       "└────────────────────────────────┴───────────────────────────┴──────────────────┴────────────────────────────┘\n",
       "</pre>\n"
      ]
     },
     "metadata": {},
     "output_type": "display_data"
    },
    {
     "data": {
      "text/plain": [
       "\u001B[1m Total params: \u001B[0m\u001B[38;5;34m3,575,492\u001B[0m (13.64 MB)\n"
      ],
      "text/html": [
       "<pre style=\"white-space:pre;overflow-x:auto;line-height:normal;font-family:Menlo,'DejaVu Sans Mono',consolas,'Courier New',monospace\"><span style=\"font-weight: bold\"> Total params: </span><span style=\"color: #00af00; text-decoration-color: #00af00\">3,575,492</span> (13.64 MB)\n",
       "</pre>\n"
      ]
     },
     "metadata": {},
     "output_type": "display_data"
    },
    {
     "data": {
      "text/plain": [
       "\u001B[1m Trainable params: \u001B[0m\u001B[38;5;34m3,575,492\u001B[0m (13.64 MB)\n"
      ],
      "text/html": [
       "<pre style=\"white-space:pre;overflow-x:auto;line-height:normal;font-family:Menlo,'DejaVu Sans Mono',consolas,'Courier New',monospace\"><span style=\"font-weight: bold\"> Trainable params: </span><span style=\"color: #00af00; text-decoration-color: #00af00\">3,575,492</span> (13.64 MB)\n",
       "</pre>\n"
      ]
     },
     "metadata": {},
     "output_type": "display_data"
    },
    {
     "data": {
      "text/plain": [
       "\u001B[1m Non-trainable params: \u001B[0m\u001B[38;5;34m0\u001B[0m (0.00 B)\n"
      ],
      "text/html": [
       "<pre style=\"white-space:pre;overflow-x:auto;line-height:normal;font-family:Menlo,'DejaVu Sans Mono',consolas,'Courier New',monospace\"><span style=\"font-weight: bold\"> Non-trainable params: </span><span style=\"color: #00af00; text-decoration-color: #00af00\">0</span> (0.00 B)\n",
       "</pre>\n"
      ]
     },
     "metadata": {},
     "output_type": "display_data"
    }
   ],
   "execution_count": 4
  },
  {
   "metadata": {},
   "cell_type": "code",
   "outputs": [],
   "execution_count": null,
   "source": "",
   "id": "9a4447a3e1b8ca5e"
  }
 ],
 "metadata": {
  "kernelspec": {
   "display_name": "Python 3",
   "language": "python",
   "name": "python3"
  },
  "language_info": {
   "codemirror_mode": {
    "name": "ipython",
    "version": 2
   },
   "file_extension": ".py",
   "mimetype": "text/x-python",
   "name": "python",
   "nbconvert_exporter": "python",
   "pygments_lexer": "ipython2",
   "version": "2.7.6"
  }
 },
 "nbformat": 4,
 "nbformat_minor": 5
}
