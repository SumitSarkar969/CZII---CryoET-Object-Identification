{
 "cells": [
  {
   "cell_type": "code",
   "id": "1969015e3aa97441",
   "metadata": {
    "ExecuteTime": {
     "end_time": "2025-01-06T16:57:22.383968Z",
     "start_time": "2025-01-06T16:57:22.376262Z"
    }
   },
   "source": [
    "from deepfindET.utils import copick_tools\n",
    "import copick\n",
    "import os\n",
    "import numpy as np"
   ],
   "outputs": [],
   "execution_count": 4
  },
  {
   "cell_type": "code",
   "id": "ad7984e48b5dbf63",
   "metadata": {
    "ExecuteTime": {
     "end_time": "2025-01-06T16:57:22.872412Z",
     "start_time": "2025-01-06T16:57:22.864806Z"
    }
   },
   "source": [
    "copick_config_path = \"working/copick.json\"\n",
    "copick_root = copick.from_file(copick_config_path)\n",
    "\n",
    "runs = os.listdir('Extracted_Data/train/static/ExperimentRuns')\n",
    "voxel_size = 10\n",
    "tomogram_algo = 'denoised'\n",
    "\n",
    "out_name = 'remotetargets'\n",
    "out_user_id = 'deepfindET'\n",
    "out_session_id = '0'"
   ],
   "outputs": [],
   "execution_count": 5
  },
  {
   "cell_type": "code",
   "id": "1d42b74a43acc452",
   "metadata": {
    "ExecuteTime": {
     "end_time": "2025-01-06T16:57:26.175565Z",
     "start_time": "2025-01-06T16:57:23.583218Z"
    }
   },
   "source": [
    "from sklearn.model_selection import train_test_split\n",
    "from keras._tf_keras.keras.utils import to_categorical\n",
    "import keras._tf_keras.keras as keras\n",
    "from keras._tf_keras.keras.losses import dice, CategoricalFocalCrossentropy\n",
    "from model  import My_LATUP\n",
    "from patchify import patchify\n",
    "import tensorflow as tf\n",
    "\n",
    "class total_loss(keras.losses.Loss):\n",
    "    def call(self, y_true, y_pred):\n",
    "        dice_loss = dice(y_true, y_pred)\n",
    "        focal_loss = CategoricalFocalCrossentropy(from_logits=True)(y_true, y_pred)\n",
    "        return dice_loss +(1* focal_loss)\n",
    "\n",
    "\n",
    "model = My_LATUP(input_shape = (64, 64, 64, 3), loss=dice)\n",
    "model.summary(line_length=110)"
   ],
   "outputs": [
    {
     "data": {
      "text/plain": [
       "\u001B[1mModel: \"MY_LATUP\"\u001B[0m\n"
      ],
      "text/html": [
       "<pre style=\"white-space:pre;overflow-x:auto;line-height:normal;font-family:Menlo,'DejaVu Sans Mono',consolas,'Courier New',monospace\"><span style=\"font-weight: bold\">Model: \"MY_LATUP\"</span>\n",
       "</pre>\n"
      ]
     },
     "metadata": {},
     "output_type": "display_data"
    },
    {
     "data": {
      "text/plain": [
       "┏━━━━━━━━━━━━━━━━━━━━━━━━━━━━━━━━┳━━━━━━━━━━━━━━━━━━━━━━━━━━━┳━━━━━━━━━━━━━━━━━━┳━━━━━━━━━━━━━━━━━━━━━━━━━━━━┓\n",
       "┃\u001B[1m \u001B[0m\u001B[1mLayer (type)                  \u001B[0m\u001B[1m \u001B[0m┃\u001B[1m \u001B[0m\u001B[1mOutput Shape             \u001B[0m\u001B[1m \u001B[0m┃\u001B[1m \u001B[0m\u001B[1m         Param #\u001B[0m\u001B[1m \u001B[0m┃\u001B[1m \u001B[0m\u001B[1mConnected to              \u001B[0m\u001B[1m \u001B[0m┃\n",
       "┡━━━━━━━━━━━━━━━━━━━━━━━━━━━━━━━━╇━━━━━━━━━━━━━━━━━━━━━━━━━━━╇━━━━━━━━━━━━━━━━━━╇━━━━━━━━━━━━━━━━━━━━━━━━━━━━┩\n",
       "│ input_layer_1 (\u001B[38;5;33mInputLayer\u001B[0m)     │ (\u001B[38;5;45mNone\u001B[0m, \u001B[38;5;34m64\u001B[0m, \u001B[38;5;34m64\u001B[0m, \u001B[38;5;34m64\u001B[0m, \u001B[38;5;34m3\u001B[0m)     │                \u001B[38;5;34m0\u001B[0m │ -                          │\n",
       "├────────────────────────────────┼───────────────────────────┼──────────────────┼────────────────────────────┤\n",
       "│ E1_PC_Embedded_Layer (\u001B[38;5;33mConv3D\u001B[0m)  │ (\u001B[38;5;45mNone\u001B[0m, \u001B[38;5;34m64\u001B[0m, \u001B[38;5;34m64\u001B[0m, \u001B[38;5;34m64\u001B[0m, \u001B[38;5;34m32\u001B[0m)    │            \u001B[38;5;34m2,624\u001B[0m │ input_layer_1[\u001B[38;5;34m0\u001B[0m][\u001B[38;5;34m0\u001B[0m]        │\n",
       "├────────────────────────────────┼───────────────────────────┼──────────────────┼────────────────────────────┤\n",
       "│ E1_PC_Conv1_Layer (\u001B[38;5;33mConv3D\u001B[0m)     │ (\u001B[38;5;45mNone\u001B[0m, \u001B[38;5;34m64\u001B[0m, \u001B[38;5;34m64\u001B[0m, \u001B[38;5;34m64\u001B[0m, \u001B[38;5;34m32\u001B[0m)    │            \u001B[38;5;34m1,056\u001B[0m │ E1_PC_Embedded_Layer[\u001B[38;5;34m0\u001B[0m][\u001B[38;5;34m0\u001B[0m] │\n",
       "├────────────────────────────────┼───────────────────────────┼──────────────────┼────────────────────────────┤\n",
       "│ E1_PC_Conv2_Layer (\u001B[38;5;33mConv3D\u001B[0m)     │ (\u001B[38;5;45mNone\u001B[0m, \u001B[38;5;34m64\u001B[0m, \u001B[38;5;34m64\u001B[0m, \u001B[38;5;34m64\u001B[0m, \u001B[38;5;34m32\u001B[0m)    │           \u001B[38;5;34m27,680\u001B[0m │ E1_PC_Embedded_Layer[\u001B[38;5;34m0\u001B[0m][\u001B[38;5;34m0\u001B[0m] │\n",
       "├────────────────────────────────┼───────────────────────────┼──────────────────┼────────────────────────────┤\n",
       "│ E1_PC_Conv3_Layer (\u001B[38;5;33mConv3D\u001B[0m)     │ (\u001B[38;5;45mNone\u001B[0m, \u001B[38;5;34m64\u001B[0m, \u001B[38;5;34m64\u001B[0m, \u001B[38;5;34m64\u001B[0m, \u001B[38;5;34m32\u001B[0m)    │          \u001B[38;5;34m128,032\u001B[0m │ E1_PC_Embedded_Layer[\u001B[38;5;34m0\u001B[0m][\u001B[38;5;34m0\u001B[0m] │\n",
       "├────────────────────────────────┼───────────────────────────┼──────────────────┼────────────────────────────┤\n",
       "│ E1_maxpool1_Layer              │ (\u001B[38;5;45mNone\u001B[0m, \u001B[38;5;34m32\u001B[0m, \u001B[38;5;34m32\u001B[0m, \u001B[38;5;34m32\u001B[0m, \u001B[38;5;34m32\u001B[0m)    │                \u001B[38;5;34m0\u001B[0m │ E1_PC_Conv1_Layer[\u001B[38;5;34m0\u001B[0m][\u001B[38;5;34m0\u001B[0m]    │\n",
       "│ (\u001B[38;5;33mMaxPooling3D\u001B[0m)                 │                           │                  │                            │\n",
       "├────────────────────────────────┼───────────────────────────┼──────────────────┼────────────────────────────┤\n",
       "│ E1_maxpool2_Layer              │ (\u001B[38;5;45mNone\u001B[0m, \u001B[38;5;34m32\u001B[0m, \u001B[38;5;34m32\u001B[0m, \u001B[38;5;34m32\u001B[0m, \u001B[38;5;34m32\u001B[0m)    │                \u001B[38;5;34m0\u001B[0m │ E1_PC_Conv2_Layer[\u001B[38;5;34m0\u001B[0m][\u001B[38;5;34m0\u001B[0m]    │\n",
       "│ (\u001B[38;5;33mMaxPooling3D\u001B[0m)                 │                           │                  │                            │\n",
       "├────────────────────────────────┼───────────────────────────┼──────────────────┼────────────────────────────┤\n",
       "│ E1_maxpool3_Layer              │ (\u001B[38;5;45mNone\u001B[0m, \u001B[38;5;34m32\u001B[0m, \u001B[38;5;34m32\u001B[0m, \u001B[38;5;34m32\u001B[0m, \u001B[38;5;34m32\u001B[0m)    │                \u001B[38;5;34m0\u001B[0m │ E1_PC_Conv3_Layer[\u001B[38;5;34m0\u001B[0m][\u001B[38;5;34m0\u001B[0m]    │\n",
       "│ (\u001B[38;5;33mMaxPooling3D\u001B[0m)                 │                           │                  │                            │\n",
       "├────────────────────────────────┼───────────────────────────┼──────────────────┼────────────────────────────┤\n",
       "│ E1_concat_Layer (\u001B[38;5;33mConcatenate\u001B[0m)  │ (\u001B[38;5;45mNone\u001B[0m, \u001B[38;5;34m32\u001B[0m, \u001B[38;5;34m32\u001B[0m, \u001B[38;5;34m32\u001B[0m, \u001B[38;5;34m96\u001B[0m)    │                \u001B[38;5;34m0\u001B[0m │ E1_maxpool1_Layer[\u001B[38;5;34m0\u001B[0m][\u001B[38;5;34m0\u001B[0m],   │\n",
       "│                                │                           │                  │ E1_maxpool2_Layer[\u001B[38;5;34m0\u001B[0m][\u001B[38;5;34m0\u001B[0m],   │\n",
       "│                                │                           │                  │ E1_maxpool3_Layer[\u001B[38;5;34m0\u001B[0m][\u001B[38;5;34m0\u001B[0m]    │\n",
       "├────────────────────────────────┼───────────────────────────┼──────────────────┼────────────────────────────┤\n",
       "│ E2_SE1_Layer (\u001B[38;5;33mSE_Layer\u001B[0m)        │ (\u001B[38;5;45mNone\u001B[0m, \u001B[38;5;34m32\u001B[0m, \u001B[38;5;34m32\u001B[0m, \u001B[38;5;34m32\u001B[0m, \u001B[38;5;34m96\u001B[0m)    │            \u001B[38;5;34m2,412\u001B[0m │ E1_concat_Layer[\u001B[38;5;34m0\u001B[0m][\u001B[38;5;34m0\u001B[0m]      │\n",
       "├────────────────────────────────┼───────────────────────────┼──────────────────┼────────────────────────────┤\n",
       "│ E2_Conv1_Layer (\u001B[38;5;33mConv3D\u001B[0m)        │ (\u001B[38;5;45mNone\u001B[0m, \u001B[38;5;34m32\u001B[0m, \u001B[38;5;34m32\u001B[0m, \u001B[38;5;34m32\u001B[0m, \u001B[38;5;34m64\u001B[0m)    │          \u001B[38;5;34m165,952\u001B[0m │ E2_SE1_Layer[\u001B[38;5;34m0\u001B[0m][\u001B[38;5;34m0\u001B[0m]         │\n",
       "├────────────────────────────────┼───────────────────────────┼──────────────────┼────────────────────────────┤\n",
       "│ E2_instance_Layer              │ (\u001B[38;5;45mNone\u001B[0m, \u001B[38;5;34m32\u001B[0m, \u001B[38;5;34m32\u001B[0m, \u001B[38;5;34m32\u001B[0m, \u001B[38;5;34m64\u001B[0m)    │              \u001B[38;5;34m128\u001B[0m │ E2_Conv1_Layer[\u001B[38;5;34m0\u001B[0m][\u001B[38;5;34m0\u001B[0m]       │\n",
       "│ (\u001B[38;5;33mInstanceNormalization\u001B[0m)        │                           │                  │                            │\n",
       "├────────────────────────────────┼───────────────────────────┼──────────────────┼────────────────────────────┤\n",
       "│ E2_Conv2_Layer (\u001B[38;5;33mConv3D\u001B[0m)        │ (\u001B[38;5;45mNone\u001B[0m, \u001B[38;5;34m32\u001B[0m, \u001B[38;5;34m32\u001B[0m, \u001B[38;5;34m32\u001B[0m, \u001B[38;5;34m64\u001B[0m)    │          \u001B[38;5;34m110,656\u001B[0m │ E2_instance_Layer[\u001B[38;5;34m0\u001B[0m][\u001B[38;5;34m0\u001B[0m]    │\n",
       "├────────────────────────────────┼───────────────────────────┼──────────────────┼────────────────────────────┤\n",
       "│ E2_Drop (\u001B[38;5;33mDropout\u001B[0m)              │ (\u001B[38;5;45mNone\u001B[0m, \u001B[38;5;34m32\u001B[0m, \u001B[38;5;34m32\u001B[0m, \u001B[38;5;34m32\u001B[0m, \u001B[38;5;34m64\u001B[0m)    │                \u001B[38;5;34m0\u001B[0m │ E2_Conv2_Layer[\u001B[38;5;34m0\u001B[0m][\u001B[38;5;34m0\u001B[0m]       │\n",
       "├────────────────────────────────┼───────────────────────────┼──────────────────┼────────────────────────────┤\n",
       "│ E2_maxpool1_Layer              │ (\u001B[38;5;45mNone\u001B[0m, \u001B[38;5;34m16\u001B[0m, \u001B[38;5;34m16\u001B[0m, \u001B[38;5;34m16\u001B[0m, \u001B[38;5;34m64\u001B[0m)    │                \u001B[38;5;34m0\u001B[0m │ E2_Drop[\u001B[38;5;34m0\u001B[0m][\u001B[38;5;34m0\u001B[0m]              │\n",
       "│ (\u001B[38;5;33mMaxPooling3D\u001B[0m)                 │                           │                  │                            │\n",
       "├────────────────────────────────┼───────────────────────────┼──────────────────┼────────────────────────────┤\n",
       "│ E3_SE1_Layer (\u001B[38;5;33mSE_Layer\u001B[0m)        │ (\u001B[38;5;45mNone\u001B[0m, \u001B[38;5;34m16\u001B[0m, \u001B[38;5;34m16\u001B[0m, \u001B[38;5;34m16\u001B[0m, \u001B[38;5;34m64\u001B[0m)    │            \u001B[38;5;34m1,096\u001B[0m │ E2_maxpool1_Layer[\u001B[38;5;34m0\u001B[0m][\u001B[38;5;34m0\u001B[0m]    │\n",
       "├────────────────────────────────┼───────────────────────────┼──────────────────┼────────────────────────────┤\n",
       "│ E3_Conv1_Layer (\u001B[38;5;33mConv3D\u001B[0m)        │ (\u001B[38;5;45mNone\u001B[0m, \u001B[38;5;34m16\u001B[0m, \u001B[38;5;34m16\u001B[0m, \u001B[38;5;34m16\u001B[0m, \u001B[38;5;34m128\u001B[0m)   │          \u001B[38;5;34m221,312\u001B[0m │ E3_SE1_Layer[\u001B[38;5;34m0\u001B[0m][\u001B[38;5;34m0\u001B[0m]         │\n",
       "├────────────────────────────────┼───────────────────────────┼──────────────────┼────────────────────────────┤\n",
       "│ E3_instance_Layer              │ (\u001B[38;5;45mNone\u001B[0m, \u001B[38;5;34m16\u001B[0m, \u001B[38;5;34m16\u001B[0m, \u001B[38;5;34m16\u001B[0m, \u001B[38;5;34m128\u001B[0m)   │              \u001B[38;5;34m256\u001B[0m │ E3_Conv1_Layer[\u001B[38;5;34m0\u001B[0m][\u001B[38;5;34m0\u001B[0m]       │\n",
       "│ (\u001B[38;5;33mInstanceNormalization\u001B[0m)        │                           │                  │                            │\n",
       "├────────────────────────────────┼───────────────────────────┼──────────────────┼────────────────────────────┤\n",
       "│ E3_Conv2_Layer (\u001B[38;5;33mConv3D\u001B[0m)        │ (\u001B[38;5;45mNone\u001B[0m, \u001B[38;5;34m16\u001B[0m, \u001B[38;5;34m16\u001B[0m, \u001B[38;5;34m16\u001B[0m, \u001B[38;5;34m128\u001B[0m)   │          \u001B[38;5;34m442,496\u001B[0m │ E3_instance_Layer[\u001B[38;5;34m0\u001B[0m][\u001B[38;5;34m0\u001B[0m]    │\n",
       "├────────────────────────────────┼───────────────────────────┼──────────────────┼────────────────────────────┤\n",
       "│ E3_drop (\u001B[38;5;33mDropout\u001B[0m)              │ (\u001B[38;5;45mNone\u001B[0m, \u001B[38;5;34m16\u001B[0m, \u001B[38;5;34m16\u001B[0m, \u001B[38;5;34m16\u001B[0m, \u001B[38;5;34m128\u001B[0m)   │                \u001B[38;5;34m0\u001B[0m │ E3_Conv2_Layer[\u001B[38;5;34m0\u001B[0m][\u001B[38;5;34m0\u001B[0m]       │\n",
       "├────────────────────────────────┼───────────────────────────┼──────────────────┼────────────────────────────┤\n",
       "│ E3_maxpool1_Layer              │ (\u001B[38;5;45mNone\u001B[0m, \u001B[38;5;34m8\u001B[0m, \u001B[38;5;34m8\u001B[0m, \u001B[38;5;34m8\u001B[0m, \u001B[38;5;34m128\u001B[0m)      │                \u001B[38;5;34m0\u001B[0m │ E3_drop[\u001B[38;5;34m0\u001B[0m][\u001B[38;5;34m0\u001B[0m]              │\n",
       "│ (\u001B[38;5;33mMaxPooling3D\u001B[0m)                 │                           │                  │                            │\n",
       "├────────────────────────────────┼───────────────────────────┼──────────────────┼────────────────────────────┤\n",
       "│ BN_SE1_Layer (\u001B[38;5;33mSE_Layer\u001B[0m)        │ (\u001B[38;5;45mNone\u001B[0m, \u001B[38;5;34m8\u001B[0m, \u001B[38;5;34m8\u001B[0m, \u001B[38;5;34m8\u001B[0m, \u001B[38;5;34m128\u001B[0m)      │            \u001B[38;5;34m4,240\u001B[0m │ E3_maxpool1_Layer[\u001B[38;5;34m0\u001B[0m][\u001B[38;5;34m0\u001B[0m]    │\n",
       "├────────────────────────────────┼───────────────────────────┼──────────────────┼────────────────────────────┤\n",
       "│ D3_up (\u001B[38;5;33mUpSampling3D\u001B[0m)           │ (\u001B[38;5;45mNone\u001B[0m, \u001B[38;5;34m16\u001B[0m, \u001B[38;5;34m16\u001B[0m, \u001B[38;5;34m16\u001B[0m, \u001B[38;5;34m128\u001B[0m)   │                \u001B[38;5;34m0\u001B[0m │ BN_SE1_Layer[\u001B[38;5;34m0\u001B[0m][\u001B[38;5;34m0\u001B[0m]         │\n",
       "├────────────────────────────────┼───────────────────────────┼──────────────────┼────────────────────────────┤\n",
       "│ D3_Conv1_Layer (\u001B[38;5;33mConv3D\u001B[0m)        │ (\u001B[38;5;45mNone\u001B[0m, \u001B[38;5;34m16\u001B[0m, \u001B[38;5;34m16\u001B[0m, \u001B[38;5;34m16\u001B[0m, \u001B[38;5;34m128\u001B[0m)   │          \u001B[38;5;34m442,496\u001B[0m │ D3_up[\u001B[38;5;34m0\u001B[0m][\u001B[38;5;34m0\u001B[0m]                │\n",
       "├────────────────────────────────┼───────────────────────────┼──────────────────┼────────────────────────────┤\n",
       "│ D3_instance_Layer              │ (\u001B[38;5;45mNone\u001B[0m, \u001B[38;5;34m16\u001B[0m, \u001B[38;5;34m16\u001B[0m, \u001B[38;5;34m16\u001B[0m, \u001B[38;5;34m128\u001B[0m)   │              \u001B[38;5;34m256\u001B[0m │ D3_Conv1_Layer[\u001B[38;5;34m0\u001B[0m][\u001B[38;5;34m0\u001B[0m]       │\n",
       "│ (\u001B[38;5;33mInstanceNormalization\u001B[0m)        │                           │                  │                            │\n",
       "├────────────────────────────────┼───────────────────────────┼──────────────────┼────────────────────────────┤\n",
       "│ D3_concat_Layer (\u001B[38;5;33mConcatenate\u001B[0m)  │ (\u001B[38;5;45mNone\u001B[0m, \u001B[38;5;34m16\u001B[0m, \u001B[38;5;34m16\u001B[0m, \u001B[38;5;34m16\u001B[0m, \u001B[38;5;34m256\u001B[0m)   │                \u001B[38;5;34m0\u001B[0m │ D3_instance_Layer[\u001B[38;5;34m0\u001B[0m][\u001B[38;5;34m0\u001B[0m],   │\n",
       "│                                │                           │                  │ E3_drop[\u001B[38;5;34m0\u001B[0m][\u001B[38;5;34m0\u001B[0m]              │\n",
       "├────────────────────────────────┼───────────────────────────┼──────────────────┼────────────────────────────┤\n",
       "│ D3_Conv2_Layer (\u001B[38;5;33mConv3D\u001B[0m)        │ (\u001B[38;5;45mNone\u001B[0m, \u001B[38;5;34m16\u001B[0m, \u001B[38;5;34m16\u001B[0m, \u001B[38;5;34m16\u001B[0m, \u001B[38;5;34m128\u001B[0m)   │          \u001B[38;5;34m884,864\u001B[0m │ D3_concat_Layer[\u001B[38;5;34m0\u001B[0m][\u001B[38;5;34m0\u001B[0m]      │\n",
       "├────────────────────────────────┼───────────────────────────┼──────────────────┼────────────────────────────┤\n",
       "│ D3_SE1_Layer (\u001B[38;5;33mSE_Layer\u001B[0m)        │ (\u001B[38;5;45mNone\u001B[0m, \u001B[38;5;34m16\u001B[0m, \u001B[38;5;34m16\u001B[0m, \u001B[38;5;34m16\u001B[0m, \u001B[38;5;34m128\u001B[0m)   │            \u001B[38;5;34m4,240\u001B[0m │ D3_Conv2_Layer[\u001B[38;5;34m0\u001B[0m][\u001B[38;5;34m0\u001B[0m]       │\n",
       "├────────────────────────────────┼───────────────────────────┼──────────────────┼────────────────────────────┤\n",
       "│ D3_drop (\u001B[38;5;33mDropout\u001B[0m)              │ (\u001B[38;5;45mNone\u001B[0m, \u001B[38;5;34m16\u001B[0m, \u001B[38;5;34m16\u001B[0m, \u001B[38;5;34m16\u001B[0m, \u001B[38;5;34m128\u001B[0m)   │                \u001B[38;5;34m0\u001B[0m │ D3_SE1_Layer[\u001B[38;5;34m0\u001B[0m][\u001B[38;5;34m0\u001B[0m]         │\n",
       "├────────────────────────────────┼───────────────────────────┼──────────────────┼────────────────────────────┤\n",
       "│ D3_Conv3_Layer (\u001B[38;5;33mConv3D\u001B[0m)        │ (\u001B[38;5;45mNone\u001B[0m, \u001B[38;5;34m16\u001B[0m, \u001B[38;5;34m16\u001B[0m, \u001B[38;5;34m16\u001B[0m, \u001B[38;5;34m128\u001B[0m)   │          \u001B[38;5;34m442,496\u001B[0m │ D3_drop[\u001B[38;5;34m0\u001B[0m][\u001B[38;5;34m0\u001B[0m]              │\n",
       "├────────────────────────────────┼───────────────────────────┼──────────────────┼────────────────────────────┤\n",
       "│ D2_up (\u001B[38;5;33mUpSampling3D\u001B[0m)           │ (\u001B[38;5;45mNone\u001B[0m, \u001B[38;5;34m32\u001B[0m, \u001B[38;5;34m32\u001B[0m, \u001B[38;5;34m32\u001B[0m, \u001B[38;5;34m128\u001B[0m)   │                \u001B[38;5;34m0\u001B[0m │ D3_Conv3_Layer[\u001B[38;5;34m0\u001B[0m][\u001B[38;5;34m0\u001B[0m]       │\n",
       "├────────────────────────────────┼───────────────────────────┼──────────────────┼────────────────────────────┤\n",
       "│ D2_Conv1_Layer (\u001B[38;5;33mConv3D\u001B[0m)        │ (\u001B[38;5;45mNone\u001B[0m, \u001B[38;5;34m32\u001B[0m, \u001B[38;5;34m32\u001B[0m, \u001B[38;5;34m32\u001B[0m, \u001B[38;5;34m64\u001B[0m)    │          \u001B[38;5;34m221,248\u001B[0m │ D2_up[\u001B[38;5;34m0\u001B[0m][\u001B[38;5;34m0\u001B[0m]                │\n",
       "├────────────────────────────────┼───────────────────────────┼──────────────────┼────────────────────────────┤\n",
       "│ D2_instance_Layer              │ (\u001B[38;5;45mNone\u001B[0m, \u001B[38;5;34m32\u001B[0m, \u001B[38;5;34m32\u001B[0m, \u001B[38;5;34m32\u001B[0m, \u001B[38;5;34m64\u001B[0m)    │              \u001B[38;5;34m128\u001B[0m │ D2_Conv1_Layer[\u001B[38;5;34m0\u001B[0m][\u001B[38;5;34m0\u001B[0m]       │\n",
       "│ (\u001B[38;5;33mInstanceNormalization\u001B[0m)        │                           │                  │                            │\n",
       "├────────────────────────────────┼───────────────────────────┼──────────────────┼────────────────────────────┤\n",
       "│ D2_concat_Layer (\u001B[38;5;33mConcatenate\u001B[0m)  │ (\u001B[38;5;45mNone\u001B[0m, \u001B[38;5;34m32\u001B[0m, \u001B[38;5;34m32\u001B[0m, \u001B[38;5;34m32\u001B[0m, \u001B[38;5;34m128\u001B[0m)   │                \u001B[38;5;34m0\u001B[0m │ D2_instance_Layer[\u001B[38;5;34m0\u001B[0m][\u001B[38;5;34m0\u001B[0m],   │\n",
       "│                                │                           │                  │ E2_Drop[\u001B[38;5;34m0\u001B[0m][\u001B[38;5;34m0\u001B[0m]              │\n",
       "├────────────────────────────────┼───────────────────────────┼──────────────────┼────────────────────────────┤\n",
       "│ D2_Conv2_Layer (\u001B[38;5;33mConv3D\u001B[0m)        │ (\u001B[38;5;45mNone\u001B[0m, \u001B[38;5;34m32\u001B[0m, \u001B[38;5;34m32\u001B[0m, \u001B[38;5;34m32\u001B[0m, \u001B[38;5;34m64\u001B[0m)    │          \u001B[38;5;34m221,248\u001B[0m │ D2_concat_Layer[\u001B[38;5;34m0\u001B[0m][\u001B[38;5;34m0\u001B[0m]      │\n",
       "├────────────────────────────────┼───────────────────────────┼──────────────────┼────────────────────────────┤\n",
       "│ D2_SE1_Layer (\u001B[38;5;33mSE_Layer\u001B[0m)        │ (\u001B[38;5;45mNone\u001B[0m, \u001B[38;5;34m32\u001B[0m, \u001B[38;5;34m32\u001B[0m, \u001B[38;5;34m32\u001B[0m, \u001B[38;5;34m64\u001B[0m)    │            \u001B[38;5;34m1,096\u001B[0m │ D2_Conv2_Layer[\u001B[38;5;34m0\u001B[0m][\u001B[38;5;34m0\u001B[0m]       │\n",
       "├────────────────────────────────┼───────────────────────────┼──────────────────┼────────────────────────────┤\n",
       "│ D2_drop (\u001B[38;5;33mDropout\u001B[0m)              │ (\u001B[38;5;45mNone\u001B[0m, \u001B[38;5;34m32\u001B[0m, \u001B[38;5;34m32\u001B[0m, \u001B[38;5;34m32\u001B[0m, \u001B[38;5;34m64\u001B[0m)    │                \u001B[38;5;34m0\u001B[0m │ D2_SE1_Layer[\u001B[38;5;34m0\u001B[0m][\u001B[38;5;34m0\u001B[0m]         │\n",
       "├────────────────────────────────┼───────────────────────────┼──────────────────┼────────────────────────────┤\n",
       "│ D2_Conv3_Layer (\u001B[38;5;33mConv3D\u001B[0m)        │ (\u001B[38;5;45mNone\u001B[0m, \u001B[38;5;34m32\u001B[0m, \u001B[38;5;34m32\u001B[0m, \u001B[38;5;34m32\u001B[0m, \u001B[38;5;34m64\u001B[0m)    │          \u001B[38;5;34m110,656\u001B[0m │ D2_drop[\u001B[38;5;34m0\u001B[0m][\u001B[38;5;34m0\u001B[0m]              │\n",
       "├────────────────────────────────┼───────────────────────────┼──────────────────┼────────────────────────────┤\n",
       "│ D1_up (\u001B[38;5;33mUpSampling3D\u001B[0m)           │ (\u001B[38;5;45mNone\u001B[0m, \u001B[38;5;34m64\u001B[0m, \u001B[38;5;34m64\u001B[0m, \u001B[38;5;34m64\u001B[0m, \u001B[38;5;34m64\u001B[0m)    │                \u001B[38;5;34m0\u001B[0m │ D2_Conv3_Layer[\u001B[38;5;34m0\u001B[0m][\u001B[38;5;34m0\u001B[0m]       │\n",
       "├────────────────────────────────┼───────────────────────────┼──────────────────┼────────────────────────────┤\n",
       "│ D1_Conv1_Layer (\u001B[38;5;33mConv3D\u001B[0m)        │ (\u001B[38;5;45mNone\u001B[0m, \u001B[38;5;34m64\u001B[0m, \u001B[38;5;34m64\u001B[0m, \u001B[38;5;34m64\u001B[0m, \u001B[38;5;34m32\u001B[0m)    │           \u001B[38;5;34m55,328\u001B[0m │ D1_up[\u001B[38;5;34m0\u001B[0m][\u001B[38;5;34m0\u001B[0m]                │\n",
       "├────────────────────────────────┼───────────────────────────┼──────────────────┼────────────────────────────┤\n",
       "│ D1_instance_Layer              │ (\u001B[38;5;45mNone\u001B[0m, \u001B[38;5;34m64\u001B[0m, \u001B[38;5;34m64\u001B[0m, \u001B[38;5;34m64\u001B[0m, \u001B[38;5;34m32\u001B[0m)    │               \u001B[38;5;34m64\u001B[0m │ D1_Conv1_Layer[\u001B[38;5;34m0\u001B[0m][\u001B[38;5;34m0\u001B[0m]       │\n",
       "│ (\u001B[38;5;33mInstanceNormalization\u001B[0m)        │                           │                  │                            │\n",
       "├────────────────────────────────┼───────────────────────────┼──────────────────┼────────────────────────────┤\n",
       "│ D1_concat_Layer (\u001B[38;5;33mConcatenate\u001B[0m)  │ (\u001B[38;5;45mNone\u001B[0m, \u001B[38;5;34m64\u001B[0m, \u001B[38;5;34m64\u001B[0m, \u001B[38;5;34m64\u001B[0m, \u001B[38;5;34m64\u001B[0m)    │                \u001B[38;5;34m0\u001B[0m │ D1_instance_Layer[\u001B[38;5;34m0\u001B[0m][\u001B[38;5;34m0\u001B[0m],   │\n",
       "│                                │                           │                  │ E1_PC_Embedded_Layer[\u001B[38;5;34m0\u001B[0m][\u001B[38;5;34m0\u001B[0m] │\n",
       "├────────────────────────────────┼───────────────────────────┼──────────────────┼────────────────────────────┤\n",
       "│ D1_Conv2_Layer (\u001B[38;5;33mConv3D\u001B[0m)        │ (\u001B[38;5;45mNone\u001B[0m, \u001B[38;5;34m64\u001B[0m, \u001B[38;5;34m64\u001B[0m, \u001B[38;5;34m64\u001B[0m, \u001B[38;5;34m32\u001B[0m)    │           \u001B[38;5;34m55,328\u001B[0m │ D1_concat_Layer[\u001B[38;5;34m0\u001B[0m][\u001B[38;5;34m0\u001B[0m]      │\n",
       "├────────────────────────────────┼───────────────────────────┼──────────────────┼────────────────────────────┤\n",
       "│ D1_SE1_Layer (\u001B[38;5;33mSE_Layer\u001B[0m)        │ (\u001B[38;5;45mNone\u001B[0m, \u001B[38;5;34m64\u001B[0m, \u001B[38;5;34m64\u001B[0m, \u001B[38;5;34m64\u001B[0m, \u001B[38;5;34m32\u001B[0m)    │              \u001B[38;5;34m292\u001B[0m │ D1_Conv2_Layer[\u001B[38;5;34m0\u001B[0m][\u001B[38;5;34m0\u001B[0m]       │\n",
       "├────────────────────────────────┼───────────────────────────┼──────────────────┼────────────────────────────┤\n",
       "│ D1_drop (\u001B[38;5;33mDropout\u001B[0m)              │ (\u001B[38;5;45mNone\u001B[0m, \u001B[38;5;34m64\u001B[0m, \u001B[38;5;34m64\u001B[0m, \u001B[38;5;34m64\u001B[0m, \u001B[38;5;34m32\u001B[0m)    │                \u001B[38;5;34m0\u001B[0m │ D1_SE1_Layer[\u001B[38;5;34m0\u001B[0m][\u001B[38;5;34m0\u001B[0m]         │\n",
       "├────────────────────────────────┼───────────────────────────┼──────────────────┼────────────────────────────┤\n",
       "│ D1_Conv3_Layer (\u001B[38;5;33mConv3D\u001B[0m)        │ (\u001B[38;5;45mNone\u001B[0m, \u001B[38;5;34m64\u001B[0m, \u001B[38;5;34m64\u001B[0m, \u001B[38;5;34m64\u001B[0m, \u001B[38;5;34m32\u001B[0m)    │           \u001B[38;5;34m27,680\u001B[0m │ D1_drop[\u001B[38;5;34m0\u001B[0m][\u001B[38;5;34m0\u001B[0m]              │\n",
       "├────────────────────────────────┼───────────────────────────┼──────────────────┼────────────────────────────┤\n",
       "│ prob (\u001B[38;5;33mConv3D\u001B[0m)                  │ (\u001B[38;5;45mNone\u001B[0m, \u001B[38;5;34m64\u001B[0m, \u001B[38;5;34m64\u001B[0m, \u001B[38;5;34m64\u001B[0m, \u001B[38;5;34m7\u001B[0m)     │              \u001B[38;5;34m231\u001B[0m │ D1_Conv3_Layer[\u001B[38;5;34m0\u001B[0m][\u001B[38;5;34m0\u001B[0m]       │\n",
       "└────────────────────────────────┴───────────────────────────┴──────────────────┴────────────────────────────┘\n"
      ],
      "text/html": [
       "<pre style=\"white-space:pre;overflow-x:auto;line-height:normal;font-family:Menlo,'DejaVu Sans Mono',consolas,'Courier New',monospace\">┏━━━━━━━━━━━━━━━━━━━━━━━━━━━━━━━━┳━━━━━━━━━━━━━━━━━━━━━━━━━━━┳━━━━━━━━━━━━━━━━━━┳━━━━━━━━━━━━━━━━━━━━━━━━━━━━┓\n",
       "┃<span style=\"font-weight: bold\"> Layer (type)                   </span>┃<span style=\"font-weight: bold\"> Output Shape              </span>┃<span style=\"font-weight: bold\">          Param # </span>┃<span style=\"font-weight: bold\"> Connected to               </span>┃\n",
       "┡━━━━━━━━━━━━━━━━━━━━━━━━━━━━━━━━╇━━━━━━━━━━━━━━━━━━━━━━━━━━━╇━━━━━━━━━━━━━━━━━━╇━━━━━━━━━━━━━━━━━━━━━━━━━━━━┩\n",
       "│ input_layer_1 (<span style=\"color: #0087ff; text-decoration-color: #0087ff\">InputLayer</span>)     │ (<span style=\"color: #00d7ff; text-decoration-color: #00d7ff\">None</span>, <span style=\"color: #00af00; text-decoration-color: #00af00\">64</span>, <span style=\"color: #00af00; text-decoration-color: #00af00\">64</span>, <span style=\"color: #00af00; text-decoration-color: #00af00\">64</span>, <span style=\"color: #00af00; text-decoration-color: #00af00\">3</span>)     │                <span style=\"color: #00af00; text-decoration-color: #00af00\">0</span> │ -                          │\n",
       "├────────────────────────────────┼───────────────────────────┼──────────────────┼────────────────────────────┤\n",
       "│ E1_PC_Embedded_Layer (<span style=\"color: #0087ff; text-decoration-color: #0087ff\">Conv3D</span>)  │ (<span style=\"color: #00d7ff; text-decoration-color: #00d7ff\">None</span>, <span style=\"color: #00af00; text-decoration-color: #00af00\">64</span>, <span style=\"color: #00af00; text-decoration-color: #00af00\">64</span>, <span style=\"color: #00af00; text-decoration-color: #00af00\">64</span>, <span style=\"color: #00af00; text-decoration-color: #00af00\">32</span>)    │            <span style=\"color: #00af00; text-decoration-color: #00af00\">2,624</span> │ input_layer_1[<span style=\"color: #00af00; text-decoration-color: #00af00\">0</span>][<span style=\"color: #00af00; text-decoration-color: #00af00\">0</span>]        │\n",
       "├────────────────────────────────┼───────────────────────────┼──────────────────┼────────────────────────────┤\n",
       "│ E1_PC_Conv1_Layer (<span style=\"color: #0087ff; text-decoration-color: #0087ff\">Conv3D</span>)     │ (<span style=\"color: #00d7ff; text-decoration-color: #00d7ff\">None</span>, <span style=\"color: #00af00; text-decoration-color: #00af00\">64</span>, <span style=\"color: #00af00; text-decoration-color: #00af00\">64</span>, <span style=\"color: #00af00; text-decoration-color: #00af00\">64</span>, <span style=\"color: #00af00; text-decoration-color: #00af00\">32</span>)    │            <span style=\"color: #00af00; text-decoration-color: #00af00\">1,056</span> │ E1_PC_Embedded_Layer[<span style=\"color: #00af00; text-decoration-color: #00af00\">0</span>][<span style=\"color: #00af00; text-decoration-color: #00af00\">0</span>] │\n",
       "├────────────────────────────────┼───────────────────────────┼──────────────────┼────────────────────────────┤\n",
       "│ E1_PC_Conv2_Layer (<span style=\"color: #0087ff; text-decoration-color: #0087ff\">Conv3D</span>)     │ (<span style=\"color: #00d7ff; text-decoration-color: #00d7ff\">None</span>, <span style=\"color: #00af00; text-decoration-color: #00af00\">64</span>, <span style=\"color: #00af00; text-decoration-color: #00af00\">64</span>, <span style=\"color: #00af00; text-decoration-color: #00af00\">64</span>, <span style=\"color: #00af00; text-decoration-color: #00af00\">32</span>)    │           <span style=\"color: #00af00; text-decoration-color: #00af00\">27,680</span> │ E1_PC_Embedded_Layer[<span style=\"color: #00af00; text-decoration-color: #00af00\">0</span>][<span style=\"color: #00af00; text-decoration-color: #00af00\">0</span>] │\n",
       "├────────────────────────────────┼───────────────────────────┼──────────────────┼────────────────────────────┤\n",
       "│ E1_PC_Conv3_Layer (<span style=\"color: #0087ff; text-decoration-color: #0087ff\">Conv3D</span>)     │ (<span style=\"color: #00d7ff; text-decoration-color: #00d7ff\">None</span>, <span style=\"color: #00af00; text-decoration-color: #00af00\">64</span>, <span style=\"color: #00af00; text-decoration-color: #00af00\">64</span>, <span style=\"color: #00af00; text-decoration-color: #00af00\">64</span>, <span style=\"color: #00af00; text-decoration-color: #00af00\">32</span>)    │          <span style=\"color: #00af00; text-decoration-color: #00af00\">128,032</span> │ E1_PC_Embedded_Layer[<span style=\"color: #00af00; text-decoration-color: #00af00\">0</span>][<span style=\"color: #00af00; text-decoration-color: #00af00\">0</span>] │\n",
       "├────────────────────────────────┼───────────────────────────┼──────────────────┼────────────────────────────┤\n",
       "│ E1_maxpool1_Layer              │ (<span style=\"color: #00d7ff; text-decoration-color: #00d7ff\">None</span>, <span style=\"color: #00af00; text-decoration-color: #00af00\">32</span>, <span style=\"color: #00af00; text-decoration-color: #00af00\">32</span>, <span style=\"color: #00af00; text-decoration-color: #00af00\">32</span>, <span style=\"color: #00af00; text-decoration-color: #00af00\">32</span>)    │                <span style=\"color: #00af00; text-decoration-color: #00af00\">0</span> │ E1_PC_Conv1_Layer[<span style=\"color: #00af00; text-decoration-color: #00af00\">0</span>][<span style=\"color: #00af00; text-decoration-color: #00af00\">0</span>]    │\n",
       "│ (<span style=\"color: #0087ff; text-decoration-color: #0087ff\">MaxPooling3D</span>)                 │                           │                  │                            │\n",
       "├────────────────────────────────┼───────────────────────────┼──────────────────┼────────────────────────────┤\n",
       "│ E1_maxpool2_Layer              │ (<span style=\"color: #00d7ff; text-decoration-color: #00d7ff\">None</span>, <span style=\"color: #00af00; text-decoration-color: #00af00\">32</span>, <span style=\"color: #00af00; text-decoration-color: #00af00\">32</span>, <span style=\"color: #00af00; text-decoration-color: #00af00\">32</span>, <span style=\"color: #00af00; text-decoration-color: #00af00\">32</span>)    │                <span style=\"color: #00af00; text-decoration-color: #00af00\">0</span> │ E1_PC_Conv2_Layer[<span style=\"color: #00af00; text-decoration-color: #00af00\">0</span>][<span style=\"color: #00af00; text-decoration-color: #00af00\">0</span>]    │\n",
       "│ (<span style=\"color: #0087ff; text-decoration-color: #0087ff\">MaxPooling3D</span>)                 │                           │                  │                            │\n",
       "├────────────────────────────────┼───────────────────────────┼──────────────────┼────────────────────────────┤\n",
       "│ E1_maxpool3_Layer              │ (<span style=\"color: #00d7ff; text-decoration-color: #00d7ff\">None</span>, <span style=\"color: #00af00; text-decoration-color: #00af00\">32</span>, <span style=\"color: #00af00; text-decoration-color: #00af00\">32</span>, <span style=\"color: #00af00; text-decoration-color: #00af00\">32</span>, <span style=\"color: #00af00; text-decoration-color: #00af00\">32</span>)    │                <span style=\"color: #00af00; text-decoration-color: #00af00\">0</span> │ E1_PC_Conv3_Layer[<span style=\"color: #00af00; text-decoration-color: #00af00\">0</span>][<span style=\"color: #00af00; text-decoration-color: #00af00\">0</span>]    │\n",
       "│ (<span style=\"color: #0087ff; text-decoration-color: #0087ff\">MaxPooling3D</span>)                 │                           │                  │                            │\n",
       "├────────────────────────────────┼───────────────────────────┼──────────────────┼────────────────────────────┤\n",
       "│ E1_concat_Layer (<span style=\"color: #0087ff; text-decoration-color: #0087ff\">Concatenate</span>)  │ (<span style=\"color: #00d7ff; text-decoration-color: #00d7ff\">None</span>, <span style=\"color: #00af00; text-decoration-color: #00af00\">32</span>, <span style=\"color: #00af00; text-decoration-color: #00af00\">32</span>, <span style=\"color: #00af00; text-decoration-color: #00af00\">32</span>, <span style=\"color: #00af00; text-decoration-color: #00af00\">96</span>)    │                <span style=\"color: #00af00; text-decoration-color: #00af00\">0</span> │ E1_maxpool1_Layer[<span style=\"color: #00af00; text-decoration-color: #00af00\">0</span>][<span style=\"color: #00af00; text-decoration-color: #00af00\">0</span>],   │\n",
       "│                                │                           │                  │ E1_maxpool2_Layer[<span style=\"color: #00af00; text-decoration-color: #00af00\">0</span>][<span style=\"color: #00af00; text-decoration-color: #00af00\">0</span>],   │\n",
       "│                                │                           │                  │ E1_maxpool3_Layer[<span style=\"color: #00af00; text-decoration-color: #00af00\">0</span>][<span style=\"color: #00af00; text-decoration-color: #00af00\">0</span>]    │\n",
       "├────────────────────────────────┼───────────────────────────┼──────────────────┼────────────────────────────┤\n",
       "│ E2_SE1_Layer (<span style=\"color: #0087ff; text-decoration-color: #0087ff\">SE_Layer</span>)        │ (<span style=\"color: #00d7ff; text-decoration-color: #00d7ff\">None</span>, <span style=\"color: #00af00; text-decoration-color: #00af00\">32</span>, <span style=\"color: #00af00; text-decoration-color: #00af00\">32</span>, <span style=\"color: #00af00; text-decoration-color: #00af00\">32</span>, <span style=\"color: #00af00; text-decoration-color: #00af00\">96</span>)    │            <span style=\"color: #00af00; text-decoration-color: #00af00\">2,412</span> │ E1_concat_Layer[<span style=\"color: #00af00; text-decoration-color: #00af00\">0</span>][<span style=\"color: #00af00; text-decoration-color: #00af00\">0</span>]      │\n",
       "├────────────────────────────────┼───────────────────────────┼──────────────────┼────────────────────────────┤\n",
       "│ E2_Conv1_Layer (<span style=\"color: #0087ff; text-decoration-color: #0087ff\">Conv3D</span>)        │ (<span style=\"color: #00d7ff; text-decoration-color: #00d7ff\">None</span>, <span style=\"color: #00af00; text-decoration-color: #00af00\">32</span>, <span style=\"color: #00af00; text-decoration-color: #00af00\">32</span>, <span style=\"color: #00af00; text-decoration-color: #00af00\">32</span>, <span style=\"color: #00af00; text-decoration-color: #00af00\">64</span>)    │          <span style=\"color: #00af00; text-decoration-color: #00af00\">165,952</span> │ E2_SE1_Layer[<span style=\"color: #00af00; text-decoration-color: #00af00\">0</span>][<span style=\"color: #00af00; text-decoration-color: #00af00\">0</span>]         │\n",
       "├────────────────────────────────┼───────────────────────────┼──────────────────┼────────────────────────────┤\n",
       "│ E2_instance_Layer              │ (<span style=\"color: #00d7ff; text-decoration-color: #00d7ff\">None</span>, <span style=\"color: #00af00; text-decoration-color: #00af00\">32</span>, <span style=\"color: #00af00; text-decoration-color: #00af00\">32</span>, <span style=\"color: #00af00; text-decoration-color: #00af00\">32</span>, <span style=\"color: #00af00; text-decoration-color: #00af00\">64</span>)    │              <span style=\"color: #00af00; text-decoration-color: #00af00\">128</span> │ E2_Conv1_Layer[<span style=\"color: #00af00; text-decoration-color: #00af00\">0</span>][<span style=\"color: #00af00; text-decoration-color: #00af00\">0</span>]       │\n",
       "│ (<span style=\"color: #0087ff; text-decoration-color: #0087ff\">InstanceNormalization</span>)        │                           │                  │                            │\n",
       "├────────────────────────────────┼───────────────────────────┼──────────────────┼────────────────────────────┤\n",
       "│ E2_Conv2_Layer (<span style=\"color: #0087ff; text-decoration-color: #0087ff\">Conv3D</span>)        │ (<span style=\"color: #00d7ff; text-decoration-color: #00d7ff\">None</span>, <span style=\"color: #00af00; text-decoration-color: #00af00\">32</span>, <span style=\"color: #00af00; text-decoration-color: #00af00\">32</span>, <span style=\"color: #00af00; text-decoration-color: #00af00\">32</span>, <span style=\"color: #00af00; text-decoration-color: #00af00\">64</span>)    │          <span style=\"color: #00af00; text-decoration-color: #00af00\">110,656</span> │ E2_instance_Layer[<span style=\"color: #00af00; text-decoration-color: #00af00\">0</span>][<span style=\"color: #00af00; text-decoration-color: #00af00\">0</span>]    │\n",
       "├────────────────────────────────┼───────────────────────────┼──────────────────┼────────────────────────────┤\n",
       "│ E2_Drop (<span style=\"color: #0087ff; text-decoration-color: #0087ff\">Dropout</span>)              │ (<span style=\"color: #00d7ff; text-decoration-color: #00d7ff\">None</span>, <span style=\"color: #00af00; text-decoration-color: #00af00\">32</span>, <span style=\"color: #00af00; text-decoration-color: #00af00\">32</span>, <span style=\"color: #00af00; text-decoration-color: #00af00\">32</span>, <span style=\"color: #00af00; text-decoration-color: #00af00\">64</span>)    │                <span style=\"color: #00af00; text-decoration-color: #00af00\">0</span> │ E2_Conv2_Layer[<span style=\"color: #00af00; text-decoration-color: #00af00\">0</span>][<span style=\"color: #00af00; text-decoration-color: #00af00\">0</span>]       │\n",
       "├────────────────────────────────┼───────────────────────────┼──────────────────┼────────────────────────────┤\n",
       "│ E2_maxpool1_Layer              │ (<span style=\"color: #00d7ff; text-decoration-color: #00d7ff\">None</span>, <span style=\"color: #00af00; text-decoration-color: #00af00\">16</span>, <span style=\"color: #00af00; text-decoration-color: #00af00\">16</span>, <span style=\"color: #00af00; text-decoration-color: #00af00\">16</span>, <span style=\"color: #00af00; text-decoration-color: #00af00\">64</span>)    │                <span style=\"color: #00af00; text-decoration-color: #00af00\">0</span> │ E2_Drop[<span style=\"color: #00af00; text-decoration-color: #00af00\">0</span>][<span style=\"color: #00af00; text-decoration-color: #00af00\">0</span>]              │\n",
       "│ (<span style=\"color: #0087ff; text-decoration-color: #0087ff\">MaxPooling3D</span>)                 │                           │                  │                            │\n",
       "├────────────────────────────────┼───────────────────────────┼──────────────────┼────────────────────────────┤\n",
       "│ E3_SE1_Layer (<span style=\"color: #0087ff; text-decoration-color: #0087ff\">SE_Layer</span>)        │ (<span style=\"color: #00d7ff; text-decoration-color: #00d7ff\">None</span>, <span style=\"color: #00af00; text-decoration-color: #00af00\">16</span>, <span style=\"color: #00af00; text-decoration-color: #00af00\">16</span>, <span style=\"color: #00af00; text-decoration-color: #00af00\">16</span>, <span style=\"color: #00af00; text-decoration-color: #00af00\">64</span>)    │            <span style=\"color: #00af00; text-decoration-color: #00af00\">1,096</span> │ E2_maxpool1_Layer[<span style=\"color: #00af00; text-decoration-color: #00af00\">0</span>][<span style=\"color: #00af00; text-decoration-color: #00af00\">0</span>]    │\n",
       "├────────────────────────────────┼───────────────────────────┼──────────────────┼────────────────────────────┤\n",
       "│ E3_Conv1_Layer (<span style=\"color: #0087ff; text-decoration-color: #0087ff\">Conv3D</span>)        │ (<span style=\"color: #00d7ff; text-decoration-color: #00d7ff\">None</span>, <span style=\"color: #00af00; text-decoration-color: #00af00\">16</span>, <span style=\"color: #00af00; text-decoration-color: #00af00\">16</span>, <span style=\"color: #00af00; text-decoration-color: #00af00\">16</span>, <span style=\"color: #00af00; text-decoration-color: #00af00\">128</span>)   │          <span style=\"color: #00af00; text-decoration-color: #00af00\">221,312</span> │ E3_SE1_Layer[<span style=\"color: #00af00; text-decoration-color: #00af00\">0</span>][<span style=\"color: #00af00; text-decoration-color: #00af00\">0</span>]         │\n",
       "├────────────────────────────────┼───────────────────────────┼──────────────────┼────────────────────────────┤\n",
       "│ E3_instance_Layer              │ (<span style=\"color: #00d7ff; text-decoration-color: #00d7ff\">None</span>, <span style=\"color: #00af00; text-decoration-color: #00af00\">16</span>, <span style=\"color: #00af00; text-decoration-color: #00af00\">16</span>, <span style=\"color: #00af00; text-decoration-color: #00af00\">16</span>, <span style=\"color: #00af00; text-decoration-color: #00af00\">128</span>)   │              <span style=\"color: #00af00; text-decoration-color: #00af00\">256</span> │ E3_Conv1_Layer[<span style=\"color: #00af00; text-decoration-color: #00af00\">0</span>][<span style=\"color: #00af00; text-decoration-color: #00af00\">0</span>]       │\n",
       "│ (<span style=\"color: #0087ff; text-decoration-color: #0087ff\">InstanceNormalization</span>)        │                           │                  │                            │\n",
       "├────────────────────────────────┼───────────────────────────┼──────────────────┼────────────────────────────┤\n",
       "│ E3_Conv2_Layer (<span style=\"color: #0087ff; text-decoration-color: #0087ff\">Conv3D</span>)        │ (<span style=\"color: #00d7ff; text-decoration-color: #00d7ff\">None</span>, <span style=\"color: #00af00; text-decoration-color: #00af00\">16</span>, <span style=\"color: #00af00; text-decoration-color: #00af00\">16</span>, <span style=\"color: #00af00; text-decoration-color: #00af00\">16</span>, <span style=\"color: #00af00; text-decoration-color: #00af00\">128</span>)   │          <span style=\"color: #00af00; text-decoration-color: #00af00\">442,496</span> │ E3_instance_Layer[<span style=\"color: #00af00; text-decoration-color: #00af00\">0</span>][<span style=\"color: #00af00; text-decoration-color: #00af00\">0</span>]    │\n",
       "├────────────────────────────────┼───────────────────────────┼──────────────────┼────────────────────────────┤\n",
       "│ E3_drop (<span style=\"color: #0087ff; text-decoration-color: #0087ff\">Dropout</span>)              │ (<span style=\"color: #00d7ff; text-decoration-color: #00d7ff\">None</span>, <span style=\"color: #00af00; text-decoration-color: #00af00\">16</span>, <span style=\"color: #00af00; text-decoration-color: #00af00\">16</span>, <span style=\"color: #00af00; text-decoration-color: #00af00\">16</span>, <span style=\"color: #00af00; text-decoration-color: #00af00\">128</span>)   │                <span style=\"color: #00af00; text-decoration-color: #00af00\">0</span> │ E3_Conv2_Layer[<span style=\"color: #00af00; text-decoration-color: #00af00\">0</span>][<span style=\"color: #00af00; text-decoration-color: #00af00\">0</span>]       │\n",
       "├────────────────────────────────┼───────────────────────────┼──────────────────┼────────────────────────────┤\n",
       "│ E3_maxpool1_Layer              │ (<span style=\"color: #00d7ff; text-decoration-color: #00d7ff\">None</span>, <span style=\"color: #00af00; text-decoration-color: #00af00\">8</span>, <span style=\"color: #00af00; text-decoration-color: #00af00\">8</span>, <span style=\"color: #00af00; text-decoration-color: #00af00\">8</span>, <span style=\"color: #00af00; text-decoration-color: #00af00\">128</span>)      │                <span style=\"color: #00af00; text-decoration-color: #00af00\">0</span> │ E3_drop[<span style=\"color: #00af00; text-decoration-color: #00af00\">0</span>][<span style=\"color: #00af00; text-decoration-color: #00af00\">0</span>]              │\n",
       "│ (<span style=\"color: #0087ff; text-decoration-color: #0087ff\">MaxPooling3D</span>)                 │                           │                  │                            │\n",
       "├────────────────────────────────┼───────────────────────────┼──────────────────┼────────────────────────────┤\n",
       "│ BN_SE1_Layer (<span style=\"color: #0087ff; text-decoration-color: #0087ff\">SE_Layer</span>)        │ (<span style=\"color: #00d7ff; text-decoration-color: #00d7ff\">None</span>, <span style=\"color: #00af00; text-decoration-color: #00af00\">8</span>, <span style=\"color: #00af00; text-decoration-color: #00af00\">8</span>, <span style=\"color: #00af00; text-decoration-color: #00af00\">8</span>, <span style=\"color: #00af00; text-decoration-color: #00af00\">128</span>)      │            <span style=\"color: #00af00; text-decoration-color: #00af00\">4,240</span> │ E3_maxpool1_Layer[<span style=\"color: #00af00; text-decoration-color: #00af00\">0</span>][<span style=\"color: #00af00; text-decoration-color: #00af00\">0</span>]    │\n",
       "├────────────────────────────────┼───────────────────────────┼──────────────────┼────────────────────────────┤\n",
       "│ D3_up (<span style=\"color: #0087ff; text-decoration-color: #0087ff\">UpSampling3D</span>)           │ (<span style=\"color: #00d7ff; text-decoration-color: #00d7ff\">None</span>, <span style=\"color: #00af00; text-decoration-color: #00af00\">16</span>, <span style=\"color: #00af00; text-decoration-color: #00af00\">16</span>, <span style=\"color: #00af00; text-decoration-color: #00af00\">16</span>, <span style=\"color: #00af00; text-decoration-color: #00af00\">128</span>)   │                <span style=\"color: #00af00; text-decoration-color: #00af00\">0</span> │ BN_SE1_Layer[<span style=\"color: #00af00; text-decoration-color: #00af00\">0</span>][<span style=\"color: #00af00; text-decoration-color: #00af00\">0</span>]         │\n",
       "├────────────────────────────────┼───────────────────────────┼──────────────────┼────────────────────────────┤\n",
       "│ D3_Conv1_Layer (<span style=\"color: #0087ff; text-decoration-color: #0087ff\">Conv3D</span>)        │ (<span style=\"color: #00d7ff; text-decoration-color: #00d7ff\">None</span>, <span style=\"color: #00af00; text-decoration-color: #00af00\">16</span>, <span style=\"color: #00af00; text-decoration-color: #00af00\">16</span>, <span style=\"color: #00af00; text-decoration-color: #00af00\">16</span>, <span style=\"color: #00af00; text-decoration-color: #00af00\">128</span>)   │          <span style=\"color: #00af00; text-decoration-color: #00af00\">442,496</span> │ D3_up[<span style=\"color: #00af00; text-decoration-color: #00af00\">0</span>][<span style=\"color: #00af00; text-decoration-color: #00af00\">0</span>]                │\n",
       "├────────────────────────────────┼───────────────────────────┼──────────────────┼────────────────────────────┤\n",
       "│ D3_instance_Layer              │ (<span style=\"color: #00d7ff; text-decoration-color: #00d7ff\">None</span>, <span style=\"color: #00af00; text-decoration-color: #00af00\">16</span>, <span style=\"color: #00af00; text-decoration-color: #00af00\">16</span>, <span style=\"color: #00af00; text-decoration-color: #00af00\">16</span>, <span style=\"color: #00af00; text-decoration-color: #00af00\">128</span>)   │              <span style=\"color: #00af00; text-decoration-color: #00af00\">256</span> │ D3_Conv1_Layer[<span style=\"color: #00af00; text-decoration-color: #00af00\">0</span>][<span style=\"color: #00af00; text-decoration-color: #00af00\">0</span>]       │\n",
       "│ (<span style=\"color: #0087ff; text-decoration-color: #0087ff\">InstanceNormalization</span>)        │                           │                  │                            │\n",
       "├────────────────────────────────┼───────────────────────────┼──────────────────┼────────────────────────────┤\n",
       "│ D3_concat_Layer (<span style=\"color: #0087ff; text-decoration-color: #0087ff\">Concatenate</span>)  │ (<span style=\"color: #00d7ff; text-decoration-color: #00d7ff\">None</span>, <span style=\"color: #00af00; text-decoration-color: #00af00\">16</span>, <span style=\"color: #00af00; text-decoration-color: #00af00\">16</span>, <span style=\"color: #00af00; text-decoration-color: #00af00\">16</span>, <span style=\"color: #00af00; text-decoration-color: #00af00\">256</span>)   │                <span style=\"color: #00af00; text-decoration-color: #00af00\">0</span> │ D3_instance_Layer[<span style=\"color: #00af00; text-decoration-color: #00af00\">0</span>][<span style=\"color: #00af00; text-decoration-color: #00af00\">0</span>],   │\n",
       "│                                │                           │                  │ E3_drop[<span style=\"color: #00af00; text-decoration-color: #00af00\">0</span>][<span style=\"color: #00af00; text-decoration-color: #00af00\">0</span>]              │\n",
       "├────────────────────────────────┼───────────────────────────┼──────────────────┼────────────────────────────┤\n",
       "│ D3_Conv2_Layer (<span style=\"color: #0087ff; text-decoration-color: #0087ff\">Conv3D</span>)        │ (<span style=\"color: #00d7ff; text-decoration-color: #00d7ff\">None</span>, <span style=\"color: #00af00; text-decoration-color: #00af00\">16</span>, <span style=\"color: #00af00; text-decoration-color: #00af00\">16</span>, <span style=\"color: #00af00; text-decoration-color: #00af00\">16</span>, <span style=\"color: #00af00; text-decoration-color: #00af00\">128</span>)   │          <span style=\"color: #00af00; text-decoration-color: #00af00\">884,864</span> │ D3_concat_Layer[<span style=\"color: #00af00; text-decoration-color: #00af00\">0</span>][<span style=\"color: #00af00; text-decoration-color: #00af00\">0</span>]      │\n",
       "├────────────────────────────────┼───────────────────────────┼──────────────────┼────────────────────────────┤\n",
       "│ D3_SE1_Layer (<span style=\"color: #0087ff; text-decoration-color: #0087ff\">SE_Layer</span>)        │ (<span style=\"color: #00d7ff; text-decoration-color: #00d7ff\">None</span>, <span style=\"color: #00af00; text-decoration-color: #00af00\">16</span>, <span style=\"color: #00af00; text-decoration-color: #00af00\">16</span>, <span style=\"color: #00af00; text-decoration-color: #00af00\">16</span>, <span style=\"color: #00af00; text-decoration-color: #00af00\">128</span>)   │            <span style=\"color: #00af00; text-decoration-color: #00af00\">4,240</span> │ D3_Conv2_Layer[<span style=\"color: #00af00; text-decoration-color: #00af00\">0</span>][<span style=\"color: #00af00; text-decoration-color: #00af00\">0</span>]       │\n",
       "├────────────────────────────────┼───────────────────────────┼──────────────────┼────────────────────────────┤\n",
       "│ D3_drop (<span style=\"color: #0087ff; text-decoration-color: #0087ff\">Dropout</span>)              │ (<span style=\"color: #00d7ff; text-decoration-color: #00d7ff\">None</span>, <span style=\"color: #00af00; text-decoration-color: #00af00\">16</span>, <span style=\"color: #00af00; text-decoration-color: #00af00\">16</span>, <span style=\"color: #00af00; text-decoration-color: #00af00\">16</span>, <span style=\"color: #00af00; text-decoration-color: #00af00\">128</span>)   │                <span style=\"color: #00af00; text-decoration-color: #00af00\">0</span> │ D3_SE1_Layer[<span style=\"color: #00af00; text-decoration-color: #00af00\">0</span>][<span style=\"color: #00af00; text-decoration-color: #00af00\">0</span>]         │\n",
       "├────────────────────────────────┼───────────────────────────┼──────────────────┼────────────────────────────┤\n",
       "│ D3_Conv3_Layer (<span style=\"color: #0087ff; text-decoration-color: #0087ff\">Conv3D</span>)        │ (<span style=\"color: #00d7ff; text-decoration-color: #00d7ff\">None</span>, <span style=\"color: #00af00; text-decoration-color: #00af00\">16</span>, <span style=\"color: #00af00; text-decoration-color: #00af00\">16</span>, <span style=\"color: #00af00; text-decoration-color: #00af00\">16</span>, <span style=\"color: #00af00; text-decoration-color: #00af00\">128</span>)   │          <span style=\"color: #00af00; text-decoration-color: #00af00\">442,496</span> │ D3_drop[<span style=\"color: #00af00; text-decoration-color: #00af00\">0</span>][<span style=\"color: #00af00; text-decoration-color: #00af00\">0</span>]              │\n",
       "├────────────────────────────────┼───────────────────────────┼──────────────────┼────────────────────────────┤\n",
       "│ D2_up (<span style=\"color: #0087ff; text-decoration-color: #0087ff\">UpSampling3D</span>)           │ (<span style=\"color: #00d7ff; text-decoration-color: #00d7ff\">None</span>, <span style=\"color: #00af00; text-decoration-color: #00af00\">32</span>, <span style=\"color: #00af00; text-decoration-color: #00af00\">32</span>, <span style=\"color: #00af00; text-decoration-color: #00af00\">32</span>, <span style=\"color: #00af00; text-decoration-color: #00af00\">128</span>)   │                <span style=\"color: #00af00; text-decoration-color: #00af00\">0</span> │ D3_Conv3_Layer[<span style=\"color: #00af00; text-decoration-color: #00af00\">0</span>][<span style=\"color: #00af00; text-decoration-color: #00af00\">0</span>]       │\n",
       "├────────────────────────────────┼───────────────────────────┼──────────────────┼────────────────────────────┤\n",
       "│ D2_Conv1_Layer (<span style=\"color: #0087ff; text-decoration-color: #0087ff\">Conv3D</span>)        │ (<span style=\"color: #00d7ff; text-decoration-color: #00d7ff\">None</span>, <span style=\"color: #00af00; text-decoration-color: #00af00\">32</span>, <span style=\"color: #00af00; text-decoration-color: #00af00\">32</span>, <span style=\"color: #00af00; text-decoration-color: #00af00\">32</span>, <span style=\"color: #00af00; text-decoration-color: #00af00\">64</span>)    │          <span style=\"color: #00af00; text-decoration-color: #00af00\">221,248</span> │ D2_up[<span style=\"color: #00af00; text-decoration-color: #00af00\">0</span>][<span style=\"color: #00af00; text-decoration-color: #00af00\">0</span>]                │\n",
       "├────────────────────────────────┼───────────────────────────┼──────────────────┼────────────────────────────┤\n",
       "│ D2_instance_Layer              │ (<span style=\"color: #00d7ff; text-decoration-color: #00d7ff\">None</span>, <span style=\"color: #00af00; text-decoration-color: #00af00\">32</span>, <span style=\"color: #00af00; text-decoration-color: #00af00\">32</span>, <span style=\"color: #00af00; text-decoration-color: #00af00\">32</span>, <span style=\"color: #00af00; text-decoration-color: #00af00\">64</span>)    │              <span style=\"color: #00af00; text-decoration-color: #00af00\">128</span> │ D2_Conv1_Layer[<span style=\"color: #00af00; text-decoration-color: #00af00\">0</span>][<span style=\"color: #00af00; text-decoration-color: #00af00\">0</span>]       │\n",
       "│ (<span style=\"color: #0087ff; text-decoration-color: #0087ff\">InstanceNormalization</span>)        │                           │                  │                            │\n",
       "├────────────────────────────────┼───────────────────────────┼──────────────────┼────────────────────────────┤\n",
       "│ D2_concat_Layer (<span style=\"color: #0087ff; text-decoration-color: #0087ff\">Concatenate</span>)  │ (<span style=\"color: #00d7ff; text-decoration-color: #00d7ff\">None</span>, <span style=\"color: #00af00; text-decoration-color: #00af00\">32</span>, <span style=\"color: #00af00; text-decoration-color: #00af00\">32</span>, <span style=\"color: #00af00; text-decoration-color: #00af00\">32</span>, <span style=\"color: #00af00; text-decoration-color: #00af00\">128</span>)   │                <span style=\"color: #00af00; text-decoration-color: #00af00\">0</span> │ D2_instance_Layer[<span style=\"color: #00af00; text-decoration-color: #00af00\">0</span>][<span style=\"color: #00af00; text-decoration-color: #00af00\">0</span>],   │\n",
       "│                                │                           │                  │ E2_Drop[<span style=\"color: #00af00; text-decoration-color: #00af00\">0</span>][<span style=\"color: #00af00; text-decoration-color: #00af00\">0</span>]              │\n",
       "├────────────────────────────────┼───────────────────────────┼──────────────────┼────────────────────────────┤\n",
       "│ D2_Conv2_Layer (<span style=\"color: #0087ff; text-decoration-color: #0087ff\">Conv3D</span>)        │ (<span style=\"color: #00d7ff; text-decoration-color: #00d7ff\">None</span>, <span style=\"color: #00af00; text-decoration-color: #00af00\">32</span>, <span style=\"color: #00af00; text-decoration-color: #00af00\">32</span>, <span style=\"color: #00af00; text-decoration-color: #00af00\">32</span>, <span style=\"color: #00af00; text-decoration-color: #00af00\">64</span>)    │          <span style=\"color: #00af00; text-decoration-color: #00af00\">221,248</span> │ D2_concat_Layer[<span style=\"color: #00af00; text-decoration-color: #00af00\">0</span>][<span style=\"color: #00af00; text-decoration-color: #00af00\">0</span>]      │\n",
       "├────────────────────────────────┼───────────────────────────┼──────────────────┼────────────────────────────┤\n",
       "│ D2_SE1_Layer (<span style=\"color: #0087ff; text-decoration-color: #0087ff\">SE_Layer</span>)        │ (<span style=\"color: #00d7ff; text-decoration-color: #00d7ff\">None</span>, <span style=\"color: #00af00; text-decoration-color: #00af00\">32</span>, <span style=\"color: #00af00; text-decoration-color: #00af00\">32</span>, <span style=\"color: #00af00; text-decoration-color: #00af00\">32</span>, <span style=\"color: #00af00; text-decoration-color: #00af00\">64</span>)    │            <span style=\"color: #00af00; text-decoration-color: #00af00\">1,096</span> │ D2_Conv2_Layer[<span style=\"color: #00af00; text-decoration-color: #00af00\">0</span>][<span style=\"color: #00af00; text-decoration-color: #00af00\">0</span>]       │\n",
       "├────────────────────────────────┼───────────────────────────┼──────────────────┼────────────────────────────┤\n",
       "│ D2_drop (<span style=\"color: #0087ff; text-decoration-color: #0087ff\">Dropout</span>)              │ (<span style=\"color: #00d7ff; text-decoration-color: #00d7ff\">None</span>, <span style=\"color: #00af00; text-decoration-color: #00af00\">32</span>, <span style=\"color: #00af00; text-decoration-color: #00af00\">32</span>, <span style=\"color: #00af00; text-decoration-color: #00af00\">32</span>, <span style=\"color: #00af00; text-decoration-color: #00af00\">64</span>)    │                <span style=\"color: #00af00; text-decoration-color: #00af00\">0</span> │ D2_SE1_Layer[<span style=\"color: #00af00; text-decoration-color: #00af00\">0</span>][<span style=\"color: #00af00; text-decoration-color: #00af00\">0</span>]         │\n",
       "├────────────────────────────────┼───────────────────────────┼──────────────────┼────────────────────────────┤\n",
       "│ D2_Conv3_Layer (<span style=\"color: #0087ff; text-decoration-color: #0087ff\">Conv3D</span>)        │ (<span style=\"color: #00d7ff; text-decoration-color: #00d7ff\">None</span>, <span style=\"color: #00af00; text-decoration-color: #00af00\">32</span>, <span style=\"color: #00af00; text-decoration-color: #00af00\">32</span>, <span style=\"color: #00af00; text-decoration-color: #00af00\">32</span>, <span style=\"color: #00af00; text-decoration-color: #00af00\">64</span>)    │          <span style=\"color: #00af00; text-decoration-color: #00af00\">110,656</span> │ D2_drop[<span style=\"color: #00af00; text-decoration-color: #00af00\">0</span>][<span style=\"color: #00af00; text-decoration-color: #00af00\">0</span>]              │\n",
       "├────────────────────────────────┼───────────────────────────┼──────────────────┼────────────────────────────┤\n",
       "│ D1_up (<span style=\"color: #0087ff; text-decoration-color: #0087ff\">UpSampling3D</span>)           │ (<span style=\"color: #00d7ff; text-decoration-color: #00d7ff\">None</span>, <span style=\"color: #00af00; text-decoration-color: #00af00\">64</span>, <span style=\"color: #00af00; text-decoration-color: #00af00\">64</span>, <span style=\"color: #00af00; text-decoration-color: #00af00\">64</span>, <span style=\"color: #00af00; text-decoration-color: #00af00\">64</span>)    │                <span style=\"color: #00af00; text-decoration-color: #00af00\">0</span> │ D2_Conv3_Layer[<span style=\"color: #00af00; text-decoration-color: #00af00\">0</span>][<span style=\"color: #00af00; text-decoration-color: #00af00\">0</span>]       │\n",
       "├────────────────────────────────┼───────────────────────────┼──────────────────┼────────────────────────────┤\n",
       "│ D1_Conv1_Layer (<span style=\"color: #0087ff; text-decoration-color: #0087ff\">Conv3D</span>)        │ (<span style=\"color: #00d7ff; text-decoration-color: #00d7ff\">None</span>, <span style=\"color: #00af00; text-decoration-color: #00af00\">64</span>, <span style=\"color: #00af00; text-decoration-color: #00af00\">64</span>, <span style=\"color: #00af00; text-decoration-color: #00af00\">64</span>, <span style=\"color: #00af00; text-decoration-color: #00af00\">32</span>)    │           <span style=\"color: #00af00; text-decoration-color: #00af00\">55,328</span> │ D1_up[<span style=\"color: #00af00; text-decoration-color: #00af00\">0</span>][<span style=\"color: #00af00; text-decoration-color: #00af00\">0</span>]                │\n",
       "├────────────────────────────────┼───────────────────────────┼──────────────────┼────────────────────────────┤\n",
       "│ D1_instance_Layer              │ (<span style=\"color: #00d7ff; text-decoration-color: #00d7ff\">None</span>, <span style=\"color: #00af00; text-decoration-color: #00af00\">64</span>, <span style=\"color: #00af00; text-decoration-color: #00af00\">64</span>, <span style=\"color: #00af00; text-decoration-color: #00af00\">64</span>, <span style=\"color: #00af00; text-decoration-color: #00af00\">32</span>)    │               <span style=\"color: #00af00; text-decoration-color: #00af00\">64</span> │ D1_Conv1_Layer[<span style=\"color: #00af00; text-decoration-color: #00af00\">0</span>][<span style=\"color: #00af00; text-decoration-color: #00af00\">0</span>]       │\n",
       "│ (<span style=\"color: #0087ff; text-decoration-color: #0087ff\">InstanceNormalization</span>)        │                           │                  │                            │\n",
       "├────────────────────────────────┼───────────────────────────┼──────────────────┼────────────────────────────┤\n",
       "│ D1_concat_Layer (<span style=\"color: #0087ff; text-decoration-color: #0087ff\">Concatenate</span>)  │ (<span style=\"color: #00d7ff; text-decoration-color: #00d7ff\">None</span>, <span style=\"color: #00af00; text-decoration-color: #00af00\">64</span>, <span style=\"color: #00af00; text-decoration-color: #00af00\">64</span>, <span style=\"color: #00af00; text-decoration-color: #00af00\">64</span>, <span style=\"color: #00af00; text-decoration-color: #00af00\">64</span>)    │                <span style=\"color: #00af00; text-decoration-color: #00af00\">0</span> │ D1_instance_Layer[<span style=\"color: #00af00; text-decoration-color: #00af00\">0</span>][<span style=\"color: #00af00; text-decoration-color: #00af00\">0</span>],   │\n",
       "│                                │                           │                  │ E1_PC_Embedded_Layer[<span style=\"color: #00af00; text-decoration-color: #00af00\">0</span>][<span style=\"color: #00af00; text-decoration-color: #00af00\">0</span>] │\n",
       "├────────────────────────────────┼───────────────────────────┼──────────────────┼────────────────────────────┤\n",
       "│ D1_Conv2_Layer (<span style=\"color: #0087ff; text-decoration-color: #0087ff\">Conv3D</span>)        │ (<span style=\"color: #00d7ff; text-decoration-color: #00d7ff\">None</span>, <span style=\"color: #00af00; text-decoration-color: #00af00\">64</span>, <span style=\"color: #00af00; text-decoration-color: #00af00\">64</span>, <span style=\"color: #00af00; text-decoration-color: #00af00\">64</span>, <span style=\"color: #00af00; text-decoration-color: #00af00\">32</span>)    │           <span style=\"color: #00af00; text-decoration-color: #00af00\">55,328</span> │ D1_concat_Layer[<span style=\"color: #00af00; text-decoration-color: #00af00\">0</span>][<span style=\"color: #00af00; text-decoration-color: #00af00\">0</span>]      │\n",
       "├────────────────────────────────┼───────────────────────────┼──────────────────┼────────────────────────────┤\n",
       "│ D1_SE1_Layer (<span style=\"color: #0087ff; text-decoration-color: #0087ff\">SE_Layer</span>)        │ (<span style=\"color: #00d7ff; text-decoration-color: #00d7ff\">None</span>, <span style=\"color: #00af00; text-decoration-color: #00af00\">64</span>, <span style=\"color: #00af00; text-decoration-color: #00af00\">64</span>, <span style=\"color: #00af00; text-decoration-color: #00af00\">64</span>, <span style=\"color: #00af00; text-decoration-color: #00af00\">32</span>)    │              <span style=\"color: #00af00; text-decoration-color: #00af00\">292</span> │ D1_Conv2_Layer[<span style=\"color: #00af00; text-decoration-color: #00af00\">0</span>][<span style=\"color: #00af00; text-decoration-color: #00af00\">0</span>]       │\n",
       "├────────────────────────────────┼───────────────────────────┼──────────────────┼────────────────────────────┤\n",
       "│ D1_drop (<span style=\"color: #0087ff; text-decoration-color: #0087ff\">Dropout</span>)              │ (<span style=\"color: #00d7ff; text-decoration-color: #00d7ff\">None</span>, <span style=\"color: #00af00; text-decoration-color: #00af00\">64</span>, <span style=\"color: #00af00; text-decoration-color: #00af00\">64</span>, <span style=\"color: #00af00; text-decoration-color: #00af00\">64</span>, <span style=\"color: #00af00; text-decoration-color: #00af00\">32</span>)    │                <span style=\"color: #00af00; text-decoration-color: #00af00\">0</span> │ D1_SE1_Layer[<span style=\"color: #00af00; text-decoration-color: #00af00\">0</span>][<span style=\"color: #00af00; text-decoration-color: #00af00\">0</span>]         │\n",
       "├────────────────────────────────┼───────────────────────────┼──────────────────┼────────────────────────────┤\n",
       "│ D1_Conv3_Layer (<span style=\"color: #0087ff; text-decoration-color: #0087ff\">Conv3D</span>)        │ (<span style=\"color: #00d7ff; text-decoration-color: #00d7ff\">None</span>, <span style=\"color: #00af00; text-decoration-color: #00af00\">64</span>, <span style=\"color: #00af00; text-decoration-color: #00af00\">64</span>, <span style=\"color: #00af00; text-decoration-color: #00af00\">64</span>, <span style=\"color: #00af00; text-decoration-color: #00af00\">32</span>)    │           <span style=\"color: #00af00; text-decoration-color: #00af00\">27,680</span> │ D1_drop[<span style=\"color: #00af00; text-decoration-color: #00af00\">0</span>][<span style=\"color: #00af00; text-decoration-color: #00af00\">0</span>]              │\n",
       "├────────────────────────────────┼───────────────────────────┼──────────────────┼────────────────────────────┤\n",
       "│ prob (<span style=\"color: #0087ff; text-decoration-color: #0087ff\">Conv3D</span>)                  │ (<span style=\"color: #00d7ff; text-decoration-color: #00d7ff\">None</span>, <span style=\"color: #00af00; text-decoration-color: #00af00\">64</span>, <span style=\"color: #00af00; text-decoration-color: #00af00\">64</span>, <span style=\"color: #00af00; text-decoration-color: #00af00\">64</span>, <span style=\"color: #00af00; text-decoration-color: #00af00\">7</span>)     │              <span style=\"color: #00af00; text-decoration-color: #00af00\">231</span> │ D1_Conv3_Layer[<span style=\"color: #00af00; text-decoration-color: #00af00\">0</span>][<span style=\"color: #00af00; text-decoration-color: #00af00\">0</span>]       │\n",
       "└────────────────────────────────┴───────────────────────────┴──────────────────┴────────────────────────────┘\n",
       "</pre>\n"
      ]
     },
     "metadata": {},
     "output_type": "display_data"
    },
    {
     "data": {
      "text/plain": [
       "\u001B[1m Total params: \u001B[0m\u001B[38;5;34m3,575,591\u001B[0m (13.64 MB)\n"
      ],
      "text/html": [
       "<pre style=\"white-space:pre;overflow-x:auto;line-height:normal;font-family:Menlo,'DejaVu Sans Mono',consolas,'Courier New',monospace\"><span style=\"font-weight: bold\"> Total params: </span><span style=\"color: #00af00; text-decoration-color: #00af00\">3,575,591</span> (13.64 MB)\n",
       "</pre>\n"
      ]
     },
     "metadata": {},
     "output_type": "display_data"
    },
    {
     "data": {
      "text/plain": [
       "\u001B[1m Trainable params: \u001B[0m\u001B[38;5;34m3,575,591\u001B[0m (13.64 MB)\n"
      ],
      "text/html": [
       "<pre style=\"white-space:pre;overflow-x:auto;line-height:normal;font-family:Menlo,'DejaVu Sans Mono',consolas,'Courier New',monospace\"><span style=\"font-weight: bold\"> Trainable params: </span><span style=\"color: #00af00; text-decoration-color: #00af00\">3,575,591</span> (13.64 MB)\n",
       "</pre>\n"
      ]
     },
     "metadata": {},
     "output_type": "display_data"
    },
    {
     "data": {
      "text/plain": [
       "\u001B[1m Non-trainable params: \u001B[0m\u001B[38;5;34m0\u001B[0m (0.00 B)\n"
      ],
      "text/html": [
       "<pre style=\"white-space:pre;overflow-x:auto;line-height:normal;font-family:Menlo,'DejaVu Sans Mono',consolas,'Courier New',monospace\"><span style=\"font-weight: bold\"> Non-trainable params: </span><span style=\"color: #00af00; text-decoration-color: #00af00\">0</span> (0.00 B)\n",
       "</pre>\n"
      ]
     },
     "metadata": {},
     "output_type": "display_data"
    }
   ],
   "execution_count": 6
  },
  {
   "cell_type": "code",
   "id": "ced4cfb3a1a301e8",
   "metadata": {
    "ExecuteTime": {
     "end_time": "2025-01-06T16:57:29.540248Z",
     "start_time": "2025-01-06T16:57:29.535421Z"
    }
   },
   "source": [
    "def get_tomogram(run_id):\n",
    "    return copick_tools.get_copick_tomogram(copick_root,\n",
    "                                                voxelSize = voxel_size,\n",
    "                                                tomoAlgorithm=tomogram_algo,\n",
    "                                                tomoID=run_id)\n",
    "\n",
    "def get_mask(run_id):\n",
    "    return copick_tools.get_copick_segmentation(copick_root.get_run(run_id),\n",
    "                                                segmentationName=out_name,\n",
    "                                                userID=out_user_id,\n",
    "                                                sessionID=out_session_id)\n",
    "\n",
    "def shape_t(obj):\n",
    "    obj = patchify(obj, (64, 64, 64), step=64)\n",
    "    obj = np.reshape(obj, (-1, obj.shape[3], obj.shape[4], obj.shape[5]))\n",
    "    return obj\n",
    "\n",
    "\n",
    "def train(run_ids):\n",
    "    for run_id in run_ids:\n",
    "        tomogram = np.array(get_tomogram(run_id))\n",
    "        mask = np.array(get_mask(run_id))\n",
    "\n",
    "        tomogram = shape_t(tomogram)\n",
    "        mask = shape_t(mask)\n",
    "        tomogram = np.stack((tomogram,)*3, axis=-1)\n",
    "\n",
    "        mask = np.expand_dims(mask, axis=4)\n",
    "        mask = to_categorical(mask, num_classes=7)\n",
    "\n",
    "        x_train, x_test, y_train, y_test = train_test_split(tomogram, mask, test_size=0.1, random_state=42)\n",
    "        model.fit(x_train, y_train,epochs=20, batch_size=4, validation_data=(x_test, y_test))\n",
    "\n",
    "        print(f'Training done for Run_id:{run_id}')\n"
   ],
   "outputs": [],
   "execution_count": 7
  },
  {
   "cell_type": "code",
   "id": "fc04c3948be7f179",
   "metadata": {
    "ExecuteTime": {
     "end_time": "2025-01-06T17:04:57.859485Z",
     "start_time": "2025-01-06T16:57:30.604587Z"
    }
   },
   "source": "train(runs)",
   "outputs": [
    {
     "name": "stdout",
     "output_type": "stream",
     "text": [
      "Epoch 1/20\n"
     ]
    },
    {
     "name": "stderr",
     "output_type": "stream",
     "text": [
      "WARNING: All log messages before absl::InitializeLog() is called are written to STDERR\n",
      "I0000 00:00:1736182660.808066  418240 service.cc:148] XLA service 0x7f4af0014630 initialized for platform CUDA (this does not guarantee that XLA will be used). Devices:\n",
      "I0000 00:00:1736182660.808700  418240 service.cc:156]   StreamExecutor device (0): NVIDIA GeForce RTX 3070 Ti Laptop GPU, Compute Capability 8.6\n",
      "2025-01-06 22:27:40.999021: I tensorflow/compiler/mlir/tensorflow/utils/dump_mlir_util.cc:268] disabling MLIR crash reproducer, set env var `MLIR_CRASH_REPRODUCER_DIRECTORY` to enable.\n",
      "W0000 00:00:1736182661.186613  418240 assert_op.cc:38] Ignoring Assert operator confusion_matrix/assert_non_negative/assert_less_equal/Assert/AssertGuard/Assert\n",
      "W0000 00:00:1736182661.314033  418240 assert_op.cc:38] Ignoring Assert operator confusion_matrix/assert_non_negative_1/assert_less_equal/Assert/AssertGuard/Assert\n",
      "W0000 00:00:1736182661.315284  418240 assert_op.cc:38] Ignoring Assert operator confusion_matrix/assert_less/Assert/AssertGuard/Assert\n",
      "W0000 00:00:1736182661.316626  418240 assert_op.cc:38] Ignoring Assert operator confusion_matrix/assert_less_1/Assert/AssertGuard/Assert\n",
      "I0000 00:00:1736182661.685811  418240 cuda_dnn.cc:529] Loaded cuDNN version 90300\n",
      "2025-01-06 22:27:49.250347: E external/local_xla/xla/service/slow_operation_alarm.cc:65] Trying algorithm eng11{k2=1,k3=0} for conv (f32[4,32,64,64,64]{4,3,2,1,0}, u8[0]{0}) custom-call(f32[4,32,64,64,64]{4,3,2,1,0}, f32[32,32,5,5,5]{4,3,2,1,0}, f32[32]{0}), window={size=5x5x5 pad=2_2x2_2x2_2}, dim_labels=bf012_oi012->bf012, custom_call_target=\"__cudnn$convBiasActivationForward\", backend_config={\"cudnn_conv_backend_config\":{\"activation_mode\":\"kNone\",\"conv_result_scale\":1,\"leakyrelu_alpha\":0,\"side_input_scale\":0},\"force_earliest_schedule\":false,\"operation_queue_id\":\"0\",\"wait_on_operation_queues\":[]} is taking a while...\n",
      "2025-01-06 22:27:49.354432: E external/local_xla/xla/service/slow_operation_alarm.cc:133] The operation took 1.104161779s\n",
      "Trying algorithm eng11{k2=1,k3=0} for conv (f32[4,32,64,64,64]{4,3,2,1,0}, u8[0]{0}) custom-call(f32[4,32,64,64,64]{4,3,2,1,0}, f32[32,32,5,5,5]{4,3,2,1,0}, f32[32]{0}), window={size=5x5x5 pad=2_2x2_2x2_2}, dim_labels=bf012_oi012->bf012, custom_call_target=\"__cudnn$convBiasActivationForward\", backend_config={\"cudnn_conv_backend_config\":{\"activation_mode\":\"kNone\",\"conv_result_scale\":1,\"leakyrelu_alpha\":0,\"side_input_scale\":0},\"force_earliest_schedule\":false,\"operation_queue_id\":\"0\",\"wait_on_operation_queues\":[]} is taking a while...\n",
      "2025-01-06 22:27:50.354642: E external/local_xla/xla/service/slow_operation_alarm.cc:65] Trying algorithm eng0{} for conv (f32[4,32,64,64,64]{4,3,2,1,0}, u8[0]{0}) custom-call(f32[4,32,64,64,64]{4,3,2,1,0}, f32[32,32,5,5,5]{4,3,2,1,0}, f32[32]{0}), window={size=5x5x5 pad=2_2x2_2x2_2}, dim_labels=bf012_oi012->bf012, custom_call_target=\"__cudnn$convBiasActivationForward\", backend_config={\"cudnn_conv_backend_config\":{\"activation_mode\":\"kNone\",\"conv_result_scale\":1,\"leakyrelu_alpha\":0,\"side_input_scale\":0},\"force_earliest_schedule\":false,\"operation_queue_id\":\"0\",\"wait_on_operation_queues\":[]} is taking a while...\n",
      "2025-01-06 22:27:51.519754: E external/local_xla/xla/service/slow_operation_alarm.cc:133] The operation took 2.165229412s\n",
      "Trying algorithm eng0{} for conv (f32[4,32,64,64,64]{4,3,2,1,0}, u8[0]{0}) custom-call(f32[4,32,64,64,64]{4,3,2,1,0}, f32[32,32,5,5,5]{4,3,2,1,0}, f32[32]{0}), window={size=5x5x5 pad=2_2x2_2x2_2}, dim_labels=bf012_oi012->bf012, custom_call_target=\"__cudnn$convBiasActivationForward\", backend_config={\"cudnn_conv_backend_config\":{\"activation_mode\":\"kNone\",\"conv_result_scale\":1,\"leakyrelu_alpha\":0,\"side_input_scale\":0},\"force_earliest_schedule\":false,\"operation_queue_id\":\"0\",\"wait_on_operation_queues\":[]} is taking a while...\n",
      "2025-01-06 22:28:03.464899: E external/local_xla/xla/service/slow_operation_alarm.cc:65] Trying algorithm eng0{} for conv (f32[4,32,64,64,64]{4,3,2,1,0}, u8[0]{0}) custom-call(f32[4,32,64,64,64]{4,3,2,1,0}, f32[32,32,5,5,5]{4,3,2,1,0}), window={size=5x5x5 pad=2_2x2_2x2_2}, dim_labels=bf012_oi012->bf012, custom_call_target=\"__cudnn$convBackwardInput\", backend_config={\"cudnn_conv_backend_config\":{\"activation_mode\":\"kNone\",\"conv_result_scale\":1,\"leakyrelu_alpha\":0,\"side_input_scale\":0},\"force_earliest_schedule\":false,\"operation_queue_id\":\"0\",\"wait_on_operation_queues\":[]} is taking a while...\n",
      "2025-01-06 22:28:03.900027: E external/local_xla/xla/service/slow_operation_alarm.cc:133] The operation took 1.435350585s\n",
      "Trying algorithm eng0{} for conv (f32[4,32,64,64,64]{4,3,2,1,0}, u8[0]{0}) custom-call(f32[4,32,64,64,64]{4,3,2,1,0}, f32[32,32,5,5,5]{4,3,2,1,0}), window={size=5x5x5 pad=2_2x2_2x2_2}, dim_labels=bf012_oi012->bf012, custom_call_target=\"__cudnn$convBackwardInput\", backend_config={\"cudnn_conv_backend_config\":{\"activation_mode\":\"kNone\",\"conv_result_scale\":1,\"leakyrelu_alpha\":0,\"side_input_scale\":0},\"force_earliest_schedule\":false,\"operation_queue_id\":\"0\",\"wait_on_operation_queues\":[]} is taking a while...\n",
      "2025-01-06 22:28:06.607652: E external/local_xla/xla/service/slow_operation_alarm.cc:65] Trying algorithm eng0{} for conv (f32[32,32,5,5,5]{4,3,2,1,0}, u8[0]{0}) custom-call(f32[4,32,64,64,64]{4,3,2,1,0}, f32[4,32,64,64,64]{4,3,2,1,0}), window={size=5x5x5 pad=2_2x2_2x2_2}, dim_labels=bf012_oi012->bf012, custom_call_target=\"__cudnn$convBackwardFilter\", backend_config={\"cudnn_conv_backend_config\":{\"activation_mode\":\"kNone\",\"conv_result_scale\":1,\"leakyrelu_alpha\":0,\"side_input_scale\":0},\"force_earliest_schedule\":false,\"operation_queue_id\":\"0\",\"wait_on_operation_queues\":[]} is taking a while...\n",
      "2025-01-06 22:28:08.285934: E external/local_xla/xla/service/slow_operation_alarm.cc:133] The operation took 2.678400445s\n",
      "Trying algorithm eng0{} for conv (f32[32,32,5,5,5]{4,3,2,1,0}, u8[0]{0}) custom-call(f32[4,32,64,64,64]{4,3,2,1,0}, f32[4,32,64,64,64]{4,3,2,1,0}), window={size=5x5x5 pad=2_2x2_2x2_2}, dim_labels=bf012_oi012->bf012, custom_call_target=\"__cudnn$convBackwardFilter\", backend_config={\"cudnn_conv_backend_config\":{\"activation_mode\":\"kNone\",\"conv_result_scale\":1,\"leakyrelu_alpha\":0,\"side_input_scale\":0},\"force_earliest_schedule\":false,\"operation_queue_id\":\"0\",\"wait_on_operation_queues\":[]} is taking a while...\n",
      "I0000 00:00:1736182699.520121  418240 device_compiler.h:188] Compiled cluster using XLA!  This line is logged at most once for the lifetime of the process.\n"
     ]
    },
    {
     "name": "stdout",
     "output_type": "stream",
     "text": [
      "\u001B[1m36/37\u001B[0m \u001B[32m━━━━━━━━━━━━━━━━━━━\u001B[0m\u001B[37m━\u001B[0m \u001B[1m0s\u001B[0m 570ms/step - IoU: 0.3400 - loss: 19.4231"
     ]
    },
    {
     "name": "stderr",
     "output_type": "stream",
     "text": [
      "W0000 00:00:1736182720.817193  418242 assert_op.cc:38] Ignoring Assert operator confusion_matrix/assert_non_negative/assert_less_equal/Assert/AssertGuard/Assert\n",
      "W0000 00:00:1736182720.900600  418242 assert_op.cc:38] Ignoring Assert operator confusion_matrix/assert_non_negative_1/assert_less_equal/Assert/AssertGuard/Assert\n",
      "W0000 00:00:1736182720.901349  418242 assert_op.cc:38] Ignoring Assert operator confusion_matrix/assert_less/Assert/AssertGuard/Assert\n",
      "W0000 00:00:1736182720.902097  418242 assert_op.cc:38] Ignoring Assert operator confusion_matrix/assert_less_1/Assert/AssertGuard/Assert\n"
     ]
    },
    {
     "name": "stdout",
     "output_type": "stream",
     "text": [
      "\u001B[1m37/37\u001B[0m \u001B[32m━━━━━━━━━━━━━━━━━━━━\u001B[0m\u001B[37m\u001B[0m \u001B[1m0s\u001B[0m 1s/step - IoU: 0.3386 - loss: 19.3761   "
     ]
    },
    {
     "name": "stderr",
     "output_type": "stream",
     "text": [
      "W0000 00:00:1736182738.201772  418242 assert_op.cc:38] Ignoring Assert operator confusion_matrix/assert_non_negative/assert_less_equal/Assert/AssertGuard/Assert\n",
      "W0000 00:00:1736182738.271628  418242 assert_op.cc:38] Ignoring Assert operator confusion_matrix/assert_non_negative_1/assert_less_equal/Assert/AssertGuard/Assert\n",
      "W0000 00:00:1736182738.273129  418242 assert_op.cc:38] Ignoring Assert operator confusion_matrix/assert_less/Assert/AssertGuard/Assert\n",
      "W0000 00:00:1736182738.274614  418242 assert_op.cc:38] Ignoring Assert operator confusion_matrix/assert_less_1/Assert/AssertGuard/Assert\n",
      "W0000 00:00:1736182740.702326  418241 assert_op.cc:38] Ignoring Assert operator confusion_matrix/assert_non_negative/assert_less_equal/Assert/AssertGuard/Assert\n",
      "W0000 00:00:1736182740.751428  418241 assert_op.cc:38] Ignoring Assert operator confusion_matrix/assert_non_negative_1/assert_less_equal/Assert/AssertGuard/Assert\n",
      "W0000 00:00:1736182740.752085  418241 assert_op.cc:38] Ignoring Assert operator confusion_matrix/assert_less/Assert/AssertGuard/Assert\n",
      "W0000 00:00:1736182740.752755  418241 assert_op.cc:38] Ignoring Assert operator confusion_matrix/assert_less_1/Assert/AssertGuard/Assert\n"
     ]
    },
    {
     "name": "stdout",
     "output_type": "stream",
     "text": [
      "\u001B[1m37/37\u001B[0m \u001B[32m━━━━━━━━━━━━━━━━━━━━\u001B[0m\u001B[37m\u001B[0m \u001B[1m86s\u001B[0m 1s/step - IoU: 0.3372 - loss: 19.3317 - val_IoU: 0.2500 - val_loss: 14.2737\n",
      "Epoch 2/20\n",
      "\u001B[1m37/37\u001B[0m \u001B[32m━━━━━━━━━━━━━━━━━━━━\u001B[0m\u001B[37m\u001B[0m \u001B[1m20s\u001B[0m 541ms/step - IoU: 0.2513 - loss: 13.0716 - val_IoU: 0.2636 - val_loss: 9.8495\n",
      "Epoch 3/20\n",
      "\u001B[1m37/37\u001B[0m \u001B[32m━━━━━━━━━━━━━━━━━━━━\u001B[0m\u001B[37m\u001B[0m \u001B[1m20s\u001B[0m 548ms/step - IoU: 0.2689 - loss: 8.9964 - val_IoU: 0.2864 - val_loss: 6.7221\n",
      "Epoch 4/20\n",
      "\u001B[1m37/37\u001B[0m \u001B[32m━━━━━━━━━━━━━━━━━━━━\u001B[0m\u001B[37m\u001B[0m \u001B[1m21s\u001B[0m 555ms/step - IoU: 0.2952 - loss: 6.1264 - val_IoU: 0.3200 - val_loss: 4.5408\n",
      "Epoch 5/20\n"
     ]
    },
    {
     "name": "stderr",
     "output_type": "stream",
     "text": [
      "2025-01-06 22:30:02.762924: W tensorflow/core/kernels/data/prefetch_autotuner.cc:52] Prefetch autotuner tried to allocate 41943040 bytes after encountering the first element of size 41943040 bytes.This already causes the autotune ram budget to be exceeded. To stay within the ram budget, either increase the ram budget or reduce element size\n"
     ]
    },
    {
     "name": "stdout",
     "output_type": "stream",
     "text": [
      "\u001B[1m37/37\u001B[0m \u001B[32m━━━━━━━━━━━━━━━━━━━━\u001B[0m\u001B[37m\u001B[0m \u001B[1m20s\u001B[0m 540ms/step - IoU: 0.3319 - loss: 4.1262 - val_IoU: 0.3655 - val_loss: 3.0381\n",
      "Epoch 6/20\n",
      "\u001B[1m37/37\u001B[0m \u001B[32m━━━━━━━━━━━━━━━━━━━━\u001B[0m\u001B[37m\u001B[0m \u001B[1m21s\u001B[0m 564ms/step - IoU: 0.3804 - loss: 2.7540 - val_IoU: 0.4185 - val_loss: 2.0150\n",
      "Epoch 7/20\n",
      "\u001B[1m37/37\u001B[0m \u001B[32m━━━━━━━━━━━━━━━━━━━━\u001B[0m\u001B[37m\u001B[0m \u001B[1m20s\u001B[0m 547ms/step - IoU: 0.4336 - loss: 1.8217 - val_IoU: 0.4688 - val_loss: 1.3266\n",
      "Epoch 8/20\n",
      "\u001B[1m37/37\u001B[0m \u001B[32m━━━━━━━━━━━━━━━━━━━━\u001B[0m\u001B[37m\u001B[0m \u001B[1m20s\u001B[0m 552ms/step - IoU: 0.4808 - loss: 1.2047 - val_IoU: 0.4939 - val_loss: 0.8685\n",
      "Epoch 9/20\n",
      "\u001B[1m37/37\u001B[0m \u001B[32m━━━━━━━━━━━━━━━━━━━━\u001B[0m\u001B[37m\u001B[0m \u001B[1m20s\u001B[0m 532ms/step - IoU: 0.4934 - loss: 0.7904 - val_IoU: 0.4920 - val_loss: 0.5669\n",
      "Epoch 10/20\n",
      "\u001B[1m37/37\u001B[0m \u001B[32m━━━━━━━━━━━━━━━━━━━━\u001B[0m\u001B[37m\u001B[0m \u001B[1m19s\u001B[0m 522ms/step - IoU: 0.4915 - loss: 0.5172 - val_IoU: 0.4905 - val_loss: 0.3702\n",
      "Epoch 11/20\n",
      "\u001B[1m37/37\u001B[0m \u001B[32m━━━━━━━━━━━━━━━━━━━━\u001B[0m\u001B[37m\u001B[0m \u001B[1m20s\u001B[0m 534ms/step - IoU: 0.4901 - loss: 0.3364 - val_IoU: 0.4896 - val_loss: 0.2432\n",
      "Epoch 12/20\n",
      "\u001B[1m37/37\u001B[0m \u001B[32m━━━━━━━━━━━━━━━━━━━━\u001B[0m\u001B[37m\u001B[0m \u001B[1m20s\u001B[0m 541ms/step - IoU: 0.4895 - loss: 0.2251 - val_IoU: 0.4894 - val_loss: 0.1618\n",
      "Epoch 13/20\n",
      "\u001B[1m37/37\u001B[0m \u001B[32m━━━━━━━━━━━━━━━━━━━━\u001B[0m\u001B[37m\u001B[0m \u001B[1m19s\u001B[0m 522ms/step - IoU: 0.4893 - loss: 0.1500 - val_IoU: 0.4893 - val_loss: 0.1101\n",
      "Epoch 14/20\n",
      "\u001B[1m37/37\u001B[0m \u001B[32m━━━━━━━━━━━━━━━━━━━━\u001B[0m\u001B[37m\u001B[0m \u001B[1m20s\u001B[0m 540ms/step - IoU: 0.4893 - loss: 0.1010 - val_IoU: 0.4892 - val_loss: 0.0776\n",
      "Epoch 15/20\n",
      "\u001B[1m37/37\u001B[0m \u001B[32m━━━━━━━━━━━━━━━━━━━━\u001B[0m\u001B[37m\u001B[0m \u001B[1m26s\u001B[0m 695ms/step - IoU: 0.4892 - loss: 0.0741 - val_IoU: 0.4892 - val_loss: 0.0572\n",
      "Epoch 16/20\n",
      "\u001B[1m37/37\u001B[0m \u001B[32m━━━━━━━━━━━━━━━━━━━━\u001B[0m\u001B[37m\u001B[0m \u001B[1m35s\u001B[0m 532ms/step - IoU: 0.4892 - loss: 0.0568 - val_IoU: 0.4892 - val_loss: 0.0445\n",
      "Epoch 17/20\n",
      "\u001B[1m37/37\u001B[0m \u001B[32m━━━━━━━━━━━━━━━━━━━━\u001B[0m\u001B[37m\u001B[0m \u001B[1m20s\u001B[0m 540ms/step - IoU: 0.4892 - loss: 0.0423 - val_IoU: 0.4891 - val_loss: 0.0367\n",
      "Epoch 18/20\n",
      "\u001B[1m25/37\u001B[0m \u001B[32m━━━━━━━━━━━━━\u001B[0m\u001B[37m━━━━━━━\u001B[0m \u001B[1m6s\u001B[0m 524ms/step - IoU: 0.4891 - loss: 0.0403"
     ]
    },
    {
     "ename": "KeyboardInterrupt",
     "evalue": "",
     "output_type": "error",
     "traceback": [
      "\u001B[0;31m---------------------------------------------------------------------------\u001B[0m",
      "\u001B[0;31mKeyboardInterrupt\u001B[0m                         Traceback (most recent call last)",
      "Cell \u001B[0;32mIn[8], line 1\u001B[0m\n\u001B[0;32m----> 1\u001B[0m \u001B[43mtrain\u001B[49m\u001B[43m(\u001B[49m\u001B[43mruns\u001B[49m\u001B[43m)\u001B[49m\n",
      "Cell \u001B[0;32mIn[7], line 32\u001B[0m, in \u001B[0;36mtrain\u001B[0;34m(run_ids)\u001B[0m\n\u001B[1;32m     29\u001B[0m mask \u001B[38;5;241m=\u001B[39m to_categorical(mask, num_classes\u001B[38;5;241m=\u001B[39m\u001B[38;5;241m7\u001B[39m)\n\u001B[1;32m     31\u001B[0m x_train, x_test, y_train, y_test \u001B[38;5;241m=\u001B[39m train_test_split(tomogram, mask, test_size\u001B[38;5;241m=\u001B[39m\u001B[38;5;241m0.1\u001B[39m, random_state\u001B[38;5;241m=\u001B[39m\u001B[38;5;241m42\u001B[39m)\n\u001B[0;32m---> 32\u001B[0m \u001B[43mmodel\u001B[49m\u001B[38;5;241;43m.\u001B[39;49m\u001B[43mfit\u001B[49m\u001B[43m(\u001B[49m\u001B[43mx_train\u001B[49m\u001B[43m,\u001B[49m\u001B[43m \u001B[49m\u001B[43my_train\u001B[49m\u001B[43m,\u001B[49m\u001B[43mepochs\u001B[49m\u001B[38;5;241;43m=\u001B[39;49m\u001B[38;5;241;43m20\u001B[39;49m\u001B[43m,\u001B[49m\u001B[43m \u001B[49m\u001B[43mbatch_size\u001B[49m\u001B[38;5;241;43m=\u001B[39;49m\u001B[38;5;241;43m4\u001B[39;49m\u001B[43m,\u001B[49m\u001B[43m \u001B[49m\u001B[43mvalidation_data\u001B[49m\u001B[38;5;241;43m=\u001B[39;49m\u001B[43m(\u001B[49m\u001B[43mx_test\u001B[49m\u001B[43m,\u001B[49m\u001B[43m \u001B[49m\u001B[43my_test\u001B[49m\u001B[43m)\u001B[49m\u001B[43m)\u001B[49m\n\u001B[1;32m     34\u001B[0m \u001B[38;5;28mprint\u001B[39m(\u001B[38;5;124mf\u001B[39m\u001B[38;5;124m'\u001B[39m\u001B[38;5;124mTraining done for Run_id:\u001B[39m\u001B[38;5;132;01m{\u001B[39;00mrun_id\u001B[38;5;132;01m}\u001B[39;00m\u001B[38;5;124m'\u001B[39m)\n",
      "File \u001B[0;32m~/miniconda3/envs/Deeplearning/lib/python3.10/site-packages/keras/src/utils/traceback_utils.py:117\u001B[0m, in \u001B[0;36mfilter_traceback.<locals>.error_handler\u001B[0;34m(*args, **kwargs)\u001B[0m\n\u001B[1;32m    115\u001B[0m filtered_tb \u001B[38;5;241m=\u001B[39m \u001B[38;5;28;01mNone\u001B[39;00m\n\u001B[1;32m    116\u001B[0m \u001B[38;5;28;01mtry\u001B[39;00m:\n\u001B[0;32m--> 117\u001B[0m     \u001B[38;5;28;01mreturn\u001B[39;00m \u001B[43mfn\u001B[49m\u001B[43m(\u001B[49m\u001B[38;5;241;43m*\u001B[39;49m\u001B[43margs\u001B[49m\u001B[43m,\u001B[49m\u001B[43m \u001B[49m\u001B[38;5;241;43m*\u001B[39;49m\u001B[38;5;241;43m*\u001B[39;49m\u001B[43mkwargs\u001B[49m\u001B[43m)\u001B[49m\n\u001B[1;32m    118\u001B[0m \u001B[38;5;28;01mexcept\u001B[39;00m \u001B[38;5;167;01mException\u001B[39;00m \u001B[38;5;28;01mas\u001B[39;00m e:\n\u001B[1;32m    119\u001B[0m     filtered_tb \u001B[38;5;241m=\u001B[39m _process_traceback_frames(e\u001B[38;5;241m.\u001B[39m__traceback__)\n",
      "File \u001B[0;32m~/miniconda3/envs/Deeplearning/lib/python3.10/site-packages/keras/src/backend/tensorflow/trainer.py:368\u001B[0m, in \u001B[0;36mTensorFlowTrainer.fit\u001B[0;34m(self, x, y, batch_size, epochs, verbose, callbacks, validation_split, validation_data, shuffle, class_weight, sample_weight, initial_epoch, steps_per_epoch, validation_steps, validation_batch_size, validation_freq)\u001B[0m\n\u001B[1;32m    366\u001B[0m \u001B[38;5;28;01mfor\u001B[39;00m step, iterator \u001B[38;5;129;01min\u001B[39;00m epoch_iterator:\n\u001B[1;32m    367\u001B[0m     callbacks\u001B[38;5;241m.\u001B[39mon_train_batch_begin(step)\n\u001B[0;32m--> 368\u001B[0m     logs \u001B[38;5;241m=\u001B[39m \u001B[38;5;28;43mself\u001B[39;49m\u001B[38;5;241;43m.\u001B[39;49m\u001B[43mtrain_function\u001B[49m\u001B[43m(\u001B[49m\u001B[43miterator\u001B[49m\u001B[43m)\u001B[49m\n\u001B[1;32m    369\u001B[0m     callbacks\u001B[38;5;241m.\u001B[39mon_train_batch_end(step, logs)\n\u001B[1;32m    370\u001B[0m     \u001B[38;5;28;01mif\u001B[39;00m \u001B[38;5;28mself\u001B[39m\u001B[38;5;241m.\u001B[39mstop_training:\n",
      "File \u001B[0;32m~/miniconda3/envs/Deeplearning/lib/python3.10/site-packages/keras/src/backend/tensorflow/trainer.py:217\u001B[0m, in \u001B[0;36mTensorFlowTrainer._make_function.<locals>.function\u001B[0;34m(iterator)\u001B[0m\n\u001B[1;32m    213\u001B[0m \u001B[38;5;28;01mif\u001B[39;00m \u001B[38;5;28misinstance\u001B[39m(\n\u001B[1;32m    214\u001B[0m     iterator, (tf\u001B[38;5;241m.\u001B[39mdata\u001B[38;5;241m.\u001B[39mIterator, tf\u001B[38;5;241m.\u001B[39mdistribute\u001B[38;5;241m.\u001B[39mDistributedIterator)\n\u001B[1;32m    215\u001B[0m ):\n\u001B[1;32m    216\u001B[0m     opt_outputs \u001B[38;5;241m=\u001B[39m multi_step_on_iterator(iterator)\n\u001B[0;32m--> 217\u001B[0m     \u001B[38;5;28;01mif\u001B[39;00m \u001B[38;5;129;01mnot\u001B[39;00m \u001B[43mopt_outputs\u001B[49m\u001B[38;5;241;43m.\u001B[39;49m\u001B[43mhas_value\u001B[49m\u001B[43m(\u001B[49m\u001B[43m)\u001B[49m:\n\u001B[1;32m    218\u001B[0m         \u001B[38;5;28;01mraise\u001B[39;00m \u001B[38;5;167;01mStopIteration\u001B[39;00m\n\u001B[1;32m    219\u001B[0m     \u001B[38;5;28;01mreturn\u001B[39;00m opt_outputs\u001B[38;5;241m.\u001B[39mget_value()\n",
      "File \u001B[0;32m~/miniconda3/envs/Deeplearning/lib/python3.10/site-packages/tensorflow/python/data/ops/optional_ops.py:176\u001B[0m, in \u001B[0;36m_OptionalImpl.has_value\u001B[0;34m(self, name)\u001B[0m\n\u001B[1;32m    174\u001B[0m \u001B[38;5;28;01mdef\u001B[39;00m\u001B[38;5;250m \u001B[39m\u001B[38;5;21mhas_value\u001B[39m(\u001B[38;5;28mself\u001B[39m, name\u001B[38;5;241m=\u001B[39m\u001B[38;5;28;01mNone\u001B[39;00m):\n\u001B[1;32m    175\u001B[0m   \u001B[38;5;28;01mwith\u001B[39;00m ops\u001B[38;5;241m.\u001B[39mcolocate_with(\u001B[38;5;28mself\u001B[39m\u001B[38;5;241m.\u001B[39m_variant_tensor):\n\u001B[0;32m--> 176\u001B[0m     \u001B[38;5;28;01mreturn\u001B[39;00m \u001B[43mgen_optional_ops\u001B[49m\u001B[38;5;241;43m.\u001B[39;49m\u001B[43moptional_has_value\u001B[49m\u001B[43m(\u001B[49m\n\u001B[1;32m    177\u001B[0m \u001B[43m        \u001B[49m\u001B[38;5;28;43mself\u001B[39;49m\u001B[38;5;241;43m.\u001B[39;49m\u001B[43m_variant_tensor\u001B[49m\u001B[43m,\u001B[49m\u001B[43m \u001B[49m\u001B[43mname\u001B[49m\u001B[38;5;241;43m=\u001B[39;49m\u001B[43mname\u001B[49m\n\u001B[1;32m    178\u001B[0m \u001B[43m    \u001B[49m\u001B[43m)\u001B[49m\n",
      "File \u001B[0;32m~/miniconda3/envs/Deeplearning/lib/python3.10/site-packages/tensorflow/python/ops/gen_optional_ops.py:172\u001B[0m, in \u001B[0;36moptional_has_value\u001B[0;34m(optional, name)\u001B[0m\n\u001B[1;32m    170\u001B[0m \u001B[38;5;28;01mif\u001B[39;00m tld\u001B[38;5;241m.\u001B[39mis_eager:\n\u001B[1;32m    171\u001B[0m   \u001B[38;5;28;01mtry\u001B[39;00m:\n\u001B[0;32m--> 172\u001B[0m     _result \u001B[38;5;241m=\u001B[39m \u001B[43mpywrap_tfe\u001B[49m\u001B[38;5;241;43m.\u001B[39;49m\u001B[43mTFE_Py_FastPathExecute\u001B[49m\u001B[43m(\u001B[49m\n\u001B[1;32m    173\u001B[0m \u001B[43m      \u001B[49m\u001B[43m_ctx\u001B[49m\u001B[43m,\u001B[49m\u001B[43m \u001B[49m\u001B[38;5;124;43m\"\u001B[39;49m\u001B[38;5;124;43mOptionalHasValue\u001B[39;49m\u001B[38;5;124;43m\"\u001B[39;49m\u001B[43m,\u001B[49m\u001B[43m \u001B[49m\u001B[43mname\u001B[49m\u001B[43m,\u001B[49m\u001B[43m \u001B[49m\u001B[43moptional\u001B[49m\u001B[43m)\u001B[49m\n\u001B[1;32m    174\u001B[0m     \u001B[38;5;28;01mreturn\u001B[39;00m _result\n\u001B[1;32m    175\u001B[0m   \u001B[38;5;28;01mexcept\u001B[39;00m _core\u001B[38;5;241m.\u001B[39m_NotOkStatusException \u001B[38;5;28;01mas\u001B[39;00m e:\n",
      "\u001B[0;31mKeyboardInterrupt\u001B[0m: "
     ]
    }
   ],
   "execution_count": 8
  },
  {
   "metadata": {},
   "cell_type": "code",
   "source": "",
   "id": "31e45223149c2480",
   "outputs": [],
   "execution_count": null
  }
 ],
 "metadata": {
  "kernelspec": {
   "display_name": "Python 3 (ipykernel)",
   "language": "python",
   "name": "python3"
  },
  "language_info": {
   "codemirror_mode": {
    "name": "ipython",
    "version": 3
   },
   "file_extension": ".py",
   "mimetype": "text/x-python",
   "name": "python",
   "nbconvert_exporter": "python",
   "pygments_lexer": "ipython3",
   "version": "3.9.20"
  }
 },
 "nbformat": 4,
 "nbformat_minor": 5
}
