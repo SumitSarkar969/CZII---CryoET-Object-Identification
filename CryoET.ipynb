{
 "cells": [
  {
   "cell_type": "code",
   "id": "1969015e3aa97441",
   "metadata": {
    "ExecuteTime": {
     "end_time": "2025-01-08T18:18:57.787931Z",
     "start_time": "2025-01-08T18:18:57.776801Z"
    }
   },
   "source": [
    "from deepfindET.utils import copick_tools\n",
    "import copick\n",
    "import os\n",
    "import numpy as np\n",
    "from patchify import patchify\n",
    "from tensorflow.python.keras.utils.np_utils import to_categorical\n",
    "from sklearn.model_selection import train_test_split\n",
    "import keras._tf_keras.keras as keras"
   ],
   "outputs": [],
   "execution_count": 13
  },
  {
   "cell_type": "code",
   "id": "ad7984e48b5dbf63",
   "metadata": {
    "ExecuteTime": {
     "end_time": "2025-01-08T18:18:58.342195Z",
     "start_time": "2025-01-08T18:18:58.328892Z"
    }
   },
   "source": [
    "copick_config_path = \"working/copick.json\"\n",
    "copick_root = copick.from_file(copick_config_path)\n",
    "\n",
    "runs = os.listdir('Extracted_Data/train/static/ExperimentRuns')\n",
    "voxel_size = 10\n",
    "tomogram_algo = 'denoised'\n",
    "\n",
    "out_name = 'remotetargets'\n",
    "out_user_id = 'deepfindET'\n",
    "out_session_id = '0'"
   ],
   "outputs": [],
   "execution_count": 14
  },
  {
   "cell_type": "code",
   "id": "644df558-b9bb-4a1d-bbac-d514b046853c",
   "metadata": {
    "ExecuteTime": {
     "end_time": "2025-01-08T18:18:58.850805Z",
     "start_time": "2025-01-08T18:18:58.841211Z"
    }
   },
   "source": [
    "def get_tomogram(run_id):\n",
    "    return np.array(copick_tools.get_copick_tomogram(copick_root,\n",
    "                                                voxelSize = voxel_size,\n",
    "                                                tomoAlgorithm=tomogram_algo,\n",
    "                                                tomoID=run_id))\n",
    "\n",
    "def get_mask(run_id):\n",
    "    return np.array(copick_tools.get_copick_segmentation(copick_root.get_run(run_id),\n",
    "                                                segmentationName=out_name,\n",
    "                                                userID=out_user_id,\n",
    "                                                sessionID=out_session_id))\n",
    "\n",
    "def shape_t(obj):\n",
    "    obj = patchify(obj, (64, 64, 64), step=64)\n",
    "    obj = np.reshape(obj, (-1, obj.shape[3], obj.shape[4], obj.shape[5]))\n",
    "    return obj\n",
    "\n",
    "\n",
    "def tomograms():\n",
    "    tomogram = np.array([shape_t(get_tomogram(i)) for i in runs])\n",
    "    tomogram = np.reshape(tomogram, (-1, tomogram.shape[2], tomogram.shape[3], tomogram.shape[4]))\n",
    "    tomogram = np.stack((tomogram,)*3, axis=-1)\n",
    "    return tomogram\n",
    "def masks():\n",
    "    mask = np.array([shape_t(get_mask(i)) for i in runs])\n",
    "    mask = np.reshape(mask, (-1, mask.shape[2], mask.shape[3], mask.shape[4]))\n",
    "    mask = to_categorical(masks,num_classes = 7)\n",
    "    return mask\n",
    "    "
   ],
   "outputs": [],
   "execution_count": 15
  },
  {
   "cell_type": "code",
   "id": "b829c924-35f0-45ad-8cc9-d22f5832841e",
   "metadata": {
    "ExecuteTime": {
     "end_time": "2025-01-08T18:19:12.286309Z",
     "start_time": "2025-01-08T18:18:59.817948Z"
    }
   },
   "source": "y_train,y_test = train_test_split(masks(), test_size = 0.2)",
   "outputs": [],
   "execution_count": 16
  },
  {
   "metadata": {
    "ExecuteTime": {
     "end_time": "2025-01-08T18:19:42.612782Z",
     "start_time": "2025-01-08T18:19:33.379224Z"
    }
   },
   "cell_type": "code",
   "source": "x_train, x_test = train_test_split(tomograms(), test_size=0.2)",
   "id": "4bc84f730d28a59b",
   "outputs": [],
   "execution_count": 17
  },
  {
   "metadata": {
    "ExecuteTime": {
     "end_time": "2025-01-08T18:19:52.597891Z",
     "start_time": "2025-01-08T18:19:46.295474Z"
    }
   },
   "cell_type": "code",
   "source": [
    "# training\n",
    "np.save('working/Temp_Data/train/x_train.npy', x_train)\n",
    "np.save('working/Temp_Data/train/y_train.npy', y_train)\n",
    "\n",
    "#testing\n",
    "np.save('working/Temp_Data/test/x_test.npy', x_test)\n",
    "np.save('working/Temp_Data/test/y_test.npy', y_test)\n",
    "\n",
    "# Freeing the memory\n",
    "del x_train, x_test, y_train, y_test"
   ],
   "id": "703f71018941a1c0",
   "outputs": [],
   "execution_count": 18
  },
  {
   "metadata": {
    "ExecuteTime": {
     "end_time": "2025-01-08T18:20:09.925807Z",
     "start_time": "2025-01-08T18:19:54.177527Z"
    }
   },
   "cell_type": "code",
   "source": [
    "x_train, x_val, y_train, y_val = train_test_split(np.load('working/Temp_Data/train/x_train.npy', mmap_mode='r'),\n",
    "                                                  np.load('working/Temp_Data/train/y_train.npy', mmap_mode='r'),\n",
    "                                                  test_size = 0.2)\n",
    "# training\n",
    "np.save('working/Temp_Data/train/x_train.npy', x_train)\n",
    "np.save('working/Temp_Data/train/y_train.npy', y_train)\n",
    "\n",
    "#validation\n",
    "np.save('working/Temp_Data/val/x_val.npy', x_val)\n",
    "np.save('working/Temp_Data/val/y_val.npy', y_val)\n",
    "\n",
    "del x_train, x_val, y_train, y_val"
   ],
   "id": "2b25c500455a16d1",
   "outputs": [],
   "execution_count": 19
  },
  {
   "metadata": {
    "ExecuteTime": {
     "end_time": "2025-01-08T17:31:40.680338Z",
     "start_time": "2025-01-08T17:31:40.676486Z"
    }
   },
   "cell_type": "code",
   "source": [
    "class generator(keras.utils.Sequence):\n",
    "    def __init__(self, data, labels, batch_size):\n",
    "        super(generator, self).__init__()\n",
    "        self.x_train = data\n",
    "        self.y_train = labels\n",
    "        self.batch_size = batch_size\n",
    "\n",
    "    def __len__(self):\n",
    "        return (np.ceil(len(self.x_train) / self.batch_size)).astype(np.int16)\n",
    "\n",
    "    def __getitem__(self, idx):\n",
    "        batch_x = self.x_train[idx * self.batch_size:(idx + 1) * self.batch_size]\n",
    "        batch_y = self.y_train[idx * self.batch_size:(idx + 1) * self.batch_size]\n",
    "        return batch_x, batch_y"
   ],
   "id": "26c9e79734bae8b1",
   "outputs": [],
   "execution_count": 4
  },
  {
   "metadata": {},
   "cell_type": "code",
   "source": [
    "x_train = np.load('working/Temp_Data/train/x_train.npy', mmap_mode='r')\n",
    "y_train = np.load('working/Temp_Data/train/y_train.npy', mmap_mode='r')\n",
    "\n",
    "x_val = np.load('working/Temp_Data/val/x_val.npy', mmap_mode='r')\n",
    "y_val = np.load('working/Temp_Data/val/y_val.npy', mmap_mode='r')\n",
    "\n",
    "train_generator = generator(x_train, y_train, 4)\n",
    "val_generator = generator(x_val, y_val, 4)"
   ],
   "id": "39139a900bd231b4",
   "outputs": [],
   "execution_count": null
  },
  {
   "metadata": {},
   "cell_type": "code",
   "outputs": [],
   "execution_count": null,
   "source": "",
   "id": "80f2913becdd8031"
  }
 ],
 "metadata": {
  "kernelspec": {
   "display_name": "Python 3 (ipykernel)",
   "language": "python",
   "name": "python3"
  },
  "language_info": {
   "codemirror_mode": {
    "name": "ipython",
    "version": 3
   },
   "file_extension": ".py",
   "mimetype": "text/x-python",
   "name": "python",
   "nbconvert_exporter": "python",
   "pygments_lexer": "ipython3",
   "version": "3.10.16"
  }
 },
 "nbformat": 4,
 "nbformat_minor": 5
}
