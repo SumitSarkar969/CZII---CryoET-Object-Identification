{
 "cells": [
  {
   "cell_type": "code",
   "id": "1969015e3aa97441",
   "metadata": {
    "ExecuteTime": {
     "end_time": "2025-01-07T17:22:49.781325Z",
     "start_time": "2025-01-07T17:22:46.040935Z"
    }
   },
   "source": [
    "from deepfindET.utils import copick_tools\n",
    "import copick\n",
    "import os\n",
    "import numpy as np\n",
    "from patchify import patchify\n",
    "from tensorflow.python.keras.utils.np_utils import to_categorical\n",
    "from sklearn.model_selection import train_test_split"
   ],
   "outputs": [
    {
     "name": "stderr",
     "output_type": "stream",
     "text": [
      "2025-01-07 22:52:47.744386: I tensorflow/core/util/port.cc:153] oneDNN custom operations are on. You may see slightly different numerical results due to floating-point round-off errors from different computation orders. To turn them off, set the environment variable `TF_ENABLE_ONEDNN_OPTS=0`.\n",
      "2025-01-07 22:52:47.852042: E external/local_xla/xla/stream_executor/cuda/cuda_fft.cc:477] Unable to register cuFFT factory: Attempting to register factory for plugin cuFFT when one has already been registered\n",
      "WARNING: All log messages before absl::InitializeLog() is called are written to STDERR\n",
      "E0000 00:00:1736270567.893666  119631 cuda_dnn.cc:8310] Unable to register cuDNN factory: Attempting to register factory for plugin cuDNN when one has already been registered\n",
      "E0000 00:00:1736270567.906363  119631 cuda_blas.cc:1418] Unable to register cuBLAS factory: Attempting to register factory for plugin cuBLAS when one has already been registered\n",
      "2025-01-07 22:52:48.003980: I tensorflow/core/platform/cpu_feature_guard.cc:210] This TensorFlow binary is optimized to use available CPU instructions in performance-critical operations.\n",
      "To enable the following instructions: AVX2 AVX_VNNI FMA, in other operations, rebuild TensorFlow with the appropriate compiler flags.\n"
     ]
    }
   ],
   "execution_count": 1
  },
  {
   "cell_type": "code",
   "id": "ad7984e48b5dbf63",
   "metadata": {
    "ExecuteTime": {
     "end_time": "2025-01-07T17:22:49.792133Z",
     "start_time": "2025-01-07T17:22:49.784846Z"
    }
   },
   "source": [
    "copick_config_path = \"working/copick.json\"\n",
    "copick_root = copick.from_file(copick_config_path)\n",
    "\n",
    "runs = os.listdir('Extracted_Data/train/static/ExperimentRuns')\n",
    "voxel_size = 10\n",
    "tomogram_algo = 'denoised'\n",
    "\n",
    "out_name = 'remotetargets'\n",
    "out_user_id = 'deepfindET'\n",
    "out_session_id = '0'"
   ],
   "outputs": [],
   "execution_count": 2
  },
  {
   "cell_type": "code",
   "id": "644df558-b9bb-4a1d-bbac-d514b046853c",
   "metadata": {
    "ExecuteTime": {
     "end_time": "2025-01-07T17:22:52.773184Z",
     "start_time": "2025-01-07T17:22:52.768435Z"
    }
   },
   "source": [
    "def get_tomogram(run_id):\n",
    "    return np.array(copick_tools.get_copick_tomogram(copick_root,\n",
    "                                                voxelSize = voxel_size,\n",
    "                                                tomoAlgorithm=tomogram_algo,\n",
    "                                                tomoID=run_id))\n",
    "\n",
    "def get_mask(run_id):\n",
    "    return np.array(copick_tools.get_copick_segmentation(copick_root.get_run(run_id),\n",
    "                                                segmentationName=out_name,\n",
    "                                                userID=out_user_id,\n",
    "                                                sessionID=out_session_id))\n",
    "\n",
    "def shape_t(obj):\n",
    "    obj = patchify(obj, (128, 128, 128), step=128)\n",
    "    obj = np.reshape(obj, (-1, obj.shape[3], obj.shape[4], obj.shape[5]))\n",
    "    return obj\n",
    "\n",
    "\n",
    "def tomograms():\n",
    "    tomograms = np.array([shape_t(get_tomogram(i)) for i in runs])\n",
    "    tomograms = np.reshape(tomograms, (-1, tomograms.shape[2], tomograms.shape[3], tomograms.shape[4]))\n",
    "    tomograms = np.stack((tomograms,)*3, axis=-1)\n",
    "    return tomograms\n",
    "def masks():\n",
    "    masks = np.array([shape_t(get_mask(i)) for i in runs])\n",
    "    masks = np.reshape(masks, (-1, masks.shape[2], masks.shape[3], masks.shape[4]))\n",
    "    masks = to_categorical(masks,num_classes = 7)\n",
    "    return masks\n",
    "    "
   ],
   "outputs": [],
   "execution_count": 3
  },
  {
   "cell_type": "code",
   "id": "b829c924-35f0-45ad-8cc9-d22f5832841e",
   "metadata": {
    "ExecuteTime": {
     "end_time": "2025-01-07T17:22:57.417946Z",
     "start_time": "2025-01-07T17:22:53.845830Z"
    }
   },
   "source": "y_train,y_test = train_test_split(masks(), test_size = 0.2)",
   "outputs": [],
   "execution_count": 4
  },
  {
   "metadata": {
    "ExecuteTime": {
     "end_time": "2025-01-07T17:23:29.407094Z",
     "start_time": "2025-01-07T17:23:25.748482Z"
    }
   },
   "cell_type": "code",
   "source": "x_train, x_test = train_test_split(tomograms(), test_size=0.2)",
   "id": "4bc84f730d28a59b",
   "outputs": [],
   "execution_count": 5
  },
  {
   "metadata": {
    "ExecuteTime": {
     "end_time": "2025-01-07T17:23:50.288462Z",
     "start_time": "2025-01-07T17:23:46.684814Z"
    }
   },
   "cell_type": "code",
   "source": [
    "# training\n",
    "np.save('working/Temp_Data/train/x_train.npy', x_train)\n",
    "np.save('working/Temp_Data/train/y_train.npy', y_train)\n",
    "\n",
    "#testing\n",
    "np.save('working/Temp_Data/test/x_test.npy', x_test)\n",
    "np.save('working/Temp_Data/test/y_train.npy', y_test)\n",
    "\n",
    "# Freeing the memory\n",
    "del x_train, x_test, y_train, y_test"
   ],
   "id": "2b25c500455a16d1",
   "outputs": [],
   "execution_count": 6
  },
  {
   "metadata": {},
   "cell_type": "code",
   "outputs": [],
   "execution_count": null,
   "source": "",
   "id": "26c9e79734bae8b1"
  }
 ],
 "metadata": {
  "kernelspec": {
   "display_name": "Python 3 (ipykernel)",
   "language": "python",
   "name": "python3"
  },
  "language_info": {
   "codemirror_mode": {
    "name": "ipython",
    "version": 3
   },
   "file_extension": ".py",
   "mimetype": "text/x-python",
   "name": "python",
   "nbconvert_exporter": "python",
   "pygments_lexer": "ipython3",
   "version": "3.10.16"
  }
 },
 "nbformat": 4,
 "nbformat_minor": 5
}
